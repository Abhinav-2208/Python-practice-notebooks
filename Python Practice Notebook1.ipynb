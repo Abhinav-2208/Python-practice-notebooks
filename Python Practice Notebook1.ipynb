{
 "cells": [
  {
   "cell_type": "markdown",
   "id": "e9d42723",
   "metadata": {},
   "source": [
    "## 1. Python output"
   ]
  },
  {
   "cell_type": "code",
   "execution_count": 1,
   "id": "51bcb9e9",
   "metadata": {},
   "outputs": [
    {
     "name": "stdout",
     "output_type": "stream",
     "text": [
      "Namaste duniya\n",
      "7\n",
      "True\n"
     ]
    },
    {
     "data": {
      "text/plain": [
       "(None, None, None)"
      ]
     },
     "execution_count": 1,
     "metadata": {},
     "output_type": "execute_result"
    }
   ],
   "source": [
    "print('Namaste duniya'),print(7),print(True)"
   ]
  },
  {
   "cell_type": "code",
   "execution_count": 2,
   "id": "b50fc048",
   "metadata": {},
   "outputs": [
    {
     "name": "stdout",
     "output_type": "stream",
     "text": [
      "Abhinav 4 6.7 True\n"
     ]
    }
   ],
   "source": [
    "print('Abhinav',4,6.7,True)"
   ]
  },
  {
   "cell_type": "markdown",
   "id": "d03e5e3f",
   "metadata": {},
   "source": [
    "Separator is used to separate the values in the print function by default is space ' ', when we used end='/n' is by default when we use two print statement "
   ]
  },
  {
   "cell_type": "code",
   "execution_count": 3,
   "id": "0e8c8b59",
   "metadata": {},
   "outputs": [
    {
     "name": "stdout",
     "output_type": "stream",
     "text": [
      "DOB of Abhinav i /22/8/2000\n"
     ]
    }
   ],
   "source": [
    "print('DOB of Abhinav i ',22,8,2000,sep='/')"
   ]
  },
  {
   "cell_type": "code",
   "execution_count": 4,
   "id": "4897e6d4",
   "metadata": {},
   "outputs": [
    {
     "name": "stdout",
     "output_type": "stream",
     "text": [
      "hello\n",
      "world\n"
     ]
    }
   ],
   "source": [
    "print('hello')\n",
    "print('world')"
   ]
  },
  {
   "cell_type": "code",
   "execution_count": 5,
   "id": "a24aae77",
   "metadata": {},
   "outputs": [
    {
     "name": "stdout",
     "output_type": "stream",
     "text": [
      "hello-world\n"
     ]
    }
   ],
   "source": [
    "print('hello',end='-')\n",
    "print('world')"
   ]
  },
  {
   "cell_type": "markdown",
   "id": "9cb816f0",
   "metadata": {},
   "source": [
    "## 2. Data types "
   ]
  },
  {
   "cell_type": "markdown",
   "id": "861c4690",
   "metadata": {},
   "source": [
    "1. Integer -->Python accept the integer about 1*10^308 after it return infinity\n",
    "2. Decimal/float --> Python accepts the decimal values like 5.4,maximum float value accepted by python is 1.7e308 after it return inf\n",
    "3. Boolean --> True/False, it is not a string\n",
    "4. Text/string --> it is written in single qoat or double\n",
    "5. Complex --> a+bj\n",
    "6. list -->\n",
    "7. Tuple --> \n",
    "8. Sets --> \n",
    "9. Dictionary -->"
   ]
  },
  {
   "cell_type": "code",
   "execution_count": 6,
   "id": "bf9995db",
   "metadata": {},
   "outputs": [
    {
     "name": "stdout",
     "output_type": "stream",
     "text": [
      "6\n",
      "1e+308\n",
      "inf\n"
     ]
    },
    {
     "data": {
      "text/plain": [
       "(None, None, None)"
      ]
     },
     "execution_count": 6,
     "metadata": {},
     "output_type": "execute_result"
    }
   ],
   "source": [
    "print(6),print(1e308),print(1e309)"
   ]
  },
  {
   "cell_type": "code",
   "execution_count": 7,
   "id": "46f5a991",
   "metadata": {},
   "outputs": [
    {
     "name": "stdout",
     "output_type": "stream",
     "text": [
      "5.4\n",
      "1.7e+308\n",
      "inf\n"
     ]
    },
    {
     "data": {
      "text/plain": [
       "(None, None, None)"
      ]
     },
     "execution_count": 7,
     "metadata": {},
     "output_type": "execute_result"
    }
   ],
   "source": [
    "print(5.4),print(1.7e308),print(1.7e309)"
   ]
  },
  {
   "cell_type": "code",
   "execution_count": 8,
   "id": "6850b133",
   "metadata": {},
   "outputs": [
    {
     "name": "stdout",
     "output_type": "stream",
     "text": [
      "True\n"
     ]
    }
   ],
   "source": [
    "print(True)"
   ]
  },
  {
   "cell_type": "code",
   "execution_count": 9,
   "id": "c78700a7",
   "metadata": {},
   "outputs": [
    {
     "name": "stdout",
     "output_type": "stream",
     "text": [
      "hello\n"
     ]
    }
   ],
   "source": [
    "print('hello')"
   ]
  },
  {
   "cell_type": "code",
   "execution_count": 10,
   "id": "4b29c48d",
   "metadata": {},
   "outputs": [
    {
     "name": "stdout",
     "output_type": "stream",
     "text": [
      "(5+6j)\n"
     ]
    }
   ],
   "source": [
    "print(5+6j)"
   ]
  },
  {
   "cell_type": "code",
   "execution_count": 11,
   "id": "90549b97",
   "metadata": {},
   "outputs": [
    {
     "name": "stdout",
     "output_type": "stream",
     "text": [
      "[1, 3, 4, 67, 6]\n"
     ]
    }
   ],
   "source": [
    "print([1,3,4,67,6])#list"
   ]
  },
  {
   "cell_type": "code",
   "execution_count": 12,
   "id": "9c7b0038",
   "metadata": {},
   "outputs": [
    {
     "name": "stdout",
     "output_type": "stream",
     "text": [
      "(1, 2, 4, 5, 6, 7)\n"
     ]
    }
   ],
   "source": [
    "print((1,2,4,5,6,7))#tuple"
   ]
  },
  {
   "cell_type": "code",
   "execution_count": 13,
   "id": "cafd83fe",
   "metadata": {},
   "outputs": [
    {
     "name": "stdout",
     "output_type": "stream",
     "text": [
      "{1, 3, 5, 6, 7, 8}\n"
     ]
    }
   ],
   "source": [
    "print({1,3,5,6,7,8})#sets"
   ]
  },
  {
   "cell_type": "code",
   "execution_count": 14,
   "id": "bf1a8cbd",
   "metadata": {},
   "outputs": [
    {
     "name": "stdout",
     "output_type": "stream",
     "text": [
      "{'name': 'Abhinav', 'roll': 101, 'fees': 2090}\n"
     ]
    }
   ],
   "source": [
    "print({\n",
    "    'name':'Abhinav',\n",
    "    'roll':101,\n",
    "    'fees':2090\n",
    "})"
   ]
  },
  {
   "cell_type": "markdown",
   "id": "bf95de33",
   "metadata": {},
   "source": [
    "### type()==> returns the data type of each element and values"
   ]
  },
  {
   "cell_type": "code",
   "execution_count": 15,
   "id": "b34657da",
   "metadata": {},
   "outputs": [
    {
     "data": {
      "text/plain": [
       "(int, float, bool, dict)"
      ]
     },
     "execution_count": 15,
     "metadata": {},
     "output_type": "execute_result"
    }
   ],
   "source": [
    "type(3),type(4.5),type(True), type({'name':'Abhinav','roll':101})"
   ]
  },
  {
   "cell_type": "markdown",
   "id": "66fa5fc4",
   "metadata": {},
   "source": [
    "## 3. Variables"
   ]
  },
  {
   "cell_type": "markdown",
   "id": "18e488dd",
   "metadata": {},
   "source": [
    "Variables are containers and used to store the informations"
   ]
  },
  {
   "cell_type": "markdown",
   "id": "918dd231",
   "metadata": {},
   "source": [
    "1. Static vs Dynamic typing\n",
    "2. Static vs Dynamic binding\n",
    "3. Stylish declaration Techniques"
   ]
  },
  {
   "cell_type": "code",
   "execution_count": 16,
   "id": "70b62fc7",
   "metadata": {},
   "outputs": [
    {
     "name": "stdout",
     "output_type": "stream",
     "text": [
      "Abhinav Kumar\n"
     ]
    }
   ],
   "source": [
    "name='Abhinav Kumar'\n",
    "print(name)"
   ]
  },
  {
   "cell_type": "code",
   "execution_count": 17,
   "id": "85153f7f",
   "metadata": {},
   "outputs": [
    {
     "ename": "SyntaxError",
     "evalue": "invalid syntax (1251650538.py, line 5)",
     "output_type": "error",
     "traceback": [
      "\u001b[1;36m  Input \u001b[1;32mIn [17]\u001b[1;36m\u001b[0m\n\u001b[1;33m    int n=4\u001b[0m\n\u001b[1;37m        ^\u001b[0m\n\u001b[1;31mSyntaxError\u001b[0m\u001b[1;31m:\u001b[0m invalid syntax\n"
     ]
    }
   ],
   "source": [
    "#Dynamic typing==> where u don't tell the datatype of variable during creating it\n",
    "a=4\n",
    "print(a)\n",
    "#static typing==> where u tell the datatype of any variable during creating it, and python supports only dynamic typing\n",
    "int n=4\n",
    "print(n)"
   ]
  },
  {
   "cell_type": "markdown",
   "id": "1d1bdcfe",
   "metadata": {},
   "source": [
    "Dynamic binding vs static binding"
   ]
  },
  {
   "cell_type": "code",
   "execution_count": 18,
   "id": "8b00b9b3",
   "metadata": {},
   "outputs": [
    {
     "name": "stdout",
     "output_type": "stream",
     "text": [
      "5\n",
      "Abhinav\n"
     ]
    }
   ],
   "source": [
    "a=5\n",
    "print(a)\n",
    "a='Abhinav'\n",
    "print(a)"
   ]
  },
  {
   "cell_type": "code",
   "execution_count": 19,
   "id": "d45f1a81",
   "metadata": {},
   "outputs": [
    {
     "name": "stdout",
     "output_type": "stream",
     "text": [
      "1,2,3\n",
      "2 4 6\n"
     ]
    }
   ],
   "source": [
    "a=1\n",
    "b=2\n",
    "c=3\n",
    "print(a,b,c,sep=',')\n",
    "a,b,c=2,4,6# stylish declaration techniques\n",
    "print(a,b,c)"
   ]
  },
  {
   "cell_type": "code",
   "execution_count": 20,
   "id": "0702ed81",
   "metadata": {},
   "outputs": [
    {
     "name": "stdout",
     "output_type": "stream",
     "text": [
      "5 5 5\n"
     ]
    }
   ],
   "source": [
    "a=b=c=5\n",
    "print(a,b,c)"
   ]
  },
  {
   "cell_type": "markdown",
   "id": "0f752e05",
   "metadata": {},
   "source": [
    "## 4. Keywords and Identifiers"
   ]
  },
  {
   "cell_type": "markdown",
   "id": "d1276de9",
   "metadata": {},
   "source": [
    "Keywords are reserved word in the python which can not be used during variable initialization/function/class etc..\n",
    "\n",
    "Identifiers:->is a name we give to identify a variable, class. function and module or other object.\n",
    "\n",
    "Rule-1. You can not start with digit eg. 1digit\n",
    "\n",
    "Rule-2. You can use special char only underscore eg. _abc"
   ]
  },
  {
   "cell_type": "code",
   "execution_count": null,
   "id": "6a9361a9",
   "metadata": {},
   "outputs": [],
   "source": [
    "fisrt_name='Abhinav'\n",
    "print(fisrt_name)"
   ]
  },
  {
   "cell_type": "markdown",
   "id": "437b23cd",
   "metadata": {},
   "source": [
    "## 5. User Input"
   ]
  },
  {
   "cell_type": "code",
   "execution_count": null,
   "id": "0b5e42b7",
   "metadata": {},
   "outputs": [],
   "source": [
    "input('Enter the name :')"
   ]
  },
  {
   "cell_type": "code",
   "execution_count": 21,
   "id": "52cd3747",
   "metadata": {},
   "outputs": [
    {
     "name": "stdout",
     "output_type": "stream",
     "text": [
      "Enter the first number :2\n",
      "Enter the second number :3\n",
      "5\n"
     ]
    }
   ],
   "source": [
    "#take input from users and store them in a variable\n",
    "n1=int(input('Enter the first number :'))\n",
    "n2=int(input('Enter the second number :'))\n",
    "#add the two variables \n",
    "sum=n1+n2\n",
    "#print the result\n",
    "print(sum)"
   ]
  },
  {
   "cell_type": "markdown",
   "id": "54945181",
   "metadata": {},
   "source": [
    "## 6. Type conversion "
   ]
  },
  {
   "cell_type": "markdown",
   "id": "1e8d596a",
   "metadata": {},
   "source": [
    "1. Type conversion --> converts the data type of variables.\n",
    "2. Two types of conversion are : 1. Implicit 2. Explicit\n",
    "\n",
    "Implicit --> It is getting converted by itself by the interpreter or compiler\n",
    "\n",
    "Explicit --> It is done by user or manually "
   ]
  },
  {
   "cell_type": "code",
   "execution_count": 22,
   "id": "9860e4e0",
   "metadata": {},
   "outputs": [
    {
     "name": "stdout",
     "output_type": "stream",
     "text": [
      "<class 'int'> <class 'float'> <class 'str'>\n"
     ]
    }
   ],
   "source": [
    "print(type(4),type(4.5),type('Abhinav'))"
   ]
  },
  {
   "cell_type": "code",
   "execution_count": 23,
   "id": "5dd32f0c",
   "metadata": {},
   "outputs": [],
   "source": [
    "#Explicit \n",
    "#str--> int"
   ]
  },
  {
   "cell_type": "code",
   "execution_count": 24,
   "id": "2fc24fff",
   "metadata": {},
   "outputs": [
    {
     "data": {
      "text/plain": [
       "'3'"
      ]
     },
     "execution_count": 24,
     "metadata": {},
     "output_type": "execute_result"
    }
   ],
   "source": [
    "str(3)"
   ]
  },
  {
   "cell_type": "code",
   "execution_count": 25,
   "id": "985853c1",
   "metadata": {},
   "outputs": [
    {
     "data": {
      "text/plain": [
       "4.0"
      ]
     },
     "execution_count": 25,
     "metadata": {},
     "output_type": "execute_result"
    }
   ],
   "source": [
    "float(4)"
   ]
  },
  {
   "cell_type": "markdown",
   "id": "7136575f",
   "metadata": {},
   "source": [
    "## 7. Literals"
   ]
  },
  {
   "cell_type": "markdown",
   "id": "a353f8ee",
   "metadata": {},
   "source": [
    "a=0b0110 --> Binary Literals\n",
    "\n",
    "b=100 --> Decimal Literals\n",
    "\n",
    "c=0o310 --> Octal Literals\n",
    "\n",
    "d=0x12c --> Hexadecimal Literals\n",
    "\n",
    "Float Literals:->\n",
    "\n",
    "1. float_1=10.5\n",
    "2. float_2=1.5e2\n",
    "3. float_3=1.5e-3\n",
    "\n",
    "Complex Literals:->\n",
    "\n",
    "x=3.14j"
   ]
  },
  {
   "cell_type": "code",
   "execution_count": 26,
   "id": "2b2acd3b",
   "metadata": {},
   "outputs": [
    {
     "name": "stdout",
     "output_type": "stream",
     "text": [
      "10\n",
      "100\n",
      "200\n",
      "300\n"
     ]
    }
   ],
   "source": [
    "#binary \n",
    "a=0b1010\n",
    "print(a)\n",
    "#decimal\n",
    "b=100\n",
    "print(b)\n",
    "#Octal literals\n",
    "c=0o310\n",
    "print(c)\n",
    "#Hexadecimal literals\n",
    "d=0x12c\n",
    "print(d)"
   ]
  },
  {
   "cell_type": "code",
   "execution_count": 27,
   "id": "ee0fcca0",
   "metadata": {},
   "outputs": [
    {
     "name": "stdout",
     "output_type": "stream",
     "text": [
      "3.0 5.0\n"
     ]
    }
   ],
   "source": [
    "x=3+5j\n",
    "print(x.real,x.imag)"
   ]
  },
  {
   "cell_type": "markdown",
   "id": "5148ecc5",
   "metadata": {},
   "source": [
    "## 8. String"
   ]
  },
  {
   "cell_type": "markdown",
   "id": "de256fed",
   "metadata": {},
   "source": [
    "String can be written in double quoat and single quoat and in tripple quoat. for the multiline string we can inclose it in tripple quoat"
   ]
  },
  {
   "cell_type": "code",
   "execution_count": 28,
   "id": "9d4c0475",
   "metadata": {},
   "outputs": [
    {
     "name": "stdout",
     "output_type": "stream",
     "text": [
      "Abhinav\n",
      "Abhinav Kumar\n",
      " Mera name abhinav kumar hai mera gaon adampur hai\n"
     ]
    }
   ],
   "source": [
    "s=\"Abhinav\"\n",
    "s1='Abhinav Kumar'\n",
    "s2=\"\"\" Mera name abhinav kumar hai mera gaon adampur hai\"\"\"\n",
    "print(s)\n",
    "print(s1)\n",
    "print(s2)"
   ]
  },
  {
   "cell_type": "code",
   "execution_count": 29,
   "id": "5a75ec7a",
   "metadata": {},
   "outputs": [
    {
     "name": "stdout",
     "output_type": "stream",
     "text": [
      "None\n"
     ]
    }
   ],
   "source": [
    "a=None\n",
    "print(a)"
   ]
  },
  {
   "cell_type": "markdown",
   "id": "46cd5976",
   "metadata": {},
   "source": [
    "# 9. Operators in python"
   ]
  },
  {
   "cell_type": "markdown",
   "id": "9b104bff",
   "metadata": {},
   "source": [
    "## 9.1 Arithmetic operators ==> +,-,*,/,% etc.."
   ]
  },
  {
   "cell_type": "code",
   "execution_count": 30,
   "id": "9841cc35",
   "metadata": {},
   "outputs": [
    {
     "name": "stdout",
     "output_type": "stream",
     "text": [
      "7\n",
      "-1\n",
      "12\n",
      "0.75\n",
      "3\n",
      "2\n",
      "9\n"
     ]
    }
   ],
   "source": [
    "print(3+4)\n",
    "print(3-4)\n",
    "print(3*4)\n",
    "print(3/4)\n",
    "print(3%4)\n",
    "print(5//2)\n",
    "print(3**2)"
   ]
  },
  {
   "cell_type": "markdown",
   "id": "65acac35",
   "metadata": {},
   "source": [
    "## 9.2 Relational operators --> =,>,<,>=,<=,!=(not equal to), =="
   ]
  },
  {
   "cell_type": "code",
   "execution_count": 31,
   "id": "bdb2b9d0",
   "metadata": {},
   "outputs": [
    {
     "name": "stdout",
     "output_type": "stream",
     "text": [
      "False\n",
      "True\n",
      "True\n",
      "True\n",
      "False\n",
      "True\n"
     ]
    }
   ],
   "source": [
    "print(4>5)\n",
    "print(4<5)\n",
    "print(4>=4)\n",
    "print(4<=9)\n",
    "print(4!=4)\n",
    "print(4==4)"
   ]
  },
  {
   "cell_type": "markdown",
   "id": "9214d2be",
   "metadata": {},
   "source": [
    "## 9.3 Logical operators ==> and,or,not"
   ]
  },
  {
   "cell_type": "markdown",
   "id": "04ffc625",
   "metadata": {},
   "source": [
    "1. and --> Returns true if both statement is true\n",
    "2. or --> Returns true if one of the statement is true\n",
    "3. not --> Reverse the results, true to false and false to true"
   ]
  },
  {
   "cell_type": "code",
   "execution_count": 32,
   "id": "ed99d3b9",
   "metadata": {},
   "outputs": [
    {
     "name": "stdout",
     "output_type": "stream",
     "text": [
      "0\n",
      "1\n",
      "False\n"
     ]
    }
   ],
   "source": [
    "print(1 and 0)\n",
    "print(1 or 0)\n",
    "print(not 1)"
   ]
  },
  {
   "cell_type": "markdown",
   "id": "fc684bed",
   "metadata": {},
   "source": [
    "## 9.4 Bitwise operators ==> Works on binary values (0 and 1) "
   ]
  },
  {
   "cell_type": "code",
   "execution_count": 33,
   "id": "960d63e9",
   "metadata": {},
   "outputs": [
    {
     "name": "stdout",
     "output_type": "stream",
     "text": [
      "2\n",
      "3\n",
      "1\n",
      "-4\n",
      "1\n",
      "20\n"
     ]
    }
   ],
   "source": [
    "#bitwise and (&)\n",
    "print(2 & 3)\n",
    "#bitwise or(|)\n",
    "print(2|3)\n",
    "#bitwise xor(^)\n",
    "print(2^3)\n",
    "#bitwise not\n",
    "print(~3)\n",
    "#bitwise left shift operator\n",
    "print(4>>2)\n",
    "#bitwise right shift operator\n",
    "print(5<<2)"
   ]
  },
  {
   "cell_type": "markdown",
   "id": "560920d6",
   "metadata": {},
   "source": [
    "## 9.5 Assignment operator ==> =,+=,-=,*=,/=,%="
   ]
  },
  {
   "cell_type": "markdown",
   "id": "b6f38c4f",
   "metadata": {},
   "source": [
    "Python don't consider a++, ++a for the increment operator as in other languages it is used as increment operator --a,a-- used as decrement operator"
   ]
  },
  {
   "cell_type": "code",
   "execution_count": 35,
   "id": "cdc6ead4",
   "metadata": {},
   "outputs": [
    {
     "name": "stdout",
     "output_type": "stream",
     "text": [
      "4\n"
     ]
    }
   ],
   "source": [
    "a=2\n",
    "a+=2\n",
    "print(a)"
   ]
  },
  {
   "cell_type": "markdown",
   "id": "5ac209c7",
   "metadata": {},
   "source": [
    "## 9.6 Membership operators ==> in and not in are the membership operator"
   ]
  },
  {
   "cell_type": "markdown",
   "id": "d4084d45",
   "metadata": {},
   "source": [
    "We use membership operators to check whether a value or a variable exist in a sequence(string,list,tuples,sets and dictionary)or not"
   ]
  },
  {
   "cell_type": "code",
   "execution_count": 2,
   "id": "98da009c",
   "metadata": {},
   "outputs": [
    {
     "name": "stdout",
     "output_type": "stream",
     "text": [
      "True\n",
      "True\n"
     ]
    }
   ],
   "source": [
    "print('D' in 'Delhi')\n",
    "print(1 not in [2,3,4,5,6])"
   ]
  },
  {
   "cell_type": "markdown",
   "id": "276d27dd",
   "metadata": {},
   "source": [
    "Q.1 Find the sum of 3 digit number entered by the user?"
   ]
  },
  {
   "cell_type": "code",
   "execution_count": 4,
   "id": "f1c2911d",
   "metadata": {},
   "outputs": [
    {
     "name": "stdout",
     "output_type": "stream",
     "text": [
      "Enter the 3 digit number:123\n",
      "123\n",
      "6\n"
     ]
    }
   ],
   "source": [
    "num=int(input('Enter the 3 digit number:'))\n",
    "print(num)\n",
    "a=num%10\n",
    "num=num//10\n",
    "b=num%10\n",
    "num=num//10\n",
    "c=num%10\n",
    "print(a+b+c)"
   ]
  },
  {
   "cell_type": "markdown",
   "id": "e982eef6",
   "metadata": {},
   "source": [
    "# 10. If else statement in python"
   ]
  },
  {
   "cell_type": "markdown",
   "id": "f8e2a1b8",
   "metadata": {},
   "source": [
    "Q.2 Login program and indentation. User will enter the email and password i will check it by using if condition whether it is true or not"
   ]
  },
  {
   "cell_type": "code",
   "execution_count": 5,
   "id": "6fa7f86d",
   "metadata": {},
   "outputs": [
    {
     "name": "stdout",
     "output_type": "stream",
     "text": [
      "Enter the email:don@gmail.com\n",
      "Enter the password:Abhinav22\n",
      "Login Failed !\n"
     ]
    }
   ],
   "source": [
    "email=input('Enter the email:')\n",
    "password=input('Enter the password:')\n",
    "if(email=='aktc@gmail.com' and password=='A#'):\n",
    "    print('Login successfully')\n",
    "else:\n",
    "    print('Login Failed !')"
   ]
  },
  {
   "cell_type": "markdown",
   "id": "337197ab",
   "metadata": {},
   "source": [
    "Q.3 Find the min of 3 numbers entered by user ?"
   ]
  },
  {
   "cell_type": "code",
   "execution_count": 9,
   "id": "074ae635",
   "metadata": {},
   "outputs": [
    {
     "name": "stdout",
     "output_type": "stream",
     "text": [
      "Enter the 1st number:2\n",
      "Enter the 2nd number:4\n",
      "Enter the 3rd number:1\n",
      " smallest: 1\n"
     ]
    }
   ],
   "source": [
    "a=int(input('Enter the 1st number:'))\n",
    "b=int(input('Enter the 2nd number:'))\n",
    "c=int(input('Enter the 3rd number:'))\n",
    "if a<b and a<c:\n",
    "    print('smallest:',a)\n",
    "elif b<a and b<c:\n",
    "    print('smallest:',b)\n",
    "else:\n",
    "    print(' smallest:',c)\n"
   ]
  },
  {
   "cell_type": "markdown",
   "id": "180e42ed",
   "metadata": {},
   "source": [
    "Q.4 Basic calculator using python if else statement "
   ]
  },
  {
   "cell_type": "code",
   "execution_count": 10,
   "id": "7eba8030",
   "metadata": {},
   "outputs": [
    {
     "name": "stdout",
     "output_type": "stream",
     "text": [
      "Enter the first number:2\n",
      "Enter the second number:4\n",
      "Enter the operator:+\n",
      "6\n"
     ]
    }
   ],
   "source": [
    "n1=int(input('Enter the first number:'))\n",
    "n2=int(input('Enter the second number:'))\n",
    "\n",
    "op=input('Enter the operator:')\n",
    "if op=='+':\n",
    "    print(n1+n2)\n",
    "elif op=='-':\n",
    "    prinr(n1-n2)\n",
    "elif op=='*':\n",
    "    print(n1*n2)\n",
    "else:\n",
    "    print(n1/n2)"
   ]
  },
  {
   "cell_type": "markdown",
   "id": "f1c72660",
   "metadata": {},
   "source": [
    "# 11. Modules in python"
   ]
  },
  {
   "cell_type": "markdown",
   "id": "83a50a66",
   "metadata": {},
   "source": [
    "1. math\n",
    "2. Keywords\n",
    "3. datetime\n",
    "4. random"
   ]
  },
  {
   "cell_type": "code",
   "execution_count": 12,
   "id": "0c3f1727",
   "metadata": {},
   "outputs": [
    {
     "data": {
      "text/plain": [
       "7.38905609893065"
      ]
     },
     "execution_count": 12,
     "metadata": {},
     "output_type": "execute_result"
    }
   ],
   "source": [
    "#math\n",
    "import math\n",
    "math.exp(2)"
   ]
  },
  {
   "cell_type": "code",
   "execution_count": 15,
   "id": "a3526ba2",
   "metadata": {},
   "outputs": [
    {
     "name": "stdout",
     "output_type": "stream",
     "text": [
      "['False', 'None', 'True', '__peg_parser__', 'and', 'as', 'assert', 'async', 'await', 'break', 'class', 'continue', 'def', 'del', 'elif', 'else', 'except', 'finally', 'for', 'from', 'global', 'if', 'import', 'in', 'is', 'lambda', 'nonlocal', 'not', 'or', 'pass', 'raise', 'return', 'try', 'while', 'with', 'yield']\n"
     ]
    }
   ],
   "source": [
    "#keywords\n",
    "import keyword\n",
    "print(keyword.kwlist)"
   ]
  },
  {
   "cell_type": "code",
   "execution_count": 16,
   "id": "48f488c0",
   "metadata": {},
   "outputs": [
    {
     "data": {
      "text/plain": [
       "59"
      ]
     },
     "execution_count": 16,
     "metadata": {},
     "output_type": "execute_result"
    }
   ],
   "source": [
    "#random\n",
    "import random\n",
    "random.randint(1,100)"
   ]
  },
  {
   "cell_type": "code",
   "execution_count": 17,
   "id": "8994f400",
   "metadata": {},
   "outputs": [
    {
     "name": "stdout",
     "output_type": "stream",
     "text": [
      "2023-03-10 06:10:51.641127\n"
     ]
    }
   ],
   "source": [
    "#datetime\n",
    "import datetime\n",
    "print(datetime.datetime.now())"
   ]
  },
  {
   "cell_type": "code",
   "execution_count": 19,
   "id": "fd4036d2",
   "metadata": {},
   "outputs": [
    {
     "name": "stdout",
     "output_type": "stream",
     "text": [
      "\n",
      "Please wait a moment while I gather a list of all available modules...\n",
      "\n"
     ]
    },
    {
     "name": "stderr",
     "output_type": "stream",
     "text": [
      "WARNING: AstropyDeprecationWarning: The private astropy._erfa module has been made into its own package, pyerfa, which is a dependency of astropy and can be imported directly using \"import erfa\" [astropy._erfa]\n",
      "C:\\Users\\abhin\\anaconda3\\lib\\site-packages\\nltk\\twitter\\__init__.py:20: UserWarning: The twython library has not been installed. Some functionality from the twitter package will not be available.\n",
      "  warnings.warn(\n",
      "C:\\Users\\abhin\\anaconda3\\lib\\site-packages\\_distutils_hack\\__init__.py:30: UserWarning: Setuptools is replacing distutils.\n",
      "  warnings.warn(\"Setuptools is replacing distutils.\")\n"
     ]
    },
    {
     "name": "stdout",
     "output_type": "stream",
     "text": [
      "pygame 2.1.2 (SDL 2.0.18, Python 3.9.12)\n",
      "Hello from the pygame community. https://www.pygame.org/contribute.html\n",
      "Update LANGUAGE_CODES (inside config/base.py) if a new translation has been added to Spyder\n"
     ]
    },
    {
     "name": "stderr",
     "output_type": "stream",
     "text": [
      "No QCoreApplication instance found. Application patches not applied. You have to call load_stylesheet function after instantiation of QApplication to take effect. \n",
      "C:\\Users\\abhin\\anaconda3\\lib\\site-packages\\tpot\\builtins\\__init__.py:36: UserWarning:\n",
      "\n",
      "Warning: optional dependency `torch` is not available. - skipping import of NN models.\n",
      "\n",
      "C:\\Users\\abhin\\anaconda3\\lib\\pkgutil.py:108: VisibleDeprecationWarning:\n",
      "\n",
      "zmq.eventloop.minitornado is deprecated in pyzmq 14.0 and will be removed.\n",
      "    Install tornado itself to use zmq with the tornado IOLoop.\n",
      "    \n",
      "\n"
     ]
    },
    {
     "name": "stdout",
     "output_type": "stream",
     "text": [
      "Cython              conda               msvcrt              socketserver\n",
      "IPython             conda_build         multidict           socks\n",
      "OpenSSL             conda_content_trust multipledispatch    sockshandler\n",
      "PIL                 conda_env           multiprocessing     sortedcollections\n",
      "PyQt5               conda_pack          munkres             sortedcontainers\n",
      "TBB                 conda_package_handling mypy_extensions     soupsieve\n",
      "__future__          conda_token         nacl                speech_recognition\n",
      "_abc                conda_verify        navigator_updater   sphinx\n",
      "_aix_support        configparser        nbclassic           spyder\n",
      "_argon2_cffi_bindings constantly          nbclient            spyder_kernels\n",
      "_ast                contextlib          nbconvert           sqlalchemy\n",
      "_asyncio            contextvars         nbformat            sqlite3\n",
      "_bisect             cookiecutter        nest_asyncio        sre_compile\n",
      "_black_version      copy                netbios             sre_constants\n",
      "_blake2             copyreg             netrc               sre_parse\n",
      "_bootlocale         crypt               networkx            ssl\n",
      "_bootsubprocess     cryptography        nltk                sspi\n",
      "_bz2                cssselect           nntplib             sspicon\n",
      "_cffi_backend       csv                 nose                stack_data\n",
      "_codecs             ctypes              notebook            stat\n",
      "_codecs_cn          curl                nt                  statistics\n",
      "_codecs_hk          curses              ntpath              statsmodels\n",
      "_codecs_iso2022     cv2                 ntsecuritycon       stopit\n",
      "_codecs_jp          cwp                 nturl2path          string\n",
      "_codecs_kr          cycler              numba               stringprep\n",
      "_codecs_tw          cython              numbergen           struct\n",
      "_collections        cytoolz             numbers             subprocess\n",
      "_collections_abc    daal4py             numexpr             sunau\n",
      "_compat_pickle      dask                numpy               symbol\n",
      "_compression        dataclasses         numpydoc            sympy\n",
      "_contextvars        datashader          odbc                symtable\n",
      "_csv                datashape           olefile             sys\n",
      "_ctypes             datetime            onedal              sysconfig\n",
      "_ctypes_test        dateutil            opcode              tables\n",
      "_datetime           dbi                 openpyxl            tabnanny\n",
      "_decimal            dbm                 operator            tabulate\n",
      "_distutils_hack     dde                 optparse            tarfile\n",
      "_elementtree        deap                os                  tbb\n",
      "_functools          debugpy             packaging           tblib\n",
      "_hashlib            decimal             pandas              telnetlib\n",
      "_heapq              decorator           pandocfilters       tempfile\n",
      "_imp                defusedxml          panel               tenacity\n",
      "_io                 diff_match_patch    param               terminado\n",
      "_json               difflib             paramiko            test\n",
      "_locale             dis                 parsel              test_pycosat\n",
      "_lsprof             distributed         parser              testpath\n",
      "_lzma               distutils           parso               text_unidecode\n",
      "_markupbase         doctest             partd               textblob\n",
      "_md5                docutils            past                textdistance\n",
      "_msi                email               pathlib             textwrap\n",
      "_multibytecodec     encodings           pathspec            this\n",
      "_multiprocessing    ensurepip           patsy               threading\n",
      "_nsis               entrypoints         pdb                 threadpoolctl\n",
      "_opcode             enum                pep8                three_merge\n",
      "_operator           erfa                perfmon             tifffile\n",
      "_osx_support        errno               pexpect             time\n",
      "_overlapped         et_xmlfile          pickle              timeit\n",
      "_peg_parser         executing           pickleshare         timer\n",
      "_pickle             fastjsonschema      pickletools         tinycss\n",
      "_plotly_future_     faulthandler        pip                 tkinter\n",
      "_plotly_utils       filecmp             pipes               tldextract\n",
      "_py_abc             fileinput           pkg_resources       tlz\n",
      "_pydecimal          filelock            pkginfo             token\n",
      "_pyio               flake8              pkgutil             tokenize\n",
      "_pyrsistent_version flask               platform            toml\n",
      "_pytest             fnmatch             plistlib            tomli\n",
      "_queue              fontTools           plotly              toolz\n",
      "_random             formatter           pluggy              tornado\n",
      "_sha1               fractions           poplib              tpot\n",
      "_sha256             frozenlist          posixpath           tqdm\n",
      "_sha3               fsspec              poyo                trace\n",
      "_sha512             ftplib              pprint              traceback\n",
      "_signal             functools           profile             tracemalloc\n",
      "_sitebuiltins       future              prometheus_client   traitlets\n",
      "_socket             gc                  prompt_toolkit      tty\n",
      "_sqlite3            genericpath         protego             turtle\n",
      "_sre                gensim              pstats              turtledemo\n",
      "_ssl                getopt              psutil              twisted\n",
      "_stat               getpass             pty                 typed_ast\n",
      "_statistics         gettext             ptyprocess          types\n",
      "_string             glob                pure_eval           typing\n",
      "_strptime           glob2               pvectorc            typing_extensions\n",
      "_struct             google_crc32c       py                  ujson\n",
      "_symtable           graphlib            py_compile          unicodedata\n",
      "_system_path        greenlet            pyasn1              unidecode\n",
      "_testbuffer         grpc                pyasn1_modules      unittest\n",
      "_testcapi           gzip                pyautogui           update_checker\n",
      "_testconsole        h5py                pyclbr              update_checker_test\n",
      "_testimportmultiple hamcrest            pycodestyle         urllib\n",
      "_testinternalcapi   hashlib             pycosat             urllib3\n",
      "_testmultiphase     heapdict            pycparser           uu\n",
      "_thread             heapq               pyct                uuid\n",
      "_threading_local    hmac                pycurl              venv\n",
      "_tkinter            holoviews           pydispatch          w3lib\n",
      "_tracemalloc        html                pydoc               warnings\n",
      "_uuid               http                pydoc_data          watchdog\n",
      "_warnings           hvplot              pydocstyle          wave\n",
      "_weakref            hyperlink           pyexpat             wcwidth\n",
      "_weakrefset         idlelib             pyflakes            weakref\n",
      "_win32sysloader     idna                pygame              webbrowser\n",
      "_winapi             imagecodecs         pygetwindow         webencodings\n",
      "_winxptheme         imageio             pygments            websocket\n",
      "_xxsubinterpreters  imagesize           pylab               werkzeug\n",
      "_yaml               imaplib             pylint              wheel\n",
      "_zoneinfo           imghdr              pyls_spyder         widgetsnbextension\n",
      "abc                 imp                 pylsp               win2kras\n",
      "adodbapi            importlib           pylsp_black         win32api\n",
      "afxres              importlib_metadata  pylsp_jsonrpc       win32clipboard\n",
      "aifc                incremental         pymsgbox            win32com\n",
      "aiohttp             inflection          pyodbc              win32con\n",
      "aiosignal           iniconfig           pyparsing           win32console\n",
      "alabaster           inspect             pyperclip           win32cred\n",
      "anaconda_navigator  intake              pyreadline          win32crypt\n",
      "anaconda_project    intervaltree        pyrect              win32cryptcon\n",
      "antigravity         io                  pyrsistent          win32ctypes\n",
      "anyio               ipaddress           pyscreeze           win32event\n",
      "appdirs             ipykernel           pytesseract         win32evtlog\n",
      "argon2              ipykernel_launcher  pytest              win32evtlogutil\n",
      "argparse            ipython_genutils    pythoncom           win32file\n",
      "array               ipywidgets          pytweening          win32gui\n",
      "arrow               isapi               pytz                win32gui_struct\n",
      "ast                 isort               pyviz_comms         win32help\n",
      "astroid             isympy              pywin               win32inet\n",
      "astropy             itemadapter         pywin32_bootstrap   win32inetcon\n",
      "asttokens           itemloaders         pywin32_testutil    win32job\n",
      "async_timeout       itertools           pywintypes          win32lz\n",
      "asynchat            itsdangerous        pywt                win32net\n",
      "asyncio             jdcal               pyximport           win32netcon\n",
      "asyncore            jedi                qdarkstyle          win32pdh\n",
      "atexit              jinja2              qstylizer           win32pdhquery\n",
      "atomicwrites        jinja2_time         qtawesome           win32pdhutil\n",
      "attr                jmespath            qtconsole           win32pipe\n",
      "attrs               joblib              qtpy                win32print\n",
      "audioop             json                queue               win32process\n",
      "automat             json5               queuelib            win32profile\n",
      "autopep8            jsonschema          quopri              win32ras\n",
      "babel               jupyter             random              win32rcparser\n",
      "backcall            jupyter_client      rasutil             win32security\n",
      "backports           jupyter_console     re                  win32service\n",
      "base64              jupyter_core        readline            win32serviceutil\n",
      "bcrypt              jupyter_server      regcheck            win32timezone\n",
      "bdb                 jupyterlab          regex               win32trace\n",
      "binaryornot         jupyterlab_plotly   regutil             win32traceutil\n",
      "binascii            jupyterlab_pygments repo_cli            win32transaction\n",
      "binhex              jupyterlab_server   reprlib             win32ts\n",
      "binstar_client      jupyterlab_widgets  requests            win32ui\n",
      "bisect              jwt                 requests_file       win32uiole\n",
      "bitarray            keyring             rlcompleter         win32verstamp\n",
      "bkcharts            keyword             rope                win32wnet\n",
      "black               kiwisolver          rsa                 win_inet_pton\n",
      "blackd              lazy_object_proxy   rtree               win_unicode_console\n",
      "bleach              lib2to3             ruamel_yaml         wincertstore\n",
      "blib2to3            libarchive          run                 winerror\n",
      "bokeh               libfuturize         runpy               winioctlcon\n",
      "boto3               libpasteurize       s3transfer          winnt\n",
      "botocore            lief                sched               winperf\n",
      "bottleneck          linecache           scipy               winpty\n",
      "brotli              llvmlite            scrapy              winreg\n",
      "bs4                 locale              seaborn             winsound\n",
      "builtins            locket              secrets             winxpgui\n",
      "bz2                 logging             select              winxptheme\n",
      "cProfile            lxml                selectors           wrapt\n",
      "cachetools          lzma                send2trash          wsgiref\n",
      "calendar            mailbox             service_identity    xarray\n",
      "certifi             mailcap             servicemanager      xdrlib\n",
      "cffi                markdown            setuptools          xgboost\n",
      "cgi                 markupsafe          shelve              xlrd\n",
      "cgitb               marshal             shlex               xlsxwriter\n",
      "chardet             math                shutil              xlwings\n",
      "charset_normalizer  matplotlib          signal              xml\n",
      "chunk               matplotlib_inline   sip                 xmlrpc\n",
      "click               mccabe              sipconfig           xxsubtype\n",
      "cloudpickle         menuinst            sipdistutils        yaml\n",
      "clyent              mimetypes           site                yapf\n",
      "cmath               mistune             six                 yapftests\n",
      "cmd                 mkl                 skimage             yarl\n",
      "code                mkl_fft             sklearn             zict\n",
      "codecs              mkl_random          sklearnex           zipapp\n",
      "codeop              mmap                slugify             zipfile\n",
      "collections         mmapfile            smart_open          zipimport\n",
      "colorama            mmsystem            smtpd               zipp\n",
      "colorcet            mock                smtplib             zlib\n",
      "colorsys            modulefinder        snappy              zmq\n",
      "commctrl            mouseinfo           sndhdr              zoneinfo\n",
      "compileall          mpmath              sniffio             zope\n",
      "comtypes            msgpack             snowballstemmer     \n",
      "concurrent          msilib              socket              \n",
      "\n",
      "Enter any module name to get more help.  Or, type \"modules spam\" to search\n",
      "for modules whose name or summary contain the string \"spam\".\n",
      "\n"
     ]
    }
   ],
   "source": [
    "#to check the available modlues in installed python\n",
    "help('modules')"
   ]
  },
  {
   "cell_type": "markdown",
   "id": "e0b91aba",
   "metadata": {},
   "source": [
    "# 12. Loops in python "
   ]
  },
  {
   "cell_type": "markdown",
   "id": "93343eec",
   "metadata": {},
   "source": [
    "Loop is used to execute a block of statements repeatedly until a given condition is satisfied. 3types of loop are there.\n",
    "1. while loop\n",
    "2. for loop\n",
    "3. nested loop"
   ]
  },
  {
   "cell_type": "code",
   "execution_count": 1,
   "id": "332aee1d",
   "metadata": {},
   "outputs": [
    {
     "name": "stdout",
     "output_type": "stream",
     "text": [
      "Enter the number to print the table:2\n",
      "2\n",
      "4\n",
      "6\n",
      "8\n",
      "10\n",
      "12\n",
      "14\n",
      "16\n",
      "18\n",
      "20\n"
     ]
    }
   ],
   "source": [
    "#while loop -->Program to print the table ?\n",
    "n=int(input('Enter the number to print the table:'))\n",
    "i=1\n",
    "while (i<=10):\n",
    "    print(n*i)\n",
    "    i+=1"
   ]
  },
  {
   "cell_type": "code",
   "execution_count": 2,
   "id": "d8a0d537",
   "metadata": {},
   "outputs": [
    {
     "name": "stdout",
     "output_type": "stream",
     "text": [
      "1\n",
      "2\n",
      "Limit crossed\n"
     ]
    }
   ],
   "source": [
    "#while loop with else condition\n",
    "x=1\n",
    "while x<3:\n",
    "    print(x)\n",
    "    x+=1\n",
    "    \n",
    "else:\n",
    "    print('Limit crossed')"
   ]
  },
  {
   "cell_type": "markdown",
   "id": "5af2df0e",
   "metadata": {},
   "source": [
    "## Guessing game"
   ]
  },
  {
   "cell_type": "code",
   "execution_count": 2,
   "id": "cf004838",
   "metadata": {},
   "outputs": [
    {
     "name": "stdout",
     "output_type": "stream",
     "text": [
      "Guess kro:3\n",
      "galat guess!higher\n",
      "Guess kro:67\n",
      "galat guess!lower\n",
      "Guess kro:45\n",
      "galat guess!higher\n",
      "Guess kro:56\n",
      "galat guess!higher\n",
      "Guess kro:60\n",
      "galat guess!lower\n",
      "Guess kro:58\n",
      "galat guess!lower\n",
      "Guess kro:57\n",
      "Guess correct\n",
      "attempts 7\n"
     ]
    }
   ],
   "source": [
    "#Generate a random integer between 1 to 100\n",
    "import random\n",
    "jackpot=random.randint(1,100)\n",
    "\n",
    "guess=int(input('Guess kro:'))\n",
    "counter=1\n",
    "while guess!=jackpot:\n",
    "    if guess<jackpot:\n",
    "        print('galat guess!higher')\n",
    "    else:\n",
    "        print('galat guess!lower')\n",
    "    guess=int(input('Guess kro:'))\n",
    "    counter+=1\n",
    "else:\n",
    "    print('Guess correct')\n",
    "    print('attempts',counter)"
   ]
  },
  {
   "cell_type": "code",
   "execution_count": 1,
   "id": "d97ceb06",
   "metadata": {},
   "outputs": [
    {
     "name": "stdout",
     "output_type": "stream",
     "text": [
      "1\n",
      "2\n",
      "3\n",
      "4\n",
      "5\n",
      "6\n",
      "7\n",
      "8\n",
      "9\n",
      "10\n"
     ]
    }
   ],
   "source": [
    "#for loop --> range(start,end,step_size)\n",
    "for i in range(1,11):\n",
    "    print(i)"
   ]
  },
  {
   "cell_type": "code",
   "execution_count": 3,
   "id": "94dc30cc",
   "metadata": {},
   "outputs": [
    {
     "name": "stdout",
     "output_type": "stream",
     "text": [
      "1\n",
      "3\n",
      "5\n",
      "7\n",
      "9\n"
     ]
    }
   ],
   "source": [
    "for i in range(1,11,2):\n",
    "    print(i)"
   ]
  },
  {
   "cell_type": "code",
   "execution_count": 4,
   "id": "09f556a9",
   "metadata": {},
   "outputs": [
    {
     "name": "stdout",
     "output_type": "stream",
     "text": [
      "10\n",
      "9\n",
      "8\n",
      "7\n",
      "6\n",
      "5\n",
      "4\n",
      "3\n",
      "2\n",
      "1\n"
     ]
    }
   ],
   "source": [
    "for i in range(10,0,-1):\n",
    "    print(i)"
   ]
  },
  {
   "cell_type": "code",
   "execution_count": 5,
   "id": "05bd086e",
   "metadata": {},
   "outputs": [
    {
     "name": "stdout",
     "output_type": "stream",
     "text": [
      "D\n",
      "e\n",
      "l\n",
      "h\n",
      "i\n"
     ]
    }
   ],
   "source": [
    "for i in 'Delhi':\n",
    "    print(i)"
   ]
  },
  {
   "cell_type": "code",
   "execution_count": 6,
   "id": "bae34c74",
   "metadata": {},
   "outputs": [
    {
     "name": "stdout",
     "output_type": "stream",
     "text": [
      "1\n",
      "2\n",
      "3\n",
      "4\n",
      "5\n"
     ]
    }
   ],
   "source": [
    "for i in {1,2,3,4,5}:\n",
    "    print(i)"
   ]
  },
  {
   "cell_type": "markdown",
   "id": "a1df08af",
   "metadata": {},
   "source": [
    "Q.5 The current population of a town is 10000. The population of the town is increasing at the rate of 10% per year. You have to write a program to find out the population at the end of each of the last 10 years."
   ]
  },
  {
   "cell_type": "code",
   "execution_count": 7,
   "id": "92957459",
   "metadata": {},
   "outputs": [
    {
     "name": "stdout",
     "output_type": "stream",
     "text": [
      "10 10000\n",
      "9 9000.0\n",
      "8 8100.0\n",
      "7 7290.0\n",
      "6 6561.0\n",
      "5 5904.9\n",
      "4 5314.41\n",
      "3 4782.969\n",
      "2 4304.6721\n",
      "1 3874.20489\n"
     ]
    }
   ],
   "source": [
    "curr_pop=10000\n",
    "for i in range(10,0,-1):\n",
    "    print(i,curr_pop)\n",
    "    curr_pop=curr_pop-0.1*curr_pop"
   ]
  },
  {
   "cell_type": "code",
   "execution_count": null,
   "id": "4831be74",
   "metadata": {},
   "outputs": [],
   "source": []
  }
 ],
 "metadata": {
  "kernelspec": {
   "display_name": "Python 3 (ipykernel)",
   "language": "python",
   "name": "python3"
  },
  "language_info": {
   "codemirror_mode": {
    "name": "ipython",
    "version": 3
   },
   "file_extension": ".py",
   "mimetype": "text/x-python",
   "name": "python",
   "nbconvert_exporter": "python",
   "pygments_lexer": "ipython3",
   "version": "3.9.12"
  }
 },
 "nbformat": 4,
 "nbformat_minor": 5
}
