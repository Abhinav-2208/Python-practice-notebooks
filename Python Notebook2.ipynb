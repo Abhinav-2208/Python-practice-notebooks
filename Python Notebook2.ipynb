{
 "cells": [
  {
   "cell_type": "markdown",
   "id": "48bf8280",
   "metadata": {},
   "source": [
    "Q.6 1/1!+ 2/2!+ 3/3! ... sequence sum till nth term"
   ]
  },
  {
   "cell_type": "code",
   "execution_count": 1,
   "id": "29ab681c",
   "metadata": {},
   "outputs": [
    {
     "name": "stdout",
     "output_type": "stream",
     "text": [
      "Enter number n:3\n",
      "2.5\n"
     ]
    }
   ],
   "source": [
    "result=0\n",
    "fact=1\n",
    "n=int(input('Enter number n:'))\n",
    "for i in range(1,n+1):\n",
    "    fact=fact*i\n",
    "    result=result+ i/fact\n",
    "print(result)"
   ]
  },
  {
   "cell_type": "markdown",
   "id": "201d1bd8",
   "metadata": {},
   "source": [
    "# 13. Nested Loop"
   ]
  },
  {
   "cell_type": "code",
   "execution_count": 2,
   "id": "d1797c1b",
   "metadata": {},
   "outputs": [
    {
     "name": "stdout",
     "output_type": "stream",
     "text": [
      "1 1\n",
      "1 2\n",
      "2 1\n",
      "2 2\n"
     ]
    }
   ],
   "source": [
    "for i in range(1,3):\n",
    "    for j in range(1,3):\n",
    "        print(i,j)"
   ]
  },
  {
   "cell_type": "markdown",
   "id": "a85e46ff",
   "metadata": {},
   "source": [
    "To analyze the python program line by line check it on python tutor website.\n",
    "\n",
    "Pattern.1"
   ]
  },
  {
   "cell_type": "code",
   "execution_count": 3,
   "id": "ce0b184f",
   "metadata": {},
   "outputs": [
    {
     "name": "stdout",
     "output_type": "stream",
     "text": [
      "Enter the row number3\n",
      "*\n",
      "**\n",
      "***\n"
     ]
    }
   ],
   "source": [
    "row=int(input('Enter the row number'))\n",
    "for i in range(1,row+1):\n",
    "    for j in range(1,i+1):\n",
    "        print('*',end='')\n",
    "    print()"
   ]
  },
  {
   "cell_type": "markdown",
   "id": "6c7edf63",
   "metadata": {},
   "source": [
    "Pattern.2 \n",
    "\n"
   ]
  },
  {
   "cell_type": "code",
   "execution_count": 4,
   "id": "459943ba",
   "metadata": {},
   "outputs": [
    {
     "name": "stdout",
     "output_type": "stream",
     "text": [
      "Enter the number of rows3\n",
      "1\n",
      "12\n",
      "123\n"
     ]
    }
   ],
   "source": [
    "rows=int(input('Enter the number of rows'))\n",
    "for i in range(1,rows+1):\n",
    "    for j in range(1,i+1):\n",
    "        print(j,end='')\n",
    "    print()"
   ]
  },
  {
   "cell_type": "markdown",
   "id": "01ef062d",
   "metadata": {},
   "source": [
    "Pattern.3"
   ]
  },
  {
   "cell_type": "code",
   "execution_count": 5,
   "id": "6ba66b7b",
   "metadata": {},
   "outputs": [
    {
     "name": "stdout",
     "output_type": "stream",
     "text": [
      "Enter the number of rows4\n",
      "1\n",
      "121\n",
      "12321\n",
      "1234321\n"
     ]
    }
   ],
   "source": [
    "rows=int(input('Enter the number of rows'))\n",
    "for i in range(1,rows+1):\n",
    "    for j in range(1,i+1):\n",
    "        print(j,end='')\n",
    "    for k in range(i-1,0,-1):\n",
    "        print(k,end='')\n",
    "    print()"
   ]
  },
  {
   "cell_type": "markdown",
   "id": "3f6d3326",
   "metadata": {},
   "source": [
    "# 14. Loop Control Statement"
   ]
  },
  {
   "cell_type": "markdown",
   "id": "13fc196a",
   "metadata": {},
   "source": [
    "They control the execution of the loop\n",
    "1. Break\n",
    "2. Continue\n",
    "3. Pass"
   ]
  },
  {
   "cell_type": "code",
   "execution_count": 6,
   "id": "7e7c56d1",
   "metadata": {},
   "outputs": [
    {
     "name": "stdout",
     "output_type": "stream",
     "text": [
      "1\n",
      "2\n",
      "3\n",
      "4\n",
      "5\n"
     ]
    }
   ],
   "source": [
    "for i in range(1,11):\n",
    "    if i==6:\n",
    "        break\n",
    "    print(i)"
   ]
  },
  {
   "cell_type": "markdown",
   "id": "4b7c5f27",
   "metadata": {},
   "source": [
    "Q.7 Printing prime number between 2 given range"
   ]
  },
  {
   "cell_type": "code",
   "execution_count": 7,
   "id": "4f9be142",
   "metadata": {},
   "outputs": [
    {
     "name": "stdout",
     "output_type": "stream",
     "text": [
      "Enter the lower value:10\n",
      "Enter the upper value:40\n",
      "11\n",
      "13\n",
      "17\n",
      "19\n",
      "23\n",
      "29\n",
      "31\n",
      "37\n"
     ]
    }
   ],
   "source": [
    "lower=int(input(\"Enter the lower value:\"))\n",
    "upper=int(input(\"Enter the upper value:\"))\n",
    "for i in range(lower,upper+1):\n",
    "    for j in range(2,i):\n",
    "        if i%j==0:\n",
    "            break\n",
    "    else:\n",
    "        print(i)"
   ]
  },
  {
   "cell_type": "markdown",
   "id": "d014639f",
   "metadata": {},
   "source": [
    "Print the value from 1 to 10 except 4 continue--> continues the loop by excepting that condition while break stop the loop when the condition meet"
   ]
  },
  {
   "cell_type": "code",
   "execution_count": 8,
   "id": "3d237aa9",
   "metadata": {},
   "outputs": [
    {
     "name": "stdout",
     "output_type": "stream",
     "text": [
      "1\n",
      "2\n",
      "3\n",
      "5\n",
      "6\n",
      "7\n",
      "8\n",
      "9\n",
      "10\n"
     ]
    }
   ],
   "source": [
    "for i in range(1,11):\n",
    "    if i==4:\n",
    "        continue\n",
    "    print(i)"
   ]
  },
  {
   "cell_type": "markdown",
   "id": "91adb3c5",
   "metadata": {},
   "source": [
    "# 15. String"
   ]
  },
  {
   "cell_type": "markdown",
   "id": "172fcd1d",
   "metadata": {},
   "source": [
    " String is a collection of alphabets, words or other characters, \n",
    " In python specifically, strings are a sequence of unicode characters\n",
    " \n",
    " 1. Creating Strings\n",
    " 2. Accessing Strings\n",
    " 3. Adding chars to strings\n",
    " 4. Editting Strings\n",
    " 5. Deleting Strings\n",
    " 6. Operation on Strings\n",
    " 7. String Functions"
   ]
  },
  {
   "cell_type": "markdown",
   "id": "7fbc8f52",
   "metadata": {},
   "source": [
    "### 15.1 Creating strings --> String can be created by using single,double and tripple inverted commas."
   ]
  },
  {
   "cell_type": "code",
   "execution_count": 9,
   "id": "c70cf5f2",
   "metadata": {},
   "outputs": [
    {
     "name": "stdout",
     "output_type": "stream",
     "text": [
      "hello\n",
      "Abhinav\n",
      "Abhinav Kumar is pursuing for data science as carreer\n",
      "Don\n"
     ]
    }
   ],
   "source": [
    "s='hello'\n",
    "p=\"Abhinav\"\n",
    "#for multiline string we use tripple inverted commas\n",
    "q='''Abhinav Kumar is pursuing for data science as carreer'''\n",
    "r=str('Don')\n",
    "print(s)\n",
    "print(p)\n",
    "print(q)\n",
    "print(r)"
   ]
  },
  {
   "cell_type": "code",
   "execution_count": 10,
   "id": "4604d7e4",
   "metadata": {},
   "outputs": [
    {
     "name": "stdout",
     "output_type": "stream",
     "text": [
      "it's raining outside\n"
     ]
    }
   ],
   "source": [
    "print(\"it's raining outside\")"
   ]
  },
  {
   "cell_type": "code",
   "execution_count": 11,
   "id": "a23fce1d",
   "metadata": {},
   "outputs": [
    {
     "name": "stdout",
     "output_type": "stream",
     "text": [
      "I have \"Apple\" to eat \n"
     ]
    }
   ],
   "source": [
    "print('I have \"Apple\" to eat ')"
   ]
  },
  {
   "cell_type": "markdown",
   "id": "5f02c5f5",
   "metadata": {},
   "source": [
    "### 15.2 Accessing substrings from a string"
   ]
  },
  {
   "cell_type": "markdown",
   "id": "8e99be97",
   "metadata": {},
   "source": [
    "1. Positive indexing--> when we create the string python internally give the index number of each character starting from 0(left to right)\n",
    "\n",
    "2. Negative indexing-->When we create the string python internally do indexing from the right to left starting from -1 "
   ]
  },
  {
   "cell_type": "code",
   "execution_count": 12,
   "id": "0c3d8e25",
   "metadata": {},
   "outputs": [
    {
     "data": {
      "text/plain": [
       "'a'"
      ]
     },
     "execution_count": 12,
     "metadata": {},
     "output_type": "execute_result"
    }
   ],
   "source": [
    "s=\"hello duniya\"\n",
    "s[3]\n",
    "s[-1]"
   ]
  },
  {
   "cell_type": "markdown",
   "id": "a157e4fc",
   "metadata": {},
   "source": [
    "1. Slicing-->We can extract more than one character by using slicing, it took the range of index in square braces[0:5] index 5 is excluded"
   ]
  },
  {
   "cell_type": "code",
   "execution_count": 13,
   "id": "8e855db6",
   "metadata": {},
   "outputs": [
    {
     "data": {
      "text/plain": [
       "'Nam'"
      ]
     },
     "execution_count": 13,
     "metadata": {},
     "output_type": "execute_result"
    }
   ],
   "source": [
    "s='Namaste Duniya'\n",
    "s[0:3]"
   ]
  },
  {
   "cell_type": "code",
   "execution_count": 14,
   "id": "5e135917",
   "metadata": {},
   "outputs": [
    {
     "data": {
      "text/plain": [
       "'maste Duniya'"
      ]
     },
     "execution_count": 14,
     "metadata": {},
     "output_type": "execute_result"
    }
   ],
   "source": [
    "s[2:]#we can skip first and last index it means it goes till the end from that index "
   ]
  },
  {
   "cell_type": "code",
   "execution_count": 15,
   "id": "56d267b0",
   "metadata": {},
   "outputs": [
    {
     "data": {
      "text/plain": [
       "'Namast'"
      ]
     },
     "execution_count": 15,
     "metadata": {},
     "output_type": "execute_result"
    }
   ],
   "source": [
    "s[:6]"
   ]
  },
  {
   "cell_type": "code",
   "execution_count": 16,
   "id": "b0d0f752",
   "metadata": {},
   "outputs": [
    {
     "data": {
      "text/plain": [
       "'Nms'"
      ]
     },
     "execution_count": 16,
     "metadata": {},
     "output_type": "execute_result"
    }
   ],
   "source": [
    "s[0:6:2]#we can give step size in this i have given 2--> simply jump"
   ]
  },
  {
   "cell_type": "code",
   "execution_count": 17,
   "id": "6ba0d07f",
   "metadata": {},
   "outputs": [
    {
     "data": {
      "text/plain": [
       "'tsama'"
      ]
     },
     "execution_count": 17,
     "metadata": {},
     "output_type": "execute_result"
    }
   ],
   "source": [
    "s[5:0:-1]#we can give step size as negative for accesing in reverse order"
   ]
  },
  {
   "cell_type": "code",
   "execution_count": 18,
   "id": "fdb7e4ed",
   "metadata": {},
   "outputs": [
    {
     "data": {
      "text/plain": [
       "'ayinuD etsamaN'"
      ]
     },
     "execution_count": 18,
     "metadata": {},
     "output_type": "execute_result"
    }
   ],
   "source": [
    "s[::-1]"
   ]
  },
  {
   "cell_type": "code",
   "execution_count": 19,
   "id": "63caf6b2",
   "metadata": {},
   "outputs": [
    {
     "data": {
      "text/plain": [
       "'NmseDny'"
      ]
     },
     "execution_count": 19,
     "metadata": {},
     "output_type": "execute_result"
    }
   ],
   "source": [
    "s[::2]"
   ]
  },
  {
   "cell_type": "code",
   "execution_count": 20,
   "id": "4257c1b8",
   "metadata": {},
   "outputs": [
    {
     "data": {
      "text/plain": [
       "'ayinuD '"
      ]
     },
     "execution_count": 20,
     "metadata": {},
     "output_type": "execute_result"
    }
   ],
   "source": [
    "s[-1:-8:-1]"
   ]
  },
  {
   "cell_type": "markdown",
   "id": "0aa2fe2e",
   "metadata": {},
   "source": [
    "### 15.3 Editting and Deleting strings"
   ]
  },
  {
   "cell_type": "markdown",
   "id": "78143d3e",
   "metadata": {},
   "source": [
    "Python strings are immutable i.e we can not change it after creating"
   ]
  },
  {
   "cell_type": "code",
   "execution_count": 21,
   "id": "8f77c632",
   "metadata": {},
   "outputs": [
    {
     "ename": "TypeError",
     "evalue": "'str' object does not support item assignment",
     "output_type": "error",
     "traceback": [
      "\u001b[1;31m---------------------------------------------------------------------------\u001b[0m",
      "\u001b[1;31mTypeError\u001b[0m                                 Traceback (most recent call last)",
      "Input \u001b[1;32mIn [21]\u001b[0m, in \u001b[0;36m<cell line: 2>\u001b[1;34m()\u001b[0m\n\u001b[0;32m      1\u001b[0m s\u001b[38;5;241m=\u001b[39m\u001b[38;5;124m'\u001b[39m\u001b[38;5;124mhello world\u001b[39m\u001b[38;5;124m'\u001b[39m\n\u001b[1;32m----> 2\u001b[0m s[\u001b[38;5;241m0\u001b[39m] \u001b[38;5;241m=\u001b[39m \u001b[38;5;124m'\u001b[39m\u001b[38;5;124mH\u001b[39m\u001b[38;5;124m'\u001b[39m\n\u001b[0;32m      3\u001b[0m \u001b[38;5;28mprint\u001b[39m(s)\n",
      "\u001b[1;31mTypeError\u001b[0m: 'str' object does not support item assignment"
     ]
    }
   ],
   "source": [
    "s='hello world'\n",
    "s[0] = 'H'\n",
    "print(s)"
   ]
  },
  {
   "cell_type": "code",
   "execution_count": null,
   "id": "3eca287d",
   "metadata": {},
   "outputs": [],
   "source": [
    "s='hello world'\n",
    "del s\n",
    "#Not print because I have deleted it earlier, we can delete whole string but part of string is not allowed since string is \n",
    "#immutable \n",
    "print(s)"
   ]
  },
  {
   "cell_type": "markdown",
   "id": "3ff6b25c",
   "metadata": {},
   "source": [
    "### 15.4 Operations on String"
   ]
  },
  {
   "cell_type": "markdown",
   "id": "cd9c2ba7",
   "metadata": {},
   "source": [
    "1. Arithmetic operations-->+,* works only two operator in string\n",
    "2. Relational operations --> ==,!=,>,>=,<,<= does work every operator for comparing the string\n",
    "3. Logical operations\n",
    "4. Loops on strings\n",
    "5. Membership Operations"
   ]
  },
  {
   "cell_type": "code",
   "execution_count": null,
   "id": "eccace90",
   "metadata": {},
   "outputs": [],
   "source": [
    "print('delhi'+' '+'Mumbai')"
   ]
  },
  {
   "cell_type": "code",
   "execution_count": null,
   "id": "26197fbd",
   "metadata": {},
   "outputs": [],
   "source": [
    "print('*'*30)"
   ]
  },
  {
   "cell_type": "markdown",
   "id": "89dfc423",
   "metadata": {},
   "source": [
    "2. Relation Operator"
   ]
  },
  {
   "cell_type": "code",
   "execution_count": null,
   "id": "be7f2a41",
   "metadata": {},
   "outputs": [],
   "source": [
    "'delhi'!='delhi'"
   ]
  },
  {
   "cell_type": "code",
   "execution_count": null,
   "id": "97bf54d2",
   "metadata": {},
   "outputs": [],
   "source": [
    "'mumbai'>'pune'\n",
    "#we do compare the string lexicographically"
   ]
  },
  {
   "cell_type": "markdown",
   "id": "09358a82",
   "metadata": {},
   "source": [
    "3. Logical operator"
   ]
  },
  {
   "cell_type": "code",
   "execution_count": 22,
   "id": "8c2714a2",
   "metadata": {},
   "outputs": [
    {
     "data": {
      "text/plain": [
       "'world'"
      ]
     },
     "execution_count": 22,
     "metadata": {},
     "output_type": "execute_result"
    }
   ],
   "source": [
    "'hello' and 'world'"
   ]
  },
  {
   "cell_type": "code",
   "execution_count": 23,
   "id": "9fc08871",
   "metadata": {},
   "outputs": [
    {
     "data": {
      "text/plain": [
       "'hello'"
      ]
     },
     "execution_count": 23,
     "metadata": {},
     "output_type": "execute_result"
    }
   ],
   "source": [
    "'hello' or 'world'"
   ]
  },
  {
   "cell_type": "markdown",
   "id": "65fa2b50",
   "metadata": {},
   "source": [
    "Empty string is false and string is true on this basis we can go for the logical operation. when both are the string in the case of or,and while considering or it will give 1st string and considering the and give the 2nd string as world"
   ]
  },
  {
   "cell_type": "code",
   "execution_count": 24,
   "id": "45903b4a",
   "metadata": {},
   "outputs": [
    {
     "data": {
      "text/plain": [
       "'world'"
      ]
     },
     "execution_count": 24,
     "metadata": {},
     "output_type": "execute_result"
    }
   ],
   "source": [
    "' ' and 'world'"
   ]
  },
  {
   "cell_type": "code",
   "execution_count": 25,
   "id": "10ae96eb",
   "metadata": {},
   "outputs": [
    {
     "data": {
      "text/plain": [
       "' '"
      ]
     },
     "execution_count": 25,
     "metadata": {},
     "output_type": "execute_result"
    }
   ],
   "source": [
    "' 'or 'hello'"
   ]
  },
  {
   "cell_type": "markdown",
   "id": "c4066554",
   "metadata": {},
   "source": [
    "4. Loops on strings"
   ]
  },
  {
   "cell_type": "code",
   "execution_count": 26,
   "id": "44b68902",
   "metadata": {},
   "outputs": [
    {
     "name": "stdout",
     "output_type": "stream",
     "text": [
      "h\n",
      "e\n",
      "l\n",
      "l\n",
      "o\n"
     ]
    }
   ],
   "source": [
    "for i in 'hello':\n",
    "    print(i)"
   ]
  },
  {
   "cell_type": "code",
   "execution_count": 27,
   "id": "fedfea24",
   "metadata": {},
   "outputs": [
    {
     "name": "stdout",
     "output_type": "stream",
     "text": [
      "pune\n",
      "pune\n",
      "pune\n",
      "pune\n",
      "pune\n"
     ]
    }
   ],
   "source": [
    "for i in 'delhi':\n",
    "    print('pune')"
   ]
  },
  {
   "cell_type": "markdown",
   "id": "da11c0e0",
   "metadata": {},
   "source": [
    "5. Membership operation --> IN, NOT IN"
   ]
  },
  {
   "cell_type": "code",
   "execution_count": 28,
   "id": "aaf832c3",
   "metadata": {},
   "outputs": [
    {
     "data": {
      "text/plain": [
       "True"
      ]
     },
     "execution_count": 28,
     "metadata": {},
     "output_type": "execute_result"
    }
   ],
   "source": [
    "'D' in 'Delhi'"
   ]
  },
  {
   "cell_type": "code",
   "execution_count": 29,
   "id": "21b1365c",
   "metadata": {},
   "outputs": [
    {
     "data": {
      "text/plain": [
       "True"
      ]
     },
     "execution_count": 29,
     "metadata": {},
     "output_type": "execute_result"
    }
   ],
   "source": [
    "'D' not in 'Mumbai'"
   ]
  },
  {
   "cell_type": "markdown",
   "id": "d6a29150",
   "metadata": {},
   "source": [
    "### 15.5 Common Function --> These function works on list,tuple,dictionary and set also."
   ]
  },
  {
   "cell_type": "markdown",
   "id": "39dcb151",
   "metadata": {},
   "source": [
    "1. len\n",
    "2. min\n",
    "3. max\n",
    "4. sorted"
   ]
  },
  {
   "cell_type": "code",
   "execution_count": 30,
   "id": "cfb0883d",
   "metadata": {},
   "outputs": [
    {
     "data": {
      "text/plain": [
       "11"
      ]
     },
     "execution_count": 30,
     "metadata": {},
     "output_type": "execute_result"
    }
   ],
   "source": [
    "len('hello world')"
   ]
  },
  {
   "cell_type": "code",
   "execution_count": 31,
   "id": "98c3b1e3",
   "metadata": {},
   "outputs": [
    {
     "data": {
      "text/plain": [
       "'w'"
      ]
     },
     "execution_count": 31,
     "metadata": {},
     "output_type": "execute_result"
    }
   ],
   "source": [
    "max('hello world')#return the max value on the basis of ascii value of that character"
   ]
  },
  {
   "cell_type": "code",
   "execution_count": 33,
   "id": "7353ce41",
   "metadata": {},
   "outputs": [
    {
     "data": {
      "text/plain": [
       "' '"
      ]
     },
     "execution_count": 33,
     "metadata": {},
     "output_type": "execute_result"
    }
   ],
   "source": [
    "min('hello world')#return min ascii value of that character "
   ]
  },
  {
   "cell_type": "code",
   "execution_count": 35,
   "id": "756cb4e2",
   "metadata": {},
   "outputs": [
    {
     "data": {
      "text/plain": [
       "[' ', 'd', 'e', 'h', 'l', 'l', 'l', 'o', 'o', 'r', 'w']"
      ]
     },
     "execution_count": 35,
     "metadata": {},
     "output_type": "execute_result"
    }
   ],
   "source": [
    "sorted('hello world')#return the list of all characters in ascending order"
   ]
  },
  {
   "cell_type": "code",
   "execution_count": 36,
   "id": "892b880f",
   "metadata": {},
   "outputs": [
    {
     "data": {
      "text/plain": [
       "['w', 'r', 'o', 'o', 'l', 'l', 'l', 'h', 'e', 'd', ' ']"
      ]
     },
     "execution_count": 36,
     "metadata": {},
     "output_type": "execute_result"
    }
   ],
   "source": [
    "#to sort in descending order or in reverse order pass the attribute as reverse=True\n",
    "sorted('hello world',reverse=True)"
   ]
  },
  {
   "cell_type": "code",
   "execution_count": 37,
   "id": "2cf84617",
   "metadata": {},
   "outputs": [
    {
     "data": {
      "text/plain": [
       "'Hello world'"
      ]
     },
     "execution_count": 37,
     "metadata": {},
     "output_type": "execute_result"
    }
   ],
   "source": [
    "#Capitalize--> string ka first character capital kr dega\n",
    "s='hello world'\n",
    "s.capitalize()"
   ]
  },
  {
   "cell_type": "code",
   "execution_count": 38,
   "id": "7ddf1c2a",
   "metadata": {},
   "outputs": [
    {
     "data": {
      "text/plain": [
       "'Hello World'"
      ]
     },
     "execution_count": 38,
     "metadata": {},
     "output_type": "execute_result"
    }
   ],
   "source": [
    "#Title--> does the first letter of every word as capital\n",
    "s.title()"
   ]
  },
  {
   "cell_type": "code",
   "execution_count": 39,
   "id": "04828b8f",
   "metadata": {},
   "outputs": [
    {
     "data": {
      "text/plain": [
       "'HELLO WORLD'"
      ]
     },
     "execution_count": 39,
     "metadata": {},
     "output_type": "execute_result"
    }
   ],
   "source": [
    "#upper--> convert all the letter as capital\n",
    "s.upper()"
   ]
  },
  {
   "cell_type": "code",
   "execution_count": 40,
   "id": "00c525ae",
   "metadata": {},
   "outputs": [
    {
     "data": {
      "text/plain": [
       "'abhinav'"
      ]
     },
     "execution_count": 40,
     "metadata": {},
     "output_type": "execute_result"
    }
   ],
   "source": [
    "a='ABHINAV'\n",
    "a.lower()#convert all the letter in small letter"
   ]
  },
  {
   "cell_type": "code",
   "execution_count": 41,
   "id": "01520a39",
   "metadata": {},
   "outputs": [
    {
     "data": {
      "text/plain": [
       "'hELLo wORld'"
      ]
     },
     "execution_count": 41,
     "metadata": {},
     "output_type": "execute_result"
    }
   ],
   "source": [
    "#swapcase--> convert the letter from lower to upper and vice versa\n",
    "b='HellO WorLD'\n",
    "b.swapcase()"
   ]
  },
  {
   "cell_type": "code",
   "execution_count": 42,
   "id": "981086ef",
   "metadata": {},
   "outputs": [
    {
     "data": {
      "text/plain": [
       "4"
      ]
     },
     "execution_count": 42,
     "metadata": {},
     "output_type": "execute_result"
    }
   ],
   "source": [
    "#count--> return the frequency count of any character in the string\n",
    "'my name is abhinav kumar'.count('a')"
   ]
  },
  {
   "cell_type": "code",
   "execution_count": 43,
   "id": "72eb4f1e",
   "metadata": {},
   "outputs": [
    {
     "data": {
      "text/plain": [
       "8"
      ]
     },
     "execution_count": 43,
     "metadata": {},
     "output_type": "execute_result"
    }
   ],
   "source": [
    "#find--> return the index of substring in the string\n",
    "'my name is abhinav kumar'.find('is')"
   ]
  },
  {
   "cell_type": "code",
   "execution_count": 44,
   "id": "4cb8f6ed",
   "metadata": {},
   "outputs": [
    {
     "data": {
      "text/plain": [
       "8"
      ]
     },
     "execution_count": 44,
     "metadata": {},
     "output_type": "execute_result"
    }
   ],
   "source": [
    "#index--> do the same as find but it will throw the error if substring is not present while in find it return 1\n",
    "'my name is abhinav kumar'.index('is')"
   ]
  },
  {
   "cell_type": "code",
   "execution_count": 45,
   "id": "3622f7d0",
   "metadata": {},
   "outputs": [
    {
     "data": {
      "text/plain": [
       "-1"
      ]
     },
     "execution_count": 45,
     "metadata": {},
     "output_type": "execute_result"
    }
   ],
   "source": [
    "'my name is abhinav kumar'.find('x')"
   ]
  },
  {
   "cell_type": "code",
   "execution_count": 46,
   "id": "4af86899",
   "metadata": {},
   "outputs": [
    {
     "data": {
      "text/plain": [
       "True"
      ]
     },
     "execution_count": 46,
     "metadata": {},
     "output_type": "execute_result"
    }
   ],
   "source": [
    "#endswith--> it return true if string is ending with the substring provided\n",
    "#startswith-->return true if string is starting with the substring provided\n",
    "'my name is abhinav kumar'.endswith('ar')"
   ]
  },
  {
   "cell_type": "code",
   "execution_count": 47,
   "id": "fb03d1ad",
   "metadata": {},
   "outputs": [
    {
     "data": {
      "text/plain": [
       "False"
      ]
     },
     "execution_count": 47,
     "metadata": {},
     "output_type": "execute_result"
    }
   ],
   "source": [
    "'my name is abhinav kumar'.endswith('Ar')"
   ]
  },
  {
   "cell_type": "markdown",
   "id": "27e7e21d",
   "metadata": {},
   "source": [
    "Format-->"
   ]
  },
  {
   "cell_type": "code",
   "execution_count": 48,
   "id": "9e62e7e8",
   "metadata": {},
   "outputs": [
    {
     "data": {
      "text/plain": [
       "'my name is Abhinav and I am Male'"
      ]
     },
     "execution_count": 48,
     "metadata": {},
     "output_type": "execute_result"
    }
   ],
   "source": [
    "name='Abhinav'\n",
    "gender='Male'\n",
    "'my name is {} and I am {}'.format(name,gender)"
   ]
  },
  {
   "cell_type": "code",
   "execution_count": 51,
   "id": "9a11c43b",
   "metadata": {},
   "outputs": [
    {
     "data": {
      "text/plain": [
       "True"
      ]
     },
     "execution_count": 51,
     "metadata": {},
     "output_type": "execute_result"
    }
   ],
   "source": [
    "#isalnum--> check the string is alphanumeric or not\n",
    "a='abhi123'\n",
    "a.isalnum()\n"
   ]
  },
  {
   "cell_type": "code",
   "execution_count": 52,
   "id": "d35f01e4",
   "metadata": {},
   "outputs": [
    {
     "data": {
      "text/plain": [
       "False"
      ]
     },
     "execution_count": 52,
     "metadata": {},
     "output_type": "execute_result"
    }
   ],
   "source": [
    "b='234@3#'\n",
    "b.isalnum()"
   ]
  },
  {
   "cell_type": "code",
   "execution_count": 53,
   "id": "b90d6503",
   "metadata": {},
   "outputs": [
    {
     "data": {
      "text/plain": [
       "True"
      ]
     },
     "execution_count": 53,
     "metadata": {},
     "output_type": "execute_result"
    }
   ],
   "source": [
    "#isalpha--> check the string is alphabetical or not\n",
    "a='hello'\n",
    "a.isalpha()"
   ]
  },
  {
   "cell_type": "code",
   "execution_count": 55,
   "id": "2be229f2",
   "metadata": {},
   "outputs": [
    {
     "data": {
      "text/plain": [
       "True"
      ]
     },
     "execution_count": 55,
     "metadata": {},
     "output_type": "execute_result"
    }
   ],
   "source": [
    "a='123'\n",
    "a.isdigit()"
   ]
  },
  {
   "cell_type": "code",
   "execution_count": 56,
   "id": "d9169c72",
   "metadata": {},
   "outputs": [
    {
     "data": {
      "text/plain": [
       "True"
      ]
     },
     "execution_count": 56,
     "metadata": {},
     "output_type": "execute_result"
    }
   ],
   "source": [
    "'name1'.isidentifier()"
   ]
  },
  {
   "cell_type": "code",
   "execution_count": 57,
   "id": "2a3ba737",
   "metadata": {},
   "outputs": [
    {
     "data": {
      "text/plain": [
       "True"
      ]
     },
     "execution_count": 57,
     "metadata": {},
     "output_type": "execute_result"
    }
   ],
   "source": [
    "'first_name'.isidentifier()"
   ]
  },
  {
   "cell_type": "code",
   "execution_count": 58,
   "id": "c25fe1bc",
   "metadata": {},
   "outputs": [
    {
     "data": {
      "text/plain": [
       "['hi', 'my', 'name', 'is', 'abhinav', 'kumar']"
      ]
     },
     "execution_count": 58,
     "metadata": {},
     "output_type": "execute_result"
    }
   ],
   "source": [
    "#split --> split the string and return the list of all word\n",
    "'hi my name is abhinav kumar'.split()"
   ]
  },
  {
   "cell_type": "code",
   "execution_count": 59,
   "id": "55509670",
   "metadata": {},
   "outputs": [
    {
     "data": {
      "text/plain": [
       "'hi my name is abhinav kumar'"
      ]
     },
     "execution_count": 59,
     "metadata": {},
     "output_type": "execute_result"
    }
   ],
   "source": [
    "#join --> join the word to make it complete sentence \n",
    "' '.join(['hi', 'my', 'name', 'is', 'abhinav', 'kumar'])"
   ]
  },
  {
   "cell_type": "code",
   "execution_count": 60,
   "id": "ebde7118",
   "metadata": {},
   "outputs": [
    {
     "data": {
      "text/plain": [
       "'hi-my-name-is-abhinav-kumar'"
      ]
     },
     "execution_count": 60,
     "metadata": {},
     "output_type": "execute_result"
    }
   ],
   "source": [
    "\"-\".join(['hi', 'my', 'name', 'is', 'abhinav', 'kumar'])"
   ]
  },
  {
   "cell_type": "code",
   "execution_count": 61,
   "id": "238c6577",
   "metadata": {},
   "outputs": [
    {
     "data": {
      "text/plain": [
       "'my name is Anurag kumar'"
      ]
     },
     "execution_count": 61,
     "metadata": {},
     "output_type": "execute_result"
    }
   ],
   "source": [
    "#replace--> to replace the substring in the string\n",
    "'my name is abhinav kumar'.replace('abhinav','Anurag')"
   ]
  },
  {
   "cell_type": "markdown",
   "id": "ed69ea25",
   "metadata": {},
   "source": [
    "## Practice question on strings"
   ]
  },
  {
   "cell_type": "markdown",
   "id": "fc7615b2",
   "metadata": {},
   "source": [
    "1. Find the length of a given string without using len() function"
   ]
  },
  {
   "cell_type": "code",
   "execution_count": 62,
   "id": "044ca39f",
   "metadata": {},
   "outputs": [
    {
     "name": "stdout",
     "output_type": "stream",
     "text": [
      "Enter the stringhello world\n",
      "length of string is 11\n"
     ]
    }
   ],
   "source": [
    "s=input('Enter the string')\n",
    "counter=0\n",
    "for i in s:\n",
    "    counter+=1\n",
    "print('length of string is',counter)"
   ]
  },
  {
   "cell_type": "markdown",
   "id": "1a3bec3d",
   "metadata": {},
   "source": [
    "Q.2 Extract the username from the given email, eg. if the email is abhi2208@gmail.com then username should be abhi2208"
   ]
  },
  {
   "cell_type": "code",
   "execution_count": 64,
   "id": "6fe1f380",
   "metadata": {},
   "outputs": [
    {
     "name": "stdout",
     "output_type": "stream",
     "text": [
      "Enter the emailabhi@gmail.com\n",
      "abhi\n"
     ]
    }
   ],
   "source": [
    "s=input('Enter the email')\n",
    "pos=s.index('@')\n",
    "print(s[0:pos])"
   ]
  },
  {
   "cell_type": "markdown",
   "id": "047a5a95",
   "metadata": {},
   "source": [
    "Q.3 Count the frequency of a particular character in a provided string, eg. 'hello how are you' is the string. The frequence of h in this string is 2"
   ]
  },
  {
   "cell_type": "code",
   "execution_count": 66,
   "id": "8f59e681",
   "metadata": {},
   "outputs": [
    {
     "name": "stdout",
     "output_type": "stream",
     "text": [
      "Enter the string:hello world\n",
      "Enter the character which you want to search:l\n",
      "frequency of character in the string is 3\n"
     ]
    }
   ],
   "source": [
    "s=input('Enter the string:')\n",
    "k=input('Enter the character which you want to search:')\n",
    "counter=0\n",
    "for i in s:\n",
    "    if i==k:\n",
    "        counter+=1\n",
    "print('frequency of character in the string is',counter)"
   ]
  },
  {
   "cell_type": "markdown",
   "id": "3c857aa5",
   "metadata": {},
   "source": [
    "Q.4 Write a program which can remove a particular character from the strings?"
   ]
  },
  {
   "cell_type": "code",
   "execution_count": 67,
   "id": "366a1dca",
   "metadata": {},
   "outputs": [
    {
     "name": "stdout",
     "output_type": "stream",
     "text": [
      "Enter the string:abhinav\n",
      "What would you like to seacrh:a\n",
      "bhinv\n"
     ]
    }
   ],
   "source": [
    "s=input('Enter the string:')\n",
    "k=input('What would you like to seacrh:')\n",
    "#because string is immutable so we can't change in that string so we will take an empty string\n",
    "result=''\n",
    "for i in s:\n",
    "    if i!=k:\n",
    "        result=result+i\n",
    "print(result)"
   ]
  },
  {
   "cell_type": "markdown",
   "id": "8b2a2611",
   "metadata": {},
   "source": [
    "Q.5 Write a program that can check whether a given string is palindrome or not ? abba, malayalam,naman"
   ]
  },
  {
   "cell_type": "code",
   "execution_count": 70,
   "id": "0f6bec9a",
   "metadata": {},
   "outputs": [
    {
     "name": "stdout",
     "output_type": "stream",
     "text": [
      "Enter the string:abba\n",
      "Palindrome\n"
     ]
    }
   ],
   "source": [
    "s=input('Enter the string:')\n",
    "flag=True\n",
    "for i in range(0,len(s)//2):\n",
    "    if s[i]!=s[len(s)-i-1]:\n",
    "        flag=False\n",
    "        print('Not a Palindrome')\n",
    "        break\n",
    "if flag:\n",
    "    print('Palindrome')"
   ]
  },
  {
   "cell_type": "markdown",
   "id": "12b4f856",
   "metadata": {},
   "source": [
    "Q.6 Write a program to count the number of words in a string without split() function"
   ]
  },
  {
   "cell_type": "code",
   "execution_count": 71,
   "id": "0de57174",
   "metadata": {},
   "outputs": [
    {
     "name": "stdout",
     "output_type": "stream",
     "text": [
      "Enter the string:hi how r you\n",
      "['hi', 'how', 'r', 'you']\n"
     ]
    }
   ],
   "source": [
    "s=input('Enter the string:')\n",
    "L=[]\n",
    "temp=''\n",
    "for i in s:\n",
    "    if i!=' ':\n",
    "        temp=temp+i\n",
    "    else:\n",
    "        L.append(temp)\n",
    "        temp=''\n",
    "        \n",
    "L.append(temp)\n",
    "print(L)"
   ]
  },
  {
   "cell_type": "markdown",
   "id": "8a75e5ca",
   "metadata": {},
   "source": [
    "Q.7 Write a program to convert the string to titlecase without using title() function?"
   ]
  },
  {
   "cell_type": "code",
   "execution_count": 76,
   "id": "f3d2f903",
   "metadata": {},
   "outputs": [
    {
     "name": "stdout",
     "output_type": "stream",
     "text": [
      "Enter the string:hi how are you\n",
      "Hi How Are You\n"
     ]
    }
   ],
   "source": [
    "s=input('Enter the string:')\n",
    "L=[]\n",
    "for i in s.split():\n",
    "    L.append(i[0].upper()+i[1:].lower())\n",
    "print(' '.join(L))"
   ]
  },
  {
   "cell_type": "markdown",
   "id": "9ae046fe",
   "metadata": {},
   "source": [
    "Q.8 Write a program that can convert an integer to string?"
   ]
  },
  {
   "cell_type": "code",
   "execution_count": 77,
   "id": "bc533519",
   "metadata": {},
   "outputs": [
    {
     "name": "stdout",
     "output_type": "stream",
     "text": [
      "Enter the digit345\n",
      "345\n",
      "<class 'str'>\n"
     ]
    }
   ],
   "source": [
    "number=int(input('Enter the digit'))\n",
    "digits='0123456789'\n",
    "result=''\n",
    "while number!=0:\n",
    "    result=digits[number%10]+result\n",
    "    number=number//10\n",
    "    \n",
    "print(result)\n",
    "print(type(result))"
   ]
  },
  {
   "cell_type": "code",
   "execution_count": null,
   "id": "ff45ff2b",
   "metadata": {},
   "outputs": [],
   "source": []
  }
 ],
 "metadata": {
  "kernelspec": {
   "display_name": "Python 3 (ipykernel)",
   "language": "python",
   "name": "python3"
  },
  "language_info": {
   "codemirror_mode": {
    "name": "ipython",
    "version": 3
   },
   "file_extension": ".py",
   "mimetype": "text/x-python",
   "name": "python",
   "nbconvert_exporter": "python",
   "pygments_lexer": "ipython3",
   "version": "3.9.12"
  }
 },
 "nbformat": 4,
 "nbformat_minor": 5
}
