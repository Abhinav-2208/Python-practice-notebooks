{
 "cells": [
  {
   "cell_type": "markdown",
   "id": "0ebc0bac",
   "metadata": {},
   "source": [
    "## Function"
   ]
  },
  {
   "cell_type": "markdown",
   "id": "8868ad52",
   "metadata": {},
   "source": [
    "A function is a block of organized, reusable code that is used to perform a single, related action."
   ]
  },
  {
   "cell_type": "code",
   "execution_count": 7,
   "id": "1fecc002",
   "metadata": {},
   "outputs": [],
   "source": [
    "def is_even(num): #function definition --> num is parameter during the calling of function if we pass the value then argument\n",
    "    #docstring to define write the statement\n",
    "    \"\"\"\n",
    "    This function returns if a given number is even or odd\n",
    "    input --> any valid integer\n",
    "    output --> odd/even\n",
    "    created on --> 32/04/2023\n",
    "    \"\"\"\n",
    "    #function body\n",
    "    if type(num)==int:\n",
    "        if num%2==0:\n",
    "            return 'Even'\n",
    "        else:\n",
    "            return 'Odd'\n",
    "    \n",
    "    else:\n",
    "        print('Bhai dhnag ka input de')"
   ]
  },
  {
   "cell_type": "code",
   "execution_count": 8,
   "id": "34d91e3f",
   "metadata": {},
   "outputs": [
    {
     "name": "stdout",
     "output_type": "stream",
     "text": [
      "Odd\n",
      "Even\n",
      "Odd\n",
      "Even\n",
      "Odd\n",
      "Even\n",
      "Odd\n",
      "Even\n",
      "Odd\n",
      "Even\n"
     ]
    }
   ],
   "source": [
    "#function calling\n",
    "for i in range(1,11):\n",
    "    x=is_even(i)\n",
    "    print(x)"
   ]
  },
  {
   "cell_type": "code",
   "execution_count": 9,
   "id": "a89b20af",
   "metadata": {},
   "outputs": [
    {
     "name": "stdout",
     "output_type": "stream",
     "text": [
      "Bhai dhnag ka input de\n"
     ]
    }
   ],
   "source": [
    "is_even('hello')"
   ]
  },
  {
   "cell_type": "code",
   "execution_count": 23,
   "id": "383a3974",
   "metadata": {},
   "outputs": [
    {
     "name": "stdout",
     "output_type": "stream",
     "text": [
      "\n",
      "    This function returns if a given number is even or odd\n",
      "    input --> any valid integer\n",
      "    output --> odd/even\n",
      "    created on --> 32/04/2023\n",
      "    \n",
      "print(value, ..., sep=' ', end='\\n', file=sys.stdout, flush=False)\n",
      "\n",
      "Prints the values to a stream, or to sys.stdout by default.\n",
      "Optional keyword arguments:\n",
      "file:  a file-like object (stream); defaults to the current sys.stdout.\n",
      "sep:   string inserted between values, default a space.\n",
      "end:   string appended after the last value, default a newline.\n",
      "flush: whether to forcibly flush the stream.\n"
     ]
    }
   ],
   "source": [
    "# to print the documentation \n",
    "print(is_even.__doc__)\n",
    "\n",
    "# we can see documentation of any function by using function_name. __doc__\n",
    "print(print.__doc__)"
   ]
  },
  {
   "cell_type": "markdown",
   "id": "7930dd59",
   "metadata": {},
   "source": [
    "### Parameters vs Arguments"
   ]
  },
  {
   "cell_type": "markdown",
   "id": "8c6d8787",
   "metadata": {},
   "source": [
    "A parameter is the variable listed inside the parentheses in the function definition. An argument is the value that are sent to the function when it is called.\n",
    "\n",
    "Types of Arguments:\n",
    "- Default arguments\n",
    "- Positional Arguments\n",
    "- Keyword Arguments"
   ]
  },
  {
   "cell_type": "code",
   "execution_count": 10,
   "id": "92060225",
   "metadata": {},
   "outputs": [],
   "source": [
    "#default arguments\n",
    "def power(a,b):\n",
    "    return a**b"
   ]
  },
  {
   "cell_type": "code",
   "execution_count": 11,
   "id": "b790e030",
   "metadata": {},
   "outputs": [
    {
     "ename": "TypeError",
     "evalue": "power() missing 1 required positional argument: 'b'",
     "output_type": "error",
     "traceback": [
      "\u001b[1;31m---------------------------------------------------------------------------\u001b[0m",
      "\u001b[1;31mTypeError\u001b[0m                                 Traceback (most recent call last)",
      "Input \u001b[1;32mIn [11]\u001b[0m, in \u001b[0;36m<cell line: 1>\u001b[1;34m()\u001b[0m\n\u001b[1;32m----> 1\u001b[0m \u001b[43mpower\u001b[49m\u001b[43m(\u001b[49m\u001b[38;5;241;43m2\u001b[39;49m\u001b[43m)\u001b[49m\n",
      "\u001b[1;31mTypeError\u001b[0m: power() missing 1 required positional argument: 'b'"
     ]
    }
   ],
   "source": [
    "power(2) #during the function definition parameter is 2 and we pass only 1 arguments that's why error is getting"
   ]
  },
  {
   "cell_type": "code",
   "execution_count": 12,
   "id": "f3a242bb",
   "metadata": {},
   "outputs": [
    {
     "data": {
      "text/plain": [
       "4"
      ]
     },
     "execution_count": 12,
     "metadata": {},
     "output_type": "execute_result"
    }
   ],
   "source": [
    "def power(a=2,b=2):\n",
    "    return a**b\n",
    "power(2)"
   ]
  },
  {
   "cell_type": "markdown",
   "id": "d3f40e9e",
   "metadata": {},
   "source": [
    "positional arguments --> default behaviour of function is called positional arguments i.e 1st argument passed to 1st parameter and 2nd argument is passed to 2nd parameter and so on...\n",
    "\n"
   ]
  },
  {
   "cell_type": "code",
   "execution_count": 13,
   "id": "5c301b27",
   "metadata": {},
   "outputs": [
    {
     "data": {
      "text/plain": [
       "8"
      ]
     },
     "execution_count": 13,
     "metadata": {},
     "output_type": "execute_result"
    }
   ],
   "source": [
    "power(2,3)"
   ]
  },
  {
   "cell_type": "code",
   "execution_count": 14,
   "id": "8956c0ff",
   "metadata": {},
   "outputs": [
    {
     "data": {
      "text/plain": [
       "8"
      ]
     },
     "execution_count": 14,
     "metadata": {},
     "output_type": "execute_result"
    }
   ],
   "source": [
    "#keyword argument\n",
    "power(b=3,a=2)"
   ]
  },
  {
   "cell_type": "markdown",
   "id": "05a7c0cf",
   "metadata": {},
   "source": [
    "*args and *kwargs -->Special python keywords that are used to pass the variable length of arguments to a function"
   ]
  },
  {
   "cell_type": "code",
   "execution_count": 19,
   "id": "764853af",
   "metadata": {},
   "outputs": [],
   "source": [
    "# *args --> allows us to pass a number of non-keyword arguments to a function\n",
    "\n",
    "def multiply(*args): # variable number of inputs are coming and forming a tuple of all the input we can use *abhinav\n",
    "    product=1\n",
    "    for i in args:\n",
    "        product=product*i\n",
    "    return product"
   ]
  },
  {
   "cell_type": "code",
   "execution_count": 20,
   "id": "62e46928",
   "metadata": {},
   "outputs": [
    {
     "data": {
      "text/plain": [
       "6"
      ]
     },
     "execution_count": 20,
     "metadata": {},
     "output_type": "execute_result"
    }
   ],
   "source": [
    "multiply(1,2,3)"
   ]
  },
  {
   "cell_type": "code",
   "execution_count": 21,
   "id": "80042a66",
   "metadata": {},
   "outputs": [
    {
     "data": {
      "text/plain": [
       "720"
      ]
     },
     "execution_count": 21,
     "metadata": {},
     "output_type": "execute_result"
    }
   ],
   "source": [
    "multiply(1,2,3,4,5,6)"
   ]
  },
  {
   "cell_type": "markdown",
   "id": "c0b746de",
   "metadata": {},
   "source": [
    "**kwargs --> allows us to pass any number of keyword arguments \n",
    "- Keyword arguments means that they containe key-value pair like python dictionary"
   ]
  },
  {
   "cell_type": "code",
   "execution_count": 4,
   "id": "2bc802ee",
   "metadata": {},
   "outputs": [],
   "source": [
    "# **kwargs\n",
    "\n",
    "def display(**salman):\n",
    "\n",
    "    for (key,value) in salman.items():\n",
    "        print(key,'->',value)\n"
   ]
  },
  {
   "cell_type": "code",
   "execution_count": 6,
   "id": "b4eaf520",
   "metadata": {},
   "outputs": [
    {
     "name": "stdout",
     "output_type": "stream",
     "text": [
      "india -> delhi\n",
      "srilanka -> colombo\n",
      "nepal -> kathmandu\n",
      "pakistan -> islamabad\n"
     ]
    }
   ],
   "source": [
    "display(india='delhi',srilanka='colombo',nepal='kathmandu',pakistan='islamabad')"
   ]
  },
  {
   "cell_type": "markdown",
   "id": "62bfb62c",
   "metadata": {},
   "source": [
    " Points to remember while using * args and ** kwargs\n",
    " - Order of arguments matter (normal -> * args -> ** kwargs)\n",
    " - The words args and kwargs are only a convention, You can use any name of your choice"
   ]
  },
  {
   "cell_type": "markdown",
   "id": "b42539a7",
   "metadata": {},
   "source": [
    "Without return statement"
   ]
  },
  {
   "cell_type": "code",
   "execution_count": 8,
   "id": "eb60732f",
   "metadata": {},
   "outputs": [
    {
     "name": "stdout",
     "output_type": "stream",
     "text": [
      "None\n",
      "[2, 3, 5, 7]\n"
     ]
    }
   ],
   "source": [
    "L=[2,3,5]\n",
    "print(L.append(7))\n",
    "print(L)"
   ]
  },
  {
   "cell_type": "markdown",
   "id": "063c1c59",
   "metadata": {},
   "source": [
    "### Variable scope"
   ]
  },
  {
   "cell_type": "markdown",
   "id": "cca7891c",
   "metadata": {},
   "source": [
    "- Global Variable ->\n",
    "- Local Variable ->"
   ]
  },
  {
   "cell_type": "code",
   "execution_count": 1,
   "id": "daff0a59",
   "metadata": {},
   "outputs": [
    {
     "name": "stdout",
     "output_type": "stream",
     "text": [
      "5\n",
      "6\n",
      "5\n"
     ]
    }
   ],
   "source": [
    "def g(y):\n",
    "    print(x)\n",
    "    print(x+1)\n",
    "x = 5\n",
    "g(x)\n",
    "print(x)"
   ]
  },
  {
   "cell_type": "code",
   "execution_count": 2,
   "id": "b1e8a31b",
   "metadata": {},
   "outputs": [
    {
     "name": "stdout",
     "output_type": "stream",
     "text": [
      "2\n",
      "5\n"
     ]
    }
   ],
   "source": [
    "def f(y):\n",
    "    x = 1\n",
    "    x += 1\n",
    "    print(x)\n",
    "x = 5\n",
    "f(x)\n",
    "print(x)"
   ]
  },
  {
   "cell_type": "code",
   "execution_count": 4,
   "id": "54ebf6f5",
   "metadata": {},
   "outputs": [
    {
     "ename": "UnboundLocalError",
     "evalue": "local variable 'x' referenced before assignment",
     "output_type": "error",
     "traceback": [
      "\u001b[1;31m---------------------------------------------------------------------------\u001b[0m",
      "\u001b[1;31mUnboundLocalError\u001b[0m                         Traceback (most recent call last)",
      "Input \u001b[1;32mIn [4]\u001b[0m, in \u001b[0;36m<cell line: 4>\u001b[1;34m()\u001b[0m\n\u001b[0;32m      2\u001b[0m     x \u001b[38;5;241m+\u001b[39m\u001b[38;5;241m=\u001b[39m \u001b[38;5;241m1\u001b[39m \u001b[38;5;66;03m# global variable me changes is not allowed that's why we are getting error\u001b[39;00m\n\u001b[0;32m      3\u001b[0m x \u001b[38;5;241m=\u001b[39m \u001b[38;5;241m5\u001b[39m\n\u001b[1;32m----> 4\u001b[0m \u001b[43mh\u001b[49m\u001b[43m(\u001b[49m\u001b[43mx\u001b[49m\u001b[43m)\u001b[49m\n\u001b[0;32m      5\u001b[0m \u001b[38;5;28mprint\u001b[39m(x)\n",
      "Input \u001b[1;32mIn [4]\u001b[0m, in \u001b[0;36mh\u001b[1;34m(y)\u001b[0m\n\u001b[0;32m      1\u001b[0m \u001b[38;5;28;01mdef\u001b[39;00m \u001b[38;5;21mh\u001b[39m(y):\n\u001b[1;32m----> 2\u001b[0m     x \u001b[38;5;241m+\u001b[39m\u001b[38;5;241m=\u001b[39m \u001b[38;5;241m1\u001b[39m\n",
      "\u001b[1;31mUnboundLocalError\u001b[0m: local variable 'x' referenced before assignment"
     ]
    }
   ],
   "source": [
    "def h(y):\n",
    "    x += 1 # global variable me changes is not allowed that's why we are getting error\n",
    "x = 5\n",
    "h(x)\n",
    "print(x)"
   ]
  },
  {
   "cell_type": "code",
   "execution_count": 5,
   "id": "f2efa545",
   "metadata": {},
   "outputs": [
    {
     "name": "stdout",
     "output_type": "stream",
     "text": [
      "in f(x): x = 4\n",
      "in main program scope: z = 4\n",
      "in main program scope: x = 3\n"
     ]
    }
   ],
   "source": [
    "def f(x):\n",
    "   x = x + 1\n",
    "   print('in f(x): x =', x)\n",
    "   return x\n",
    "\n",
    "x = 3\n",
    "z = f(x)\n",
    "print('in main program scope: z =', z)\n",
    "print('in main program scope: x =', x)"
   ]
  },
  {
   "cell_type": "markdown",
   "id": "9250ba49",
   "metadata": {},
   "source": [
    "### Nested Functions"
   ]
  },
  {
   "cell_type": "code",
   "execution_count": 10,
   "id": "688f6aac",
   "metadata": {},
   "outputs": [],
   "source": [
    "def f():\n",
    "    def g():\n",
    "        print('Inside function g')\n",
    "    g()   \n",
    "    print('inside function f')"
   ]
  },
  {
   "cell_type": "code",
   "execution_count": 11,
   "id": "94dfead1",
   "metadata": {},
   "outputs": [
    {
     "name": "stdout",
     "output_type": "stream",
     "text": [
      "Inside function g\n",
      "inside function f\n"
     ]
    }
   ],
   "source": [
    "f()"
   ]
  },
  {
   "cell_type": "code",
   "execution_count": 12,
   "id": "ed8db08e",
   "metadata": {},
   "outputs": [
    {
     "ename": "TypeError",
     "evalue": "g() missing 1 required positional argument: 'y'",
     "output_type": "error",
     "traceback": [
      "\u001b[1;31m---------------------------------------------------------------------------\u001b[0m",
      "\u001b[1;31mTypeError\u001b[0m                                 Traceback (most recent call last)",
      "Input \u001b[1;32mIn [12]\u001b[0m, in \u001b[0;36m<cell line: 1>\u001b[1;34m()\u001b[0m\n\u001b[1;32m----> 1\u001b[0m \u001b[43mg\u001b[49m\u001b[43m(\u001b[49m\u001b[43m)\u001b[49m\n",
      "\u001b[1;31mTypeError\u001b[0m: g() missing 1 required positional argument: 'y'"
     ]
    }
   ],
   "source": [
    "g()# andar wale function ko kewal bahar wala call kr skta hai directly call ni kr skte"
   ]
  },
  {
   "cell_type": "code",
   "execution_count": 13,
   "id": "3f3b2570",
   "metadata": {},
   "outputs": [
    {
     "name": "stdout",
     "output_type": "stream",
     "text": [
      "in g(x): x = 4\n"
     ]
    }
   ],
   "source": [
    "def g(x):\n",
    "    def h():\n",
    "        x = 'abc'\n",
    "    x = x + 1\n",
    "    print('in g(x): x =', x)\n",
    "    h()\n",
    "    return x\n",
    "\n",
    "x = 3\n",
    "z = g(x)"
   ]
  },
  {
   "cell_type": "markdown",
   "id": "ef369792",
   "metadata": {},
   "source": [
    "### Functions are first class citizens"
   ]
  },
  {
   "cell_type": "markdown",
   "id": "eaad4a26",
   "metadata": {},
   "source": [
    "First class citizens means like other datatype we can manipulate, can perform operation on it like int,list,tuple etc\n",
    "- Function in python act as a data type "
   ]
  },
  {
   "cell_type": "code",
   "execution_count": 3,
   "id": "0bd38c60",
   "metadata": {},
   "outputs": [
    {
     "name": "stdout",
     "output_type": "stream",
     "text": [
      "<class 'function'>\n",
      "1884195968336\n"
     ]
    }
   ],
   "source": [
    "def square(num):\n",
    "    return num**2\n",
    "print(type(square)) # other data type ki tarah ye bhi type btata hai\n",
    "print(id(square)) # address on which square is stored"
   ]
  },
  {
   "cell_type": "code",
   "execution_count": 5,
   "id": "981b9109",
   "metadata": {},
   "outputs": [
    {
     "data": {
      "text/plain": [
       "16"
      ]
     },
     "execution_count": 5,
     "metadata": {},
     "output_type": "execute_result"
    }
   ],
   "source": [
    "#reassinging of function\n",
    "x=square(4)\n",
    "x"
   ]
  },
  {
   "cell_type": "code",
   "execution_count": 6,
   "id": "1961c31f",
   "metadata": {},
   "outputs": [],
   "source": [
    "#deleting a function\n",
    "del square"
   ]
  },
  {
   "cell_type": "code",
   "execution_count": 9,
   "id": "cbf7b802",
   "metadata": {},
   "outputs": [
    {
     "ename": "NameError",
     "evalue": "name 'square' is not defined",
     "output_type": "error",
     "traceback": [
      "\u001b[1;31m---------------------------------------------------------------------------\u001b[0m",
      "\u001b[1;31mNameError\u001b[0m                                 Traceback (most recent call last)",
      "Input \u001b[1;32mIn [9]\u001b[0m, in \u001b[0;36m<cell line: 1>\u001b[1;34m()\u001b[0m\n\u001b[1;32m----> 1\u001b[0m \u001b[43msquare\u001b[49m(\u001b[38;5;241m4\u001b[39m)\n",
      "\u001b[1;31mNameError\u001b[0m: name 'square' is not defined"
     ]
    }
   ],
   "source": [
    "square(4) # function has been deleted that's why not defined i am getting"
   ]
  },
  {
   "cell_type": "code",
   "execution_count": 10,
   "id": "e540deb9",
   "metadata": {},
   "outputs": [
    {
     "data": {
      "text/plain": [
       "4"
      ]
     },
     "execution_count": 10,
     "metadata": {},
     "output_type": "execute_result"
    }
   ],
   "source": [
    "def square(num):\n",
    "    return num**2\n",
    "square(2)"
   ]
  },
  {
   "cell_type": "code",
   "execution_count": 12,
   "id": "1d1003aa",
   "metadata": {},
   "outputs": [
    {
     "data": {
      "text/plain": [
       "25"
      ]
     },
     "execution_count": 12,
     "metadata": {},
     "output_type": "execute_result"
    }
   ],
   "source": [
    "#Storing \n",
    "L=[1,2,3,4,square]\n",
    "L[-1](5)"
   ]
  },
  {
   "cell_type": "code",
   "execution_count": 13,
   "id": "0b0d6011",
   "metadata": {},
   "outputs": [
    {
     "data": {
      "text/plain": [
       "{<function __main__.square(num)>}"
      ]
     },
     "execution_count": 13,
     "metadata": {},
     "output_type": "execute_result"
    }
   ],
   "source": [
    "# function is immutable data type since set can't store mutable data type \n",
    "s={square}\n",
    "s #it is working means function is immutable "
   ]
  },
  {
   "cell_type": "code",
   "execution_count": 14,
   "id": "a9517d98",
   "metadata": {},
   "outputs": [
    {
     "name": "stdout",
     "output_type": "stream",
     "text": [
      "7\n"
     ]
    }
   ],
   "source": [
    "#returning a function\n",
    "def f():\n",
    "    def x(a,b):\n",
    "        return a+b\n",
    "    return x\n",
    "val=f()(3,4)\n",
    "print(val)"
   ]
  },
  {
   "cell_type": "markdown",
   "id": "1da897bb",
   "metadata": {},
   "source": [
    "### Benefits of using function"
   ]
  },
  {
   "cell_type": "markdown",
   "id": "caf17307",
   "metadata": {},
   "source": [
    "- Code Modularity\n",
    "- Code Readibility\n",
    "- Code Reusibility"
   ]
  },
  {
   "cell_type": "markdown",
   "id": "3d0a474e",
   "metadata": {},
   "source": [
    "### Lambda Functions"
   ]
  },
  {
   "cell_type": "markdown",
   "id": "de44f3cc",
   "metadata": {},
   "source": [
    "A lambda function is a small anonymous function.\n",
    "\n",
    "A lambda function can take any number of arguments, but can have only one expression"
   ]
  },
  {
   "attachments": {
    "lambda.png": {
     "image/png": "[encoded data removed]"
    }
   },
   "cell_type": "markdown",
   "id": "7c60a00e",
   "metadata": {},
   "source": [
    "![lambda.png](attachment:lambda.png)"
   ]
  },
  {
   "cell_type": "code",
   "execution_count": 15,
   "id": "03f8f4d8",
   "metadata": {},
   "outputs": [
    {
     "data": {
      "text/plain": [
       "9"
      ]
     },
     "execution_count": 15,
     "metadata": {},
     "output_type": "execute_result"
    }
   ],
   "source": [
    "s=lambda x:x**2\n",
    "s(3)"
   ]
  },
  {
   "cell_type": "code",
   "execution_count": 16,
   "id": "9c0cbacb",
   "metadata": {},
   "outputs": [
    {
     "data": {
      "text/plain": [
       "9"
      ]
     },
     "execution_count": 16,
     "metadata": {},
     "output_type": "execute_result"
    }
   ],
   "source": [
    "sum=lambda x,y:x+y\n",
    "sum(4,5)"
   ]
  },
  {
   "cell_type": "markdown",
   "id": "0cdd9320",
   "metadata": {},
   "source": [
    "### Difference between lambda and normal function"
   ]
  },
  {
   "cell_type": "markdown",
   "id": "bde8eab3",
   "metadata": {},
   "source": [
    "- Lambda function has no name while normal function has\n",
    "- Lmabda function does not return value while normal function does\n",
    "- Lambda function is always written in 1 line\n",
    "- Lambda function is not reusable\n",
    "\n",
    "Why we use lambda function ?\n",
    "\n",
    "- Lambda function is used with Higer order function(HOF)"
   ]
  },
  {
   "cell_type": "code",
   "execution_count": 17,
   "id": "1bd446f3",
   "metadata": {},
   "outputs": [
    {
     "data": {
      "text/plain": [
       "False"
      ]
     },
     "execution_count": 17,
     "metadata": {},
     "output_type": "execute_result"
    }
   ],
   "source": [
    "#check if string has 'a'\n",
    "a=lambda s:'a' in s\n",
    "a('hello')"
   ]
  },
  {
   "cell_type": "code",
   "execution_count": 18,
   "id": "601b5a63",
   "metadata": {},
   "outputs": [
    {
     "data": {
      "text/plain": [
       "'odd'"
      ]
     },
     "execution_count": 18,
     "metadata": {},
     "output_type": "execute_result"
    }
   ],
   "source": [
    "#odd or even\n",
    "b=lambda x:'even' if x%2==0 else 'odd'\n",
    "b(5)"
   ]
  },
  {
   "cell_type": "markdown",
   "id": "a0aec9e6",
   "metadata": {},
   "source": [
    "### Higher Order Functions "
   ]
  },
  {
   "cell_type": "markdown",
   "id": "f67a70cd",
   "metadata": {},
   "source": [
    "A function in Python with another function as an argument or returns a function as an output is called the High order function."
   ]
  },
  {
   "cell_type": "code",
   "execution_count": 3,
   "id": "3e57506c",
   "metadata": {},
   "outputs": [
    {
     "name": "stdout",
     "output_type": "stream",
     "text": [
      "[1, 4, 9, 16, 25]\n"
     ]
    }
   ],
   "source": [
    "#HOF\n",
    "\n",
    "def transform(f,L):\n",
    "    output=[]\n",
    "    for i in L:\n",
    "        output.append(f(i))\n",
    "        \n",
    "    print(output)\n",
    "L=[1,2,3,4,5]\n",
    "transform(lambda x:x**2,L)"
   ]
  },
  {
   "cell_type": "markdown",
   "id": "de6c21c4",
   "metadata": {},
   "source": [
    "### Map (function,iterable)"
   ]
  },
  {
   "cell_type": "code",
   "execution_count": 5,
   "id": "482de87c",
   "metadata": {},
   "outputs": [
    {
     "data": {
      "text/plain": [
       "[1, 8, 27, 64, 125]"
      ]
     },
     "execution_count": 5,
     "metadata": {},
     "output_type": "execute_result"
    }
   ],
   "source": [
    "#square the items of a list\n",
    "list(map(lambda x:x**3,[1,2,3,4,5]))"
   ]
  },
  {
   "cell_type": "code",
   "execution_count": 6,
   "id": "c12e3464",
   "metadata": {},
   "outputs": [
    {
     "data": {
      "text/plain": [
       "['odd', 'even', 'odd', 'even', 'odd', 'even', 'odd', 'even', 'odd']"
      ]
     },
     "execution_count": 6,
     "metadata": {},
     "output_type": "execute_result"
    }
   ],
   "source": [
    "#odd even labeling of list items\n",
    "L=[1,2,3,4,5,6,7,8,9]\n",
    "list(map(lambda x:'even' if x%2==0 else 'odd',L))"
   ]
  },
  {
   "cell_type": "code",
   "execution_count": 7,
   "id": "c9934343",
   "metadata": {},
   "outputs": [
    {
     "data": {
      "text/plain": [
       "['male', 'male', 'female']"
      ]
     },
     "execution_count": 7,
     "metadata": {},
     "output_type": "execute_result"
    }
   ],
   "source": [
    "# fetch names from a list of dict\n",
    "\n",
    "users = [\n",
    "    {\n",
    "        'name':'Rahul',\n",
    "        'age':45,\n",
    "        'gender':'male'\n",
    "    },\n",
    "    {\n",
    "        'name':'Nitish',\n",
    "        'age':33,\n",
    "        'gender':'male'\n",
    "    },\n",
    "    {\n",
    "        'name':'Ankita',\n",
    "        'age':50,\n",
    "        'gender':'female'\n",
    "    }\n",
    "]\n",
    "\n",
    "list(map(lambda users:users['gender'],users))"
   ]
  },
  {
   "cell_type": "markdown",
   "id": "2f0ddae0",
   "metadata": {},
   "source": [
    "### Filter(Function , iterable)"
   ]
  },
  {
   "cell_type": "code",
   "execution_count": 8,
   "id": "e79f90ed",
   "metadata": {},
   "outputs": [
    {
     "data": {
      "text/plain": [
       "[6, 7]"
      ]
     },
     "execution_count": 8,
     "metadata": {},
     "output_type": "execute_result"
    }
   ],
   "source": [
    "#numbers greater than 5\n",
    "L=[3,4,5,6,7]\n",
    "list(filter(lambda x:x>5,L))"
   ]
  },
  {
   "cell_type": "code",
   "execution_count": 9,
   "id": "5d9f70f8",
   "metadata": {},
   "outputs": [
    {
     "data": {
      "text/plain": [
       "['apple']"
      ]
     },
     "execution_count": 9,
     "metadata": {},
     "output_type": "execute_result"
    }
   ],
   "source": [
    "# fetch fruits starting with 'a'\n",
    "fruits = ['apple','guava','cherry']\n",
    "\n",
    "list(filter(lambda x:x.startswith('a'),fruits))"
   ]
  },
  {
   "cell_type": "markdown",
   "id": "7236acb3",
   "metadata": {},
   "source": [
    "### Reduce"
   ]
  },
  {
   "cell_type": "markdown",
   "id": "a373d74b",
   "metadata": {},
   "source": [
    "functools.py --> Tools for working with functions and callable objects"
   ]
  },
  {
   "cell_type": "code",
   "execution_count": 10,
   "id": "81563c06",
   "metadata": {},
   "outputs": [
    {
     "data": {
      "text/plain": [
       "51"
      ]
     },
     "execution_count": 10,
     "metadata": {},
     "output_type": "execute_result"
    }
   ],
   "source": [
    "#sum of all items\n",
    "import functools\n",
    "functools.reduce(lambda x,y:x+y,[1,2,3,45])"
   ]
  },
  {
   "cell_type": "code",
   "execution_count": 11,
   "id": "56db1f30",
   "metadata": {},
   "outputs": [
    {
     "data": {
      "text/plain": [
       "4"
      ]
     },
     "execution_count": 11,
     "metadata": {},
     "output_type": "execute_result"
    }
   ],
   "source": [
    "#find the min element \n",
    "functools.reduce(lambda x,y:x if x<y else y,[23,11,43,21,4])"
   ]
  },
  {
   "cell_type": "code",
   "execution_count": null,
   "id": "3bc82f8d",
   "metadata": {},
   "outputs": [],
   "source": []
  }
 ],
 "metadata": {
  "kernelspec": {
   "display_name": "Python 3 (ipykernel)",
   "language": "python",
   "name": "python3"
  },
  "language_info": {
   "codemirror_mode": {
    "name": "ipython",
    "version": 3
   },
   "file_extension": ".py",
   "mimetype": "text/x-python",
   "name": "python",
   "nbconvert_exporter": "python",
   "pygments_lexer": "ipython3",
   "version": "3.9.12"
  }
 },
 "nbformat": 4,
 "nbformat_minor": 5
}
