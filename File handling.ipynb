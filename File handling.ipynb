{
 "cells": [
  {
   "cell_type": "markdown",
   "id": "fd459a7e",
   "metadata": {},
   "source": [
    "## File Handling\n",
    "\n",
    "File handling in Python is simplified with built-in methods, which include creating, opening, and closing files. While files are open, Python additionally allows performing various file operations, such as reading, writing, and appending information."
   ]
  },
  {
   "cell_type": "markdown",
   "id": "c909141a",
   "metadata": {},
   "source": [
    "### Some Theory\n",
    "##### Types of data used for I/O:\n",
    "- Text - '12345' as a sequence of unicode chars\n",
    "- Binary - 12345 as a sequence of bytes of its binary equivalent\n",
    "\n",
    "##### Hence there are 2 file types to deal with\n",
    "- Text files - All program files are text files\n",
    "- Binary Files - Images,music,video,exe files\n",
    "\n",
    "#### How File I/O is done in most programming\n",
    "- Open a file\n",
    "- Read/Write data\n",
    "- Close the file"
   ]
  },
  {
   "cell_type": "markdown",
   "id": "adb3aed6",
   "metadata": {},
   "source": [
    "If the file is not present then first of all use the open function and then write something in that file -->check the folder file has been created in my case sample.txt is created"
   ]
  },
  {
   "cell_type": "code",
   "execution_count": 1,
   "id": "9e51eed4",
   "metadata": {},
   "outputs": [
    {
     "data": {
      "text/plain": [
       "21"
      ]
     },
     "execution_count": 1,
     "metadata": {},
     "output_type": "execute_result"
    }
   ],
   "source": [
    "f=open('sample.txt','w')\n",
    "f.write('Hello here is abhinav')\n",
    "f.close()\n",
    "#since file has been closed this file will not work\n",
    "f.write('HELLO')"
   ]
  },
  {
   "cell_type": "code",
   "execution_count": 3,
   "id": "6343915a",
   "metadata": {},
   "outputs": [],
   "source": [
    "#write multiline strings\n",
    "f=open('sample1.txt','w')\n",
    "f.write('heelllo hhooo')\n",
    "f.write('/nmera name don hai')\n",
    "f.close()"
   ]
  },
  {
   "cell_type": "markdown",
   "id": "555c8641",
   "metadata": {},
   "source": [
    "if file already present then in w mode we can write content --> purana wala content hta dega new wala add kr dega"
   ]
  },
  {
   "cell_type": "code",
   "execution_count": 4,
   "id": "ac74e8b8",
   "metadata": {},
   "outputs": [],
   "source": [
    "#case 2-> if the file is already present\n",
    "f=open('sample.txt','w')\n",
    "f.write('sallaammmaaann kkkhahaannn')\n",
    "f.close()"
   ]
  },
  {
   "cell_type": "code",
   "execution_count": 6,
   "id": "972cc889",
   "metadata": {},
   "outputs": [],
   "source": [
    "#problem with w mode\n",
    "# introducing with append mode (add content in the last without replacing previous content)\n",
    "f=open('sample.txt','a')\n",
    "f.write('\\nBahut badhiya action hero hai')\n",
    "f.close()"
   ]
  },
  {
   "cell_type": "code",
   "execution_count": 7,
   "id": "65852d30",
   "metadata": {},
   "outputs": [],
   "source": [
    "#write multiple lines with the help of list\n",
    "L=['hello\\n','mera name\\n','abhinav kumar hai\\n']\n",
    "f=open('sample.txt','w')\n",
    "f.writelines(L)\n",
    "f.close()"
   ]
  },
  {
   "cell_type": "code",
   "execution_count": 8,
   "id": "5eee833a",
   "metadata": {},
   "outputs": [
    {
     "name": "stdout",
     "output_type": "stream",
     "text": [
      "hello\n",
      "mera name\n",
      "abhinav kumar hai\n",
      "\n"
     ]
    }
   ],
   "source": [
    "# reading from files using read(r)\n",
    "f=open('sample.txt','r')\n",
    "s=f.read()\n",
    "print(s)\n",
    "f.close()"
   ]
  },
  {
   "cell_type": "code",
   "execution_count": 9,
   "id": "a2041df8",
   "metadata": {},
   "outputs": [
    {
     "name": "stdout",
     "output_type": "stream",
     "text": [
      "hello\n",
      "mera\n"
     ]
    }
   ],
   "source": [
    "#reading upto n characters\n",
    "f=open('sample.txt','r')\n",
    "s=f.read(10)\n",
    "print(s)\n",
    "f.close()"
   ]
  },
  {
   "cell_type": "code",
   "execution_count": 11,
   "id": "5eb77204",
   "metadata": {},
   "outputs": [
    {
     "name": "stdout",
     "output_type": "stream",
     "text": [
      "hello\n",
      "\n"
     ]
    }
   ],
   "source": [
    "#readline()--> to read line by line\n",
    "f=open('sample.txt','r')\n",
    "s=f.readline()\n",
    "print(s)\n",
    "f.close()"
   ]
  },
  {
   "cell_type": "code",
   "execution_count": 12,
   "id": "9d175f05",
   "metadata": {},
   "outputs": [
    {
     "name": "stdout",
     "output_type": "stream",
     "text": [
      "hello\n",
      "mera name\n",
      "abhinav kumar hai\n"
     ]
    }
   ],
   "source": [
    "# reading entire content by using the loop\n",
    "f=open('sample.txt','r')\n",
    "\n",
    "while True:\n",
    "    data=f.readline()\n",
    "    if data=='':\n",
    "        break\n",
    "    else:\n",
    "        print(data,end='')\n",
    "f.close()"
   ]
  },
  {
   "cell_type": "markdown",
   "id": "70014242",
   "metadata": {},
   "source": [
    "### Using context manager(with)"
   ]
  },
  {
   "cell_type": "markdown",
   "id": "f02a0208",
   "metadata": {},
   "source": [
    "- It's a good idea to close a file after usage as it will free up the resources\n",
    "- If we dont close it, garbage collector would close it\n",
    "- with keyword closes the file as soon as the usage is over"
   ]
  },
  {
   "cell_type": "code",
   "execution_count": 13,
   "id": "65b554a3",
   "metadata": {},
   "outputs": [],
   "source": [
    "# with --> write k sath hi file ko close kr deta hai alag se close krne ki jarurat ni hoti\n",
    "with open('sample.txt','w') as f:\n",
    "    f.write('selmon bhai')"
   ]
  },
  {
   "cell_type": "code",
   "execution_count": 15,
   "id": "7c629efd",
   "metadata": {},
   "outputs": [
    {
     "name": "stdout",
     "output_type": "stream",
     "text": [
      "selmon bhai\n"
     ]
    }
   ],
   "source": [
    "# try f.read() now\n",
    "with open('sample.txt','r') as f:\n",
    "    print(f.readline())"
   ]
  },
  {
   "cell_type": "code",
   "execution_count": 16,
   "id": "8382ed65",
   "metadata": {},
   "outputs": [
    {
     "name": "stdout",
     "output_type": "stream",
     "text": [
      "selmon bha\n",
      "i\n",
      "\n",
      "\n"
     ]
    }
   ],
   "source": [
    "# moving within a file -> 10 char then 10 char\n",
    "with open('sample.txt','r') as f:\n",
    "    print(f.read(10))#first 10 char ko read krega fir uske bad ka char read krega \n",
    "    print(f.read(10))\n",
    "    print(f.read(10))\n",
    "    print(f.read(10))"
   ]
  },
  {
   "cell_type": "code",
   "execution_count": 17,
   "id": "6ae54a1d",
   "metadata": {},
   "outputs": [],
   "source": [
    "# benefit? -> to load a big file in memory\n",
    "big_L = ['hello world ' for i in range(1000)]\n",
    "\n",
    "with open('big.txt','w') as f:\n",
    "    f.writelines(big_L)\n"
   ]
  },
  {
   "cell_type": "code",
   "execution_count": 19,
   "id": "dcc015a1",
   "metadata": {},
   "outputs": [
    {
     "name": "stdout",
     "output_type": "stream",
     "text": [
      "o world hello world hello world hello world hello world hello world hello world hello world hello wo***o world hello world hello world hello world hello world hello world hello world hello world hello wo***o world hello world hello world hello world hello world hello world hello world hello world hello wo***o world hello world hello world hello world hello world hello world hello world hello world hello wo***o world hello world hello world hello world hello world hello world hello world hello world hello wo***o world hello world hello world hello world hello world hello world hello world hello world hello wo***o world hello world hello world hello world hello world hello world hello world hello world hello wo***o world hello world hello world hello world hello world hello world hello world hello world hello wo***o world hello world hello world hello world hello world hello world hello world hello world hello wo***o world hello world hello world hello world hello world hello world hello world hello world hello wo***o world hello world hello world hello world hello world hello world hello world hello world hello wo***o world hello world hello world hello world hello world hello world hello world hello world hello wo***o world hello world hello world hello world hello world hello world hello world hello world hello wo***o world hello world hello world hello world hello world hello world hello world hello world hello wo***o world hello world hello world hello world hello world hello world hello world hello world hello wo***o world hello world hello world hello world hello world hello world hello world hello world hello wo***o world hello world hello world hello world hello world hello world hello world hello world hello wo***o world hello world hello world hello world hello world hello world hello world hello world hello wo***o world hello world hello world hello world hello world hello world hello world hello world hello wo***o world hello world hello world hello world hello world hello world hello world hello world hello wo***o world hello world hello world hello world hello world hello world hello world hello world hello wo***o world hello world hello world hello world hello world hello world hello world hello world hello wo***o world hello world hello world hello world hello world hello world hello world hello world hello wo***o world hello world hello world hello world hello world hello world hello world hello world hello wo***o world hello world hello world hello world hello world hello world hello world hello world hello wo***o world hello world hello world hello world hello world hello world hello world hello world hello wo***o world hello world hello world hello world hello world hello world hello world hello world hello wo***o world hello world hello world hello world hello world hello world hello world hello world hello wo***o world hello world hello world hello world hello world hello world hello world hello world hello wo***o world hello world hello world hello world hello world hello world hello world hello world hello wo***o world hello world hello world hello world hello world hello world hello world hello world hello wo***o world hello world hello world hello world hello world hello world hello world hello world hello wo***o world hello world hello world hello world hello world hello world hello world hello world hello wo***o world hello world hello world hello world hello world hello world hello world hello world hello wo***o world hello world hello world hello world hello world hello world hello world hello world hello wo***o world hello world hello world hello world hello world hello world hello world hello world hello wo***o world hello world hello world hello world hello world hello world hello world hello world hello wo***o world hello world hello world hello world hello world hello world hello world hello world hello wo***o world hello world hello world hello world hello world hello world hello world hello world hello wo***o world hello world hello world hello world hello world hello world hello world hello world hello wo***"
     ]
    }
   ],
   "source": [
    "with open('big.txt','r') as f:\n",
    "\n",
    "    chunk_size = 100\n",
    "\n",
    "    while len(f.read(chunk_size)) > 0:\n",
    "        print(f.read(chunk_size),end='***')\n",
    "        f.read(chunk_size)"
   ]
  },
  {
   "cell_type": "code",
   "execution_count": 21,
   "id": "5e3816d0",
   "metadata": {},
   "outputs": [
    {
     "name": "stdout",
     "output_type": "stream",
     "text": [
      "mera name \n",
      "25\n",
      "heelllo hh\n",
      "10\n"
     ]
    }
   ],
   "source": [
    "# seek and tell function\n",
    "with open('sample1.txt','r') as f:\n",
    "    f.seek(15)\n",
    "    print(f.read(10))\n",
    "    print(f.tell())# current index position btayega\n",
    "    f.seek(0)#seek btayega kis character se start krna hai isme hai 10,12,30 kuchh bhi de skte hai\n",
    "    print(f.read(10))\n",
    "    print(f.tell())"
   ]
  },
  {
   "cell_type": "code",
   "execution_count": 22,
   "id": "01f8e0bf",
   "metadata": {},
   "outputs": [],
   "source": [
    "# seek during write\n",
    "with open('sample.txt','w') as f:\n",
    "    f.write('Hello')\n",
    "    f.seek(0)\n",
    "    f.write('Xa')"
   ]
  },
  {
   "cell_type": "markdown",
   "id": "574be9f7",
   "metadata": {},
   "source": [
    "### Problems with working in text mode"
   ]
  },
  {
   "cell_type": "markdown",
   "id": "5416a138",
   "metadata": {},
   "source": [
    "- can't work with binary files like images\n",
    "- not good for other data types like int/float/list/tuples"
   ]
  },
  {
   "cell_type": "code",
   "execution_count": 23,
   "id": "0e1c4adc",
   "metadata": {},
   "outputs": [
    {
     "ename": "UnicodeDecodeError",
     "evalue": "'charmap' codec can't decode byte 0x81 in position 301: character maps to <undefined>",
     "output_type": "error",
     "traceback": [
      "\u001b[1;31m---------------------------------------------------------------------------\u001b[0m",
      "\u001b[1;31mUnicodeDecodeError\u001b[0m                        Traceback (most recent call last)",
      "Input \u001b[1;32mIn [23]\u001b[0m, in \u001b[0;36m<cell line: 2>\u001b[1;34m()\u001b[0m\n\u001b[0;32m      1\u001b[0m \u001b[38;5;66;03m# working with binary file\u001b[39;00m\n\u001b[0;32m      2\u001b[0m \u001b[38;5;28;01mwith\u001b[39;00m \u001b[38;5;28mopen\u001b[39m(\u001b[38;5;124m'\u001b[39m\u001b[38;5;124mprepinsta.jpg\u001b[39m\u001b[38;5;124m'\u001b[39m,\u001b[38;5;124m'\u001b[39m\u001b[38;5;124mr\u001b[39m\u001b[38;5;124m'\u001b[39m) \u001b[38;5;28;01mas\u001b[39;00m f:\n\u001b[1;32m----> 3\u001b[0m     \u001b[43mf\u001b[49m\u001b[38;5;241;43m.\u001b[39;49m\u001b[43mread\u001b[49m\u001b[43m(\u001b[49m\u001b[43m)\u001b[49m\n",
      "File \u001b[1;32m~\\anaconda3\\lib\\encodings\\cp1252.py:23\u001b[0m, in \u001b[0;36mIncrementalDecoder.decode\u001b[1;34m(self, input, final)\u001b[0m\n\u001b[0;32m     22\u001b[0m \u001b[38;5;28;01mdef\u001b[39;00m \u001b[38;5;21mdecode\u001b[39m(\u001b[38;5;28mself\u001b[39m, \u001b[38;5;28minput\u001b[39m, final\u001b[38;5;241m=\u001b[39m\u001b[38;5;28;01mFalse\u001b[39;00m):\n\u001b[1;32m---> 23\u001b[0m     \u001b[38;5;28;01mreturn\u001b[39;00m \u001b[43mcodecs\u001b[49m\u001b[38;5;241;43m.\u001b[39;49m\u001b[43mcharmap_decode\u001b[49m\u001b[43m(\u001b[49m\u001b[38;5;28;43minput\u001b[39;49m\u001b[43m,\u001b[49m\u001b[38;5;28;43mself\u001b[39;49m\u001b[38;5;241;43m.\u001b[39;49m\u001b[43merrors\u001b[49m\u001b[43m,\u001b[49m\u001b[43mdecoding_table\u001b[49m\u001b[43m)\u001b[49m[\u001b[38;5;241m0\u001b[39m]\n",
      "\u001b[1;31mUnicodeDecodeError\u001b[0m: 'charmap' codec can't decode byte 0x81 in position 301: character maps to <undefined>"
     ]
    }
   ],
   "source": [
    "# working with binary file\n",
    "with open('prepinsta.jpg','r') as f:\n",
    "    f.read()"
   ]
  },
  {
   "cell_type": "code",
   "execution_count": 25,
   "id": "af8daae7",
   "metadata": {},
   "outputs": [],
   "source": [
    "# working with binary file\n",
    "with open('prepinsta.jpg','rb') as f: #rb->read binary wb-> write binary\n",
    "    with open('prepinsta_copy.jpg','wb') as wf:\n",
    "        wf.write(f.read())"
   ]
  },
  {
   "cell_type": "code",
   "execution_count": 26,
   "id": "71023b0d",
   "metadata": {},
   "outputs": [
    {
     "ename": "TypeError",
     "evalue": "write() argument must be str, not int",
     "output_type": "error",
     "traceback": [
      "\u001b[1;31m---------------------------------------------------------------------------\u001b[0m",
      "\u001b[1;31mTypeError\u001b[0m                                 Traceback (most recent call last)",
      "Input \u001b[1;32mIn [26]\u001b[0m, in \u001b[0;36m<cell line: 2>\u001b[1;34m()\u001b[0m\n\u001b[0;32m      1\u001b[0m \u001b[38;5;66;03m# working with other data types\u001b[39;00m\n\u001b[0;32m      2\u001b[0m \u001b[38;5;28;01mwith\u001b[39;00m \u001b[38;5;28mopen\u001b[39m(\u001b[38;5;124m'\u001b[39m\u001b[38;5;124msample.txt\u001b[39m\u001b[38;5;124m'\u001b[39m,\u001b[38;5;124m'\u001b[39m\u001b[38;5;124mw\u001b[39m\u001b[38;5;124m'\u001b[39m) \u001b[38;5;28;01mas\u001b[39;00m f:\n\u001b[1;32m----> 3\u001b[0m   \u001b[43mf\u001b[49m\u001b[38;5;241;43m.\u001b[39;49m\u001b[43mwrite\u001b[49m\u001b[43m(\u001b[49m\u001b[38;5;241;43m5\u001b[39;49m\u001b[43m)\u001b[49m\n",
      "\u001b[1;31mTypeError\u001b[0m: write() argument must be str, not int"
     ]
    }
   ],
   "source": [
    "# working with other data types\n",
    "with open('sample.txt','w') as f:\n",
    "    f.write(5)"
   ]
  },
  {
   "cell_type": "code",
   "execution_count": 27,
   "id": "f1e13b2f",
   "metadata": {},
   "outputs": [],
   "source": [
    "# working with other data types\n",
    "with open('sample.txt','w') as f:\n",
    "    f.write('5')"
   ]
  },
  {
   "cell_type": "code",
   "execution_count": 28,
   "id": "1e11b5e3",
   "metadata": {},
   "outputs": [
    {
     "ename": "TypeError",
     "evalue": "can only concatenate str (not \"int\") to str",
     "output_type": "error",
     "traceback": [
      "\u001b[1;31m---------------------------------------------------------------------------\u001b[0m",
      "\u001b[1;31mTypeError\u001b[0m                                 Traceback (most recent call last)",
      "Input \u001b[1;32mIn [28]\u001b[0m, in \u001b[0;36m<cell line: 1>\u001b[1;34m()\u001b[0m\n\u001b[0;32m      1\u001b[0m \u001b[38;5;28;01mwith\u001b[39;00m \u001b[38;5;28mopen\u001b[39m(\u001b[38;5;124m'\u001b[39m\u001b[38;5;124msample.txt\u001b[39m\u001b[38;5;124m'\u001b[39m,\u001b[38;5;124m'\u001b[39m\u001b[38;5;124mr\u001b[39m\u001b[38;5;124m'\u001b[39m) \u001b[38;5;28;01mas\u001b[39;00m f:\n\u001b[1;32m----> 2\u001b[0m     \u001b[38;5;28mprint\u001b[39m(\u001b[43m(\u001b[49m\u001b[43mf\u001b[49m\u001b[38;5;241;43m.\u001b[39;49m\u001b[43mread\u001b[49m\u001b[43m(\u001b[49m\u001b[43m)\u001b[49m\u001b[43m)\u001b[49m\u001b[43m \u001b[49m\u001b[38;5;241;43m+\u001b[39;49m\u001b[43m \u001b[49m\u001b[38;5;241;43m5\u001b[39;49m)\n",
      "\u001b[1;31mTypeError\u001b[0m: can only concatenate str (not \"int\") to str"
     ]
    }
   ],
   "source": [
    "with open('sample.txt','r') as f:\n",
    "    print((f.read()) + 5)"
   ]
  },
  {
   "cell_type": "code",
   "execution_count": 29,
   "id": "10678e2e",
   "metadata": {},
   "outputs": [
    {
     "name": "stdout",
     "output_type": "stream",
     "text": [
      "10\n"
     ]
    }
   ],
   "source": [
    "with open('sample.txt','r') as f:\n",
    "     print(int(f.read()) + 5)"
   ]
  },
  {
   "cell_type": "code",
   "execution_count": 30,
   "id": "28f245fc",
   "metadata": {},
   "outputs": [],
   "source": [
    "# more complex data\n",
    "d = {\n",
    "    'name':'nitish',\n",
    "     'age':33,\n",
    "     'gender':'male'\n",
    "}\n",
    "\n",
    "with open('sample.txt','w') as f:\n",
    "    f.write(str(d))"
   ]
  },
  {
   "cell_type": "code",
   "execution_count": 31,
   "id": "f605c406",
   "metadata": {},
   "outputs": [
    {
     "ename": "ValueError",
     "evalue": "dictionary update sequence element #0 has length 1; 2 is required",
     "output_type": "error",
     "traceback": [
      "\u001b[1;31m---------------------------------------------------------------------------\u001b[0m",
      "\u001b[1;31mValueError\u001b[0m                                Traceback (most recent call last)",
      "Input \u001b[1;32mIn [31]\u001b[0m, in \u001b[0;36m<cell line: 1>\u001b[1;34m()\u001b[0m\n\u001b[0;32m      1\u001b[0m \u001b[38;5;28;01mwith\u001b[39;00m \u001b[38;5;28mopen\u001b[39m(\u001b[38;5;124m'\u001b[39m\u001b[38;5;124msample.txt\u001b[39m\u001b[38;5;124m'\u001b[39m,\u001b[38;5;124m'\u001b[39m\u001b[38;5;124mr\u001b[39m\u001b[38;5;124m'\u001b[39m) \u001b[38;5;28;01mas\u001b[39;00m f:\n\u001b[1;32m----> 2\u001b[0m     \u001b[38;5;28mprint\u001b[39m(\u001b[38;5;28;43mdict\u001b[39;49m\u001b[43m(\u001b[49m\u001b[43mf\u001b[49m\u001b[38;5;241;43m.\u001b[39;49m\u001b[43mread\u001b[49m\u001b[43m(\u001b[49m\u001b[43m)\u001b[49m\u001b[43m)\u001b[49m)\n",
      "\u001b[1;31mValueError\u001b[0m: dictionary update sequence element #0 has length 1; 2 is required"
     ]
    }
   ],
   "source": [
    "with open('sample.txt','r') as f:\n",
    "    print(dict(f.read()))"
   ]
  },
  {
   "cell_type": "markdown",
   "id": "a52dc70b",
   "metadata": {},
   "source": [
    "### Serialization and Deserialization"
   ]
  },
  {
   "attachments": {
    "Screenshot%20%28284%29.png": {
     "image/png": "[encoded data removed]"
    }
   },
   "cell_type": "markdown",
   "id": "e99c0e81",
   "metadata": {},
   "source": [
    "- Serialization - process of converting python data types to JSON format\n",
    "- Deserialization - process of converting JSON to python data types\n",
    "\n",
    "What is JSON--> JavaScript object Notation\n",
    "\n",
    "![Screenshot%20%28284%29.png](attachment:Screenshot%20%28284%29.png)"
   ]
  },
  {
   "cell_type": "code",
   "execution_count": 32,
   "id": "d7ae4f4e",
   "metadata": {},
   "outputs": [],
   "source": [
    "# serialization using json module\n",
    "# list\n",
    "import json\n",
    "\n",
    "L = [1,2,3,4]\n",
    "\n",
    "with open('demo.json','w') as f:\n",
    "    json.dump(L,f)\n"
   ]
  },
  {
   "cell_type": "code",
   "execution_count": 33,
   "id": "c1e9d55e",
   "metadata": {},
   "outputs": [],
   "source": [
    "# dict\n",
    "d = {\n",
    "    'name':'nitish',\n",
    "     'age':33,\n",
    "     'gender':'male'\n",
    "}\n",
    "\n",
    "with open('demo.json','w') as f:\n",
    "    json.dump(d,f,indent=4)"
   ]
  },
  {
   "cell_type": "code",
   "execution_count": 34,
   "id": "4e685b10",
   "metadata": {},
   "outputs": [
    {
     "name": "stdout",
     "output_type": "stream",
     "text": [
      "{'name': 'nitish', 'age': 33, 'gender': 'male'}\n",
      "<class 'dict'>\n"
     ]
    }
   ],
   "source": [
    "# deserialization\n",
    "import json\n",
    "\n",
    "with open('demo.json','r') as f:\n",
    "    d = json.load(f)\n",
    "    print(d)\n",
    "    print(type(d))"
   ]
  },
  {
   "cell_type": "code",
   "execution_count": 35,
   "id": "2e528c7d",
   "metadata": {},
   "outputs": [],
   "source": [
    "# serialize and deserialize tuple\n",
    "import json\n",
    "\n",
    "t = (1,2,3,4,5)\n",
    "\n",
    "with open('demo.json','w') as f:\n",
    "    json.dump(t,f)"
   ]
  },
  {
   "cell_type": "code",
   "execution_count": 36,
   "id": "5207c4d3",
   "metadata": {},
   "outputs": [],
   "source": [
    "# serialize and deserialize a nested dict\n",
    "\n",
    "d = {\n",
    "    'student':'nitish',\n",
    "     'marks':[23,14,34,45,56]\n",
    "}\n",
    "\n",
    "with open('demo.json','w') as f:\n",
    "     json.dump(d,f)"
   ]
  },
  {
   "cell_type": "markdown",
   "id": "53c446cd",
   "metadata": {},
   "source": [
    "### Serializing and Deserializing custom objects"
   ]
  },
  {
   "cell_type": "code",
   "execution_count": 37,
   "id": "dc77760c",
   "metadata": {},
   "outputs": [],
   "source": [
    "class Person:\n",
    "\n",
    "    def __init__(self,fname,lname,age,gender):\n",
    "        self.fname = fname\n",
    "        self.lname = lname\n",
    "        self.age = age\n",
    "        self.gender = gender\n",
    "\n",
    "# format to printed in\n",
    "# -> Nitish Singh age -> 33 gender -> male"
   ]
  },
  {
   "cell_type": "code",
   "execution_count": 38,
   "id": "aea70033",
   "metadata": {},
   "outputs": [],
   "source": [
    "person = Person('Nitish','Singh',33,'male')"
   ]
  },
  {
   "cell_type": "code",
   "execution_count": 39,
   "id": "10ecce63",
   "metadata": {},
   "outputs": [],
   "source": [
    "# As a string\n",
    "import json\n",
    "\n",
    "def show_object(person):\n",
    "    if isinstance(person,Person):\n",
    "        return \"{} {} age -> {} gender -> {}\".format(person.fname,person.lname,person.age,person.gender)\n",
    "\n",
    "with open('demo.json','w') as f:\n",
    "     json.dump(person,f,default=show_object)"
   ]
  },
  {
   "cell_type": "code",
   "execution_count": 40,
   "id": "055b1361",
   "metadata": {},
   "outputs": [],
   "source": [
    "# As a dict\n",
    "import json\n",
    "\n",
    "def show_object(person):\n",
    "     if isinstance(person,Person):\n",
    "        return {'name':person.fname + ' ' + person.lname,'age':person.age,'gender':person.gender}\n",
    "\n",
    "with open('demo.json','w') as f:\n",
    "    json.dump(person,f,default=show_object,indent=4)"
   ]
  },
  {
   "cell_type": "code",
   "execution_count": 41,
   "id": "d74ed877",
   "metadata": {},
   "outputs": [
    {
     "name": "stdout",
     "output_type": "stream",
     "text": [
      "{'name': 'Nitish Singh', 'age': 33, 'gender': 'male'}\n",
      "<class 'dict'>\n"
     ]
    }
   ],
   "source": [
    "# deserializing\n",
    "import json\n",
    "\n",
    "with open('demo.json','r') as f:\n",
    "    d = json.load(f)\n",
    "    print(d)\n",
    "    print(type(d))"
   ]
  },
  {
   "cell_type": "markdown",
   "id": "49ec0c08",
   "metadata": {},
   "source": [
    "### Pickling"
   ]
  },
  {
   "cell_type": "markdown",
   "id": "e5a93015",
   "metadata": {},
   "source": [
    "Pickling is the process whereby a Python object hierarchy is converted into a byte stream, and unpickling is the inverse operation, whereby a byte stream (from a binary file or bytes-like object) is converted back into an object hierarchy."
   ]
  },
  {
   "cell_type": "code",
   "execution_count": 42,
   "id": "bc7f12c0",
   "metadata": {},
   "outputs": [],
   "source": [
    "class Person:\n",
    "\n",
    "    def __init__(self,name,age):\n",
    "        self.name = name\n",
    "        self.age = age\n",
    "\n",
    "    def display_info(self):\n",
    "        print('Hi my name is',self.name,'and I am ',self.age,'years old')"
   ]
  },
  {
   "cell_type": "code",
   "execution_count": 43,
   "id": "3a0b7f76",
   "metadata": {},
   "outputs": [],
   "source": [
    "p = Person('nitish',33)\n"
   ]
  },
  {
   "cell_type": "code",
   "execution_count": 44,
   "id": "3dbdcaf8",
   "metadata": {},
   "outputs": [],
   "source": [
    "# pickle dump\n",
    "import pickle\n",
    "with open('person.pkl','wb') as f:\n",
    "    pickle.dump(p,f)"
   ]
  },
  {
   "cell_type": "code",
   "execution_count": 45,
   "id": "b4ea7e20",
   "metadata": {},
   "outputs": [
    {
     "name": "stdout",
     "output_type": "stream",
     "text": [
      "Hi my name is nitish and I am  33 years old\n"
     ]
    }
   ],
   "source": [
    "# pickle load\n",
    "import pickle\n",
    "with open('person.pkl','rb') as f:\n",
    "    p = pickle.load(f)\n",
    "\n",
    "p.display_info()"
   ]
  },
  {
   "cell_type": "markdown",
   "id": "d362a627",
   "metadata": {},
   "source": [
    "### Pickle vs JSON"
   ]
  },
  {
   "cell_type": "markdown",
   "id": "dc75ba6b",
   "metadata": {},
   "source": [
    "Pickle lets the user to store data in binary format. JSON lets the user store data in a human-readable text format."
   ]
  },
  {
   "cell_type": "code",
   "execution_count": null,
   "id": "bb776c62",
   "metadata": {},
   "outputs": [],
   "source": []
  }
 ],
 "metadata": {
  "kernelspec": {
   "display_name": "Python 3 (ipykernel)",
   "language": "python",
   "name": "python3"
  },
  "language_info": {
   "codemirror_mode": {
    "name": "ipython",
    "version": 3
   },
   "file_extension": ".py",
   "mimetype": "text/x-python",
   "name": "python",
   "nbconvert_exporter": "python",
   "pygments_lexer": "ipython3",
   "version": "3.9.12"
  }
 },
 "nbformat": 4,
 "nbformat_minor": 5
}
