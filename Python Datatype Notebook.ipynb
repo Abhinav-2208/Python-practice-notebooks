{
 "cells": [
  {
   "cell_type": "markdown",
   "id": "05c0e75e",
   "metadata": {},
   "source": [
    "## 1. List"
   ]
  },
  {
   "cell_type": "markdown",
   "id": "6809d557",
   "metadata": {},
   "source": [
    "List is a data type where you can store multiple element under 1 name.\n",
    "\n",
    "<h3>Properties of list</h3>\n",
    "<h4>Mutable:</h4>The elements of the list can be modified. We can add or remove items to the list after it has been created.\n",
    "<h4>Ordered:</h4>The items in the lists are ordered. Each item has a unique index value. The new items will be added to the end of the list.\n",
    "<h4>Heterogenous:</h4>The list can contain different kinds of elements i.e; they can contain elements of string, integer, boolean, or any type\n",
    "<h4>Duplicates:</h4>The list can contain duplicates i.e., lists can have two items with the same values.\n",
    "\n",
    "- Lists are dynamic array\n",
    "- can be nested \n",
    "- items can be accessed\n",
    "- can contain any type of objects in python"
   ]
  },
  {
   "cell_type": "markdown",
   "id": "b46a4851",
   "metadata": {},
   "source": [
    "### Array vs List"
   ]
  },
  {
   "cell_type": "markdown",
   "id": "dd1b6b40",
   "metadata": {},
   "source": [
    "- Array is of fixed size  while list are dynamic in size we can add more elements\n",
    "- Array is a homogenous(same type of items) while list are heterogenous it can store more than one type of items\n",
    "- Python list are slower than array(speed of execution)\n",
    "- Python list take more space in memory than array"
   ]
  },
  {
   "cell_type": "code",
   "execution_count": 3,
   "id": "92dd897f",
   "metadata": {},
   "outputs": [
    {
     "name": "stdout",
     "output_type": "stream",
     "text": [
      "1621384587600\n"
     ]
    }
   ],
   "source": [
    "a=2\n",
    "print(id(2))# id function tells the address or memory location"
   ]
  },
  {
   "cell_type": "markdown",
   "id": "bea25e32",
   "metadata": {},
   "source": [
    "- list me item k address store hote hai na ki item jiski vajah se ham kisi bhi type k item ko add ya modifi kr skte hai\n",
    "- Dynamic array means, suppose u have 3 item then it creates 3 block in memory and when we add 4th element it creates double of the previous block and store the 4th element at the next to the prev element and repeat this process.\n",
    "- when we store the memory location then during the accessing element it takes more time and space"
   ]
  },
  {
   "cell_type": "code",
   "execution_count": 4,
   "id": "e1edda60",
   "metadata": {},
   "outputs": [
    {
     "name": "stdout",
     "output_type": "stream",
     "text": [
      "1621472652928\n",
      "1621384587568\n",
      "1621384587600\n",
      "1621384587632\n",
      "1621384587568\n",
      "1621384587600\n",
      "1621384587632\n"
     ]
    }
   ],
   "source": [
    "L=[1,2,3]\n",
    "print(id(L))\n",
    "print(id(L[0]))\n",
    "print(id(L[1]))\n",
    "print(id(L[2]))\n",
    "print(id(1))\n",
    "print(id(2))\n",
    "print(id(3))"
   ]
  },
  {
   "cell_type": "markdown",
   "id": "fdb779d4",
   "metadata": {},
   "source": [
    "### Creating list"
   ]
  },
  {
   "cell_type": "code",
   "execution_count": 11,
   "id": "d86816e7",
   "metadata": {},
   "outputs": [
    {
     "name": "stdout",
     "output_type": "stream",
     "text": [
      "[]\n",
      "[1, 2, 3]\n",
      "[1, 2, 3, [4, 5]]\n",
      "[[[1, 2], [3, 4]], [[5, 6], [7, 8]]]\n",
      "[1, True, 5.6, (5+6j), 'hello']\n",
      "['h', 'e', 'l', 'l', 'o']\n"
     ]
    }
   ],
   "source": [
    "# empty list\n",
    "print([])\n",
    "\n",
    "# 1d and homogenous list\n",
    "print([1,2,3])\n",
    "\n",
    "#2D heterogenous\n",
    "print([1,2,3,[4,5]])\n",
    "\n",
    "#3D and homogenous\n",
    "print([[[1,2],[3,4]],[[5,6],[7,8]]])\n",
    "\n",
    "#heterogenous\n",
    "print([1,True,5.6,5+6j,'hello'])\n",
    "\n",
    "#using type conversion\n",
    "print(list('hello'))"
   ]
  },
  {
   "cell_type": "markdown",
   "id": "d6008e57",
   "metadata": {},
   "source": [
    "### Accessing items from a list"
   ]
  },
  {
   "cell_type": "code",
   "execution_count": 18,
   "id": "7a2a65f3",
   "metadata": {},
   "outputs": [
    {
     "name": "stdout",
     "output_type": "stream",
     "text": [
      "3\n",
      "5\n",
      "4\n",
      "5\n",
      "2\n"
     ]
    }
   ],
   "source": [
    "#indexing --> Accessing the item on the basis of index\n",
    "L=[1,2,3,4,5]\n",
    "# positive indexing\n",
    "print(L[2])\n",
    "#Negative indexing\n",
    "print(L[-1])\n",
    "L1=[1,2,3,[4,5]]\n",
    "print(L1[-1][-2])\n",
    "\n",
    "L2=[[[1,2],[3,4]],[[5,6],[7,8]]]\n",
    "print(L2[1][0][0])\n",
    "print(L2[0][0][1])"
   ]
  },
  {
   "cell_type": "code",
   "execution_count": 22,
   "id": "ea13be30",
   "metadata": {},
   "outputs": [
    {
     "name": "stdout",
     "output_type": "stream",
     "text": [
      "[1, 2, 3]\n",
      "[5, 6, 7]\n",
      "[3, 5]\n",
      "[7, 6, 5, 4, 3, 2, 1]\n"
     ]
    }
   ],
   "source": [
    "# slicing --> slicing of items means more than one item can be accessed at the same time\n",
    "L=[1,2,3,4,5,6,7]\n",
    "print(L[0:3])\n",
    "print(L[-3:])\n",
    "print(L[2:5:2])\n",
    "print(L[::-1])# reverse the list"
   ]
  },
  {
   "cell_type": "markdown",
   "id": "c8e57c73",
   "metadata": {},
   "source": [
    "### Adding element to a list"
   ]
  },
  {
   "cell_type": "code",
   "execution_count": 23,
   "id": "44fbb7ba",
   "metadata": {},
   "outputs": [
    {
     "name": "stdout",
     "output_type": "stream",
     "text": [
      "[1, 2, 3, 4, 5, 6]\n"
     ]
    }
   ],
   "source": [
    "# append --> we can add only one element at the last in the list\n",
    "L=[1,2,3,4,5]\n",
    "L.append(6)\n",
    "print(L)"
   ]
  },
  {
   "cell_type": "code",
   "execution_count": 24,
   "id": "78a2fb12",
   "metadata": {},
   "outputs": [
    {
     "name": "stdout",
     "output_type": "stream",
     "text": [
      "[1, 2, 3, 4, 5, 6, 8, 9]\n"
     ]
    }
   ],
   "source": [
    "#extend --> multiple element can be added in the list\n",
    "L=[1,2,3,4,5]\n",
    "L.extend([6,8,9])\n",
    "print(L)"
   ]
  },
  {
   "cell_type": "code",
   "execution_count": 25,
   "id": "9b878d73",
   "metadata": {},
   "outputs": [
    {
     "name": "stdout",
     "output_type": "stream",
     "text": [
      "[1, 2, 3, 4, 5, [6, 7, 8]]\n"
     ]
    }
   ],
   "source": [
    "L=[1,2,3,4,5]\n",
    "L.append([6,7,8])\n",
    "print(L) # append only one element ko add krta hai"
   ]
  },
  {
   "cell_type": "code",
   "execution_count": 26,
   "id": "150cbb5d",
   "metadata": {},
   "outputs": [
    {
     "name": "stdout",
     "output_type": "stream",
     "text": [
      "[1, 2, 3, 4, 5, 'H', 'e', 'l', 'l', 'o']\n"
     ]
    }
   ],
   "source": [
    "L=[1,2,3,4,5]\n",
    "L.extend('Hello')\n",
    "print(L) # extend added multiple element 1st string ko list me convert krke append kr diya"
   ]
  },
  {
   "cell_type": "code",
   "execution_count": 27,
   "id": "64607174",
   "metadata": {},
   "outputs": [
    {
     "name": "stdout",
     "output_type": "stream",
     "text": [
      "[1, 100, 2, 3, 4, 5]\n"
     ]
    }
   ],
   "source": [
    "#inser --> Desired location pr add kr skte hai 1st index provide krna hai dusra value\n",
    "L=[1,2,3,4,5]\n",
    "L.insert(1,100)\n",
    "print(L)"
   ]
  },
  {
   "cell_type": "markdown",
   "id": "a6b7ace2",
   "metadata": {},
   "source": [
    "### Editting items in a list"
   ]
  },
  {
   "cell_type": "code",
   "execution_count": 31,
   "id": "397936db",
   "metadata": {},
   "outputs": [
    {
     "name": "stdout",
     "output_type": "stream",
     "text": [
      "[1, 200, 400, 600, 300]\n"
     ]
    }
   ],
   "source": [
    "L=[1,2,3,4,5]\n",
    "# editting with indexing\n",
    "L[-1]=300\n",
    "#editting with slicing\n",
    "L[1:4]=[200,400,600]\n",
    "print(L)"
   ]
  },
  {
   "cell_type": "markdown",
   "id": "a37cfba2",
   "metadata": {},
   "source": [
    "### Deleting items from a list"
   ]
  },
  {
   "cell_type": "markdown",
   "id": "469949be",
   "metadata": {},
   "source": [
    "Del()--> Delete the whole list or items of the list by providing the index of that item"
   ]
  },
  {
   "cell_type": "code",
   "execution_count": 32,
   "id": "e8a8f158",
   "metadata": {},
   "outputs": [
    {
     "name": "stdout",
     "output_type": "stream",
     "text": [
      "[1, 2, 3, 4, 5]\n"
     ]
    },
    {
     "ename": "NameError",
     "evalue": "name 'L' is not defined",
     "output_type": "error",
     "traceback": [
      "\u001b[1;31m---------------------------------------------------------------------------\u001b[0m",
      "\u001b[1;31mNameError\u001b[0m                                 Traceback (most recent call last)",
      "Input \u001b[1;32mIn [32]\u001b[0m, in \u001b[0;36m<cell line: 4>\u001b[1;34m()\u001b[0m\n\u001b[0;32m      2\u001b[0m \u001b[38;5;28mprint\u001b[39m(L)\n\u001b[0;32m      3\u001b[0m \u001b[38;5;28;01mdel\u001b[39;00m L\n\u001b[1;32m----> 4\u001b[0m \u001b[38;5;28mprint\u001b[39m(\u001b[43mL\u001b[49m)\n",
      "\u001b[1;31mNameError\u001b[0m: name 'L' is not defined"
     ]
    }
   ],
   "source": [
    "L=[1,2,3,4,5]\n",
    "print(L)\n",
    "del L\n",
    "print(L)# phle L print hua hai bad me not defined isliye qki delete ho chuka hai generally memory level pr delete nhi hota"
   ]
  },
  {
   "cell_type": "code",
   "execution_count": 35,
   "id": "ae7d9815",
   "metadata": {},
   "outputs": [
    {
     "name": "stdout",
     "output_type": "stream",
     "text": [
      "[1, 2, 4, 5]\n",
      "[2, 4]\n"
     ]
    }
   ],
   "source": [
    "L=[1,2,3,4,5]\n",
    "# deleting by indexing\n",
    "del L[2] # 3 delete ho jayega\n",
    "print(L)\n",
    "# deleting by slicing\n",
    "print(L[1:3])"
   ]
  },
  {
   "cell_type": "markdown",
   "id": "a7c15958",
   "metadata": {},
   "source": [
    "remove() --> remove the 1st occurance of element in the list"
   ]
  },
  {
   "cell_type": "code",
   "execution_count": 36,
   "id": "cda8d160",
   "metadata": {},
   "outputs": [
    {
     "name": "stdout",
     "output_type": "stream",
     "text": [
      "[1, 2, 3, 4]\n"
     ]
    }
   ],
   "source": [
    "L=[1,2,3,4,5]\n",
    "L.remove(5) # 5 ko remove krega by value not by index\n",
    "print(L)"
   ]
  },
  {
   "cell_type": "code",
   "execution_count": 37,
   "id": "42095238",
   "metadata": {},
   "outputs": [
    {
     "name": "stdout",
     "output_type": "stream",
     "text": [
      "[1, 2, 3, 5]\n"
     ]
    }
   ],
   "source": [
    "# pop() --> delete the element if index provided else delete the last element of the list\n",
    "L=[1,2,3,44,5]\n",
    "L.pop(3)\n",
    "print(L)"
   ]
  },
  {
   "cell_type": "code",
   "execution_count": 38,
   "id": "7ca138b5",
   "metadata": {},
   "outputs": [
    {
     "name": "stdout",
     "output_type": "stream",
     "text": [
      "[1, 2, 3, 4]\n"
     ]
    }
   ],
   "source": [
    "L=[1,2,3,4,55]\n",
    "L.pop()\n",
    "print(L)"
   ]
  },
  {
   "cell_type": "code",
   "execution_count": 40,
   "id": "e624d9bb",
   "metadata": {},
   "outputs": [
    {
     "name": "stdout",
     "output_type": "stream",
     "text": [
      "[]\n"
     ]
    }
   ],
   "source": [
    "# clear() --> clear the list and return the empty list\n",
    "L=[1,2,3,4,5]\n",
    "L.clear()\n",
    "print(L)"
   ]
  },
  {
   "cell_type": "markdown",
   "id": "3044b230",
   "metadata": {},
   "source": [
    "### Operations on lists"
   ]
  },
  {
   "cell_type": "markdown",
   "id": "0902fb45",
   "metadata": {},
   "source": [
    "- Arithmetic operation --> +, *\n",
    "- Membership operation --> IN and NOT IN \n",
    "- Loop"
   ]
  },
  {
   "cell_type": "code",
   "execution_count": 2,
   "id": "6015b56a",
   "metadata": {},
   "outputs": [
    {
     "name": "stdout",
     "output_type": "stream",
     "text": [
      "[1, 2, 3, 4, 5, 6, 7, 8]\n",
      "[1, 2, 3, 4, 1, 2, 3, 4, 1, 2, 3, 4]\n"
     ]
    }
   ],
   "source": [
    "L1=[1,2,3,4]\n",
    "L2=[5,6,7,8]\n",
    "print(L1+L2)# + concate the list\n",
    "print(L1*3) # * concate the list 3 times"
   ]
  },
  {
   "cell_type": "code",
   "execution_count": 4,
   "id": "6710a472",
   "metadata": {},
   "outputs": [
    {
     "name": "stdout",
     "output_type": "stream",
     "text": [
      "True\n",
      "False\n"
     ]
    }
   ],
   "source": [
    "L1=[1,2,3,4,5,6]\n",
    "L2=[1,2,3,4,[5,6,7]]\n",
    "print(5 in L1)\n",
    "print(5 in L2)"
   ]
  },
  {
   "cell_type": "code",
   "execution_count": 5,
   "id": "65eaf30c",
   "metadata": {},
   "outputs": [
    {
     "name": "stdout",
     "output_type": "stream",
     "text": [
      "1\n",
      "2\n",
      "3\n",
      "4\n",
      "5\n",
      "6\n"
     ]
    }
   ],
   "source": [
    "L1=[1,2,3,4,5,6]\n",
    "for i in L1:\n",
    "    print(i)"
   ]
  },
  {
   "cell_type": "markdown",
   "id": "8d84f7fe",
   "metadata": {},
   "source": [
    "### List functions"
   ]
  },
  {
   "cell_type": "markdown",
   "id": "75acae57",
   "metadata": {},
   "source": [
    "- len()-->\n",
    "- min()--> return the min value from the list it work only when the items are homogenous\n",
    "- max() -->\n",
    "- sorted() --> by default sort in ascending order for reverse order provide reverse=True"
   ]
  },
  {
   "cell_type": "code",
   "execution_count": 9,
   "id": "d0e06341",
   "metadata": {},
   "outputs": [
    {
     "name": "stdout",
     "output_type": "stream",
     "text": [
      "5\n",
      "1\n",
      "4\n",
      "[1, 2, 2, 3, 4]\n"
     ]
    }
   ],
   "source": [
    "L=[1,2,4,3,2]\n",
    "print(len(L))\n",
    "print(min(L)) \n",
    "print(max(L))\n",
    "print(sorted(L))"
   ]
  },
  {
   "cell_type": "code",
   "execution_count": 11,
   "id": "673ba8df",
   "metadata": {},
   "outputs": [
    {
     "name": "stdout",
     "output_type": "stream",
     "text": [
      "3\n",
      "1\n"
     ]
    }
   ],
   "source": [
    "#count --> return the frequency count of particular value\n",
    "L=[1,2,3,1,4,5,1]\n",
    "print(L.count(1))\n",
    "print(L.count(3))"
   ]
  },
  {
   "cell_type": "code",
   "execution_count": 12,
   "id": "6c66bd1e",
   "metadata": {},
   "outputs": [
    {
     "name": "stdout",
     "output_type": "stream",
     "text": [
      "4\n"
     ]
    }
   ],
   "source": [
    "#index --> return the index of any value from the list\n",
    "L=[2,4,1,6,91]\n",
    "print(L.index(91))"
   ]
  },
  {
   "cell_type": "code",
   "execution_count": 14,
   "id": "0282f354",
   "metadata": {},
   "outputs": [
    {
     "name": "stdout",
     "output_type": "stream",
     "text": [
      "[54, 41, 3, 2]\n"
     ]
    }
   ],
   "source": [
    "# reverse --> reverse the list permanently\n",
    "L=[2,3,41,54]\n",
    "L.reverse()\n",
    "print(L)"
   ]
  },
  {
   "cell_type": "code",
   "execution_count": 15,
   "id": "8c72780b",
   "metadata": {},
   "outputs": [
    {
     "name": "stdout",
     "output_type": "stream",
     "text": [
      "[2, 3, 4, 6, 7]\n"
     ]
    }
   ],
   "source": [
    "# sort --> sort the list permanently while sorted do not change the original list\n",
    "L=[3,2,4,6,7]\n",
    "L.sort()\n",
    "print(L)"
   ]
  },
  {
   "cell_type": "code",
   "execution_count": 16,
   "id": "49bea96c",
   "metadata": {},
   "outputs": [
    {
     "name": "stdout",
     "output_type": "stream",
     "text": [
      "[2, 1, 5, 7, 0]\n",
      "1876547403968\n",
      "[2, 1, 5, 7, 0]\n",
      "1876547413824\n"
     ]
    }
   ],
   "source": [
    "#copy --> copy the address of list \n",
    "L=[2,1,5,7,0]\n",
    "print(L)\n",
    "print(id(L))\n",
    "L1=L.copy()\n",
    "print(L1)\n",
    "print(id(L1))"
   ]
  },
  {
   "cell_type": "markdown",
   "id": "99490e0d",
   "metadata": {},
   "source": [
    "### List Comprehension"
   ]
  },
  {
   "cell_type": "markdown",
   "id": "1dc36a20",
   "metadata": {},
   "source": [
    "List comprehension provides a concise way of creating list\n",
    "- newlist=[expression for item in iterable if condition==True]"
   ]
  },
  {
   "cell_type": "markdown",
   "id": "6472f841",
   "metadata": {},
   "source": [
    "#### Advantages of list comprehensions"
   ]
  },
  {
   "cell_type": "markdown",
   "id": "9fa49c97",
   "metadata": {},
   "source": [
    "- more time efficient and space efficient than loops\n",
    "- Require fewer line of codes\n",
    "- Transforms iterative statement into formula"
   ]
  },
  {
   "cell_type": "markdown",
   "id": "11d6b425",
   "metadata": {},
   "source": [
    "Q.1 Add 1 to 10 numbers to a list"
   ]
  },
  {
   "cell_type": "code",
   "execution_count": 17,
   "id": "e50de432",
   "metadata": {},
   "outputs": [
    {
     "name": "stdout",
     "output_type": "stream",
     "text": [
      "[1, 2, 3, 4, 5, 6, 7, 8, 9, 10]\n"
     ]
    }
   ],
   "source": [
    "# using the loop\n",
    "L=[]\n",
    "for i in range(1,11):\n",
    "    L.append(i)\n",
    "print(L)"
   ]
  },
  {
   "cell_type": "code",
   "execution_count": 18,
   "id": "e48c0a7a",
   "metadata": {},
   "outputs": [
    {
     "name": "stdout",
     "output_type": "stream",
     "text": [
      "[1, 2, 3, 4, 5, 6, 7, 8, 9, 10]\n"
     ]
    }
   ],
   "source": [
    "# using comprehension\n",
    "L=[i for i in range(1,11)]\n",
    "print(L)"
   ]
  },
  {
   "cell_type": "markdown",
   "id": "95957068",
   "metadata": {},
   "source": [
    "Q.2 Scaler multiplication on a vector"
   ]
  },
  {
   "cell_type": "code",
   "execution_count": 20,
   "id": "2067c045",
   "metadata": {},
   "outputs": [
    {
     "name": "stdout",
     "output_type": "stream",
     "text": [
      "[-6, -9, -12, -15]\n"
     ]
    },
    {
     "data": {
      "text/plain": [
       "[-6, -9, -12, -15]"
      ]
     },
     "execution_count": 20,
     "metadata": {},
     "output_type": "execute_result"
    }
   ],
   "source": [
    "v=[2,3,4,5]\n",
    "s=-3\n",
    "\n",
    "#using loop\n",
    "x=[]\n",
    "for i in v:\n",
    "    x.append(i*s)\n",
    "    \n",
    "print(x)\n",
    "\n",
    "#using comprehension\n",
    "[s*i for i in v]"
   ]
  },
  {
   "cell_type": "markdown",
   "id": "268e93e7",
   "metadata": {},
   "source": [
    "Q.3 Add squares of [1,2,3,4,5] to list"
   ]
  },
  {
   "cell_type": "code",
   "execution_count": 22,
   "id": "245407cc",
   "metadata": {},
   "outputs": [
    {
     "name": "stdout",
     "output_type": "stream",
     "text": [
      "[1, 4, 9, 16, 25]\n"
     ]
    },
    {
     "data": {
      "text/plain": [
       "[1, 4, 9, 16, 25]"
      ]
     },
     "execution_count": 22,
     "metadata": {},
     "output_type": "execute_result"
    }
   ],
   "source": [
    "L=[1,2,3,4,5]\n",
    "#using loop\n",
    "r=[]\n",
    "for i in L:\n",
    "    r.append(i*i)\n",
    "    \n",
    "print(r)\n",
    "# using list comprehension\n",
    "[i*i for i in L]"
   ]
  },
  {
   "cell_type": "markdown",
   "id": "e4b24cd3",
   "metadata": {},
   "source": [
    "Q.4 Print all the number divisible by 5 in the range of 1 to 50"
   ]
  },
  {
   "cell_type": "code",
   "execution_count": 24,
   "id": "94b976db",
   "metadata": {},
   "outputs": [
    {
     "name": "stdout",
     "output_type": "stream",
     "text": [
      "[5, 10, 15, 20, 25, 30, 35, 40, 45, 50]\n"
     ]
    },
    {
     "data": {
      "text/plain": [
       "[5, 10, 15, 20, 25, 30, 35, 40, 45, 50]"
      ]
     },
     "execution_count": 24,
     "metadata": {},
     "output_type": "execute_result"
    }
   ],
   "source": [
    "#using loop\n",
    "L=[]\n",
    "for i in range(1,51):\n",
    "    if i%5==0:\n",
    "        L.append(i)\n",
    "print(L)\n",
    "\n",
    "#using comprehension\n",
    "[i for i in range(1,51) if i%5==0]"
   ]
  },
  {
   "cell_type": "markdown",
   "id": "22912068",
   "metadata": {},
   "source": [
    "Q.5 Find the languages started with letter p \n",
    "\n",
    "languages=['java','python','php','c','javascript']"
   ]
  },
  {
   "cell_type": "code",
   "execution_count": 25,
   "id": "b954b726",
   "metadata": {},
   "outputs": [
    {
     "data": {
      "text/plain": [
       "['python', 'php']"
      ]
     },
     "execution_count": 25,
     "metadata": {},
     "output_type": "execute_result"
    }
   ],
   "source": [
    "languages=['java','python','php','c','javascript']\n",
    "[lang for lang in languages if lang.startswith('p')]"
   ]
  },
  {
   "cell_type": "markdown",
   "id": "8043e3a8",
   "metadata": {},
   "source": [
    "Q.6 Nested if with list comprehension \n",
    "\n",
    "- add new list from my_fruits and items if the fruit exists in basket and also starts with a "
   ]
  },
  {
   "cell_type": "code",
   "execution_count": 26,
   "id": "81da12a9",
   "metadata": {},
   "outputs": [
    {
     "data": {
      "text/plain": [
       "['apple']"
      ]
     },
     "execution_count": 26,
     "metadata": {},
     "output_type": "execute_result"
    }
   ],
   "source": [
    "basket=['apple','guava','cherry','banana']\n",
    "my_fruits=['apple','kiwi','grapes','banana']\n",
    "\n",
    "[fruit for fruit in my_fruits if fruit in basket if fruit.startswith('a')]"
   ]
  },
  {
   "cell_type": "markdown",
   "id": "1886326c",
   "metadata": {},
   "source": [
    "Q.7 Print a 3x3 matrix using a list comprehension --> Nested list comprehension"
   ]
  },
  {
   "cell_type": "code",
   "execution_count": 27,
   "id": "4730239c",
   "metadata": {},
   "outputs": [
    {
     "data": {
      "text/plain": [
       "[[1, 2, 3], [2, 4, 6], [3, 6, 9]]"
      ]
     },
     "execution_count": 27,
     "metadata": {},
     "output_type": "execute_result"
    }
   ],
   "source": [
    "[[i*j for i in range(1,4)] for j in range(1,4)]"
   ]
  },
  {
   "cell_type": "markdown",
   "id": "96e53ffe",
   "metadata": {},
   "source": [
    "Q.8 Cartesian products --> list comprehension on 2 list together"
   ]
  },
  {
   "cell_type": "code",
   "execution_count": 30,
   "id": "4edd1ed4",
   "metadata": {},
   "outputs": [
    {
     "data": {
      "text/plain": [
       "[5, 6, 7, 8, 10, 12, 14, 16, 15, 18, 21, 24, 20, 24, 28, 32]"
      ]
     },
     "execution_count": 30,
     "metadata": {},
     "output_type": "execute_result"
    }
   ],
   "source": [
    "L1=[1,2,3,4]\n",
    "L2=[5,6,7,8]\n",
    "[i*j for i in L1 for j in L2]"
   ]
  },
  {
   "cell_type": "markdown",
   "id": "240f788c",
   "metadata": {},
   "source": [
    "### 2 ways to traverse a list"
   ]
  },
  {
   "cell_type": "markdown",
   "id": "bbade340",
   "metadata": {},
   "source": [
    "Traversing a list by using loop in 2 ways are:\n",
    "- itemwise\n",
    "- indexwise"
   ]
  },
  {
   "cell_type": "code",
   "execution_count": 31,
   "id": "2ebf988f",
   "metadata": {},
   "outputs": [
    {
     "name": "stdout",
     "output_type": "stream",
     "text": [
      "1\n",
      "2\n",
      "3\n",
      "5\n"
     ]
    }
   ],
   "source": [
    "#itemwise\n",
    "L=[1,2,3,5]\n",
    "for i in L:\n",
    "    print(i)"
   ]
  },
  {
   "cell_type": "code",
   "execution_count": 36,
   "id": "8a2c70be",
   "metadata": {},
   "outputs": [
    {
     "name": "stdout",
     "output_type": "stream",
     "text": [
      "0-4\n",
      "1-6\n",
      "2-8\n",
      "3-0\n",
      "4-1\n"
     ]
    }
   ],
   "source": [
    "#indexwise\n",
    "L=[4,6,8,0,1]\n",
    "for i in range(0,len(L)):\n",
    "    print(i,end='-') # return the index \n",
    "    print(L[i]) # return the value of indexes"
   ]
  },
  {
   "cell_type": "markdown",
   "id": "ff06edd6",
   "metadata": {},
   "source": [
    "### Zip()"
   ]
  },
  {
   "cell_type": "markdown",
   "id": "fb55d8a6",
   "metadata": {},
   "source": [
    "The zip() function returns a zip object, which is an iterator of tuples where the first item in each passed iterator is paired together, and then the 2nd item in each passed iterator are paired together.\n",
    "\n",
    "if the passed iterators have different lengths, the iteraor with the list items decides the length of new iterator"
   ]
  },
  {
   "cell_type": "markdown",
   "id": "2f7d10c5",
   "metadata": {},
   "source": [
    "Q.9 Write a program to add items of 2 lists indexwise"
   ]
  },
  {
   "cell_type": "code",
   "execution_count": 40,
   "id": "628a9b34",
   "metadata": {},
   "outputs": [
    {
     "data": {
      "text/plain": [
       "[0, 0, 0, 0]"
      ]
     },
     "execution_count": 40,
     "metadata": {},
     "output_type": "execute_result"
    }
   ],
   "source": [
    "L1=[1,2,3,4]\n",
    "L2=[-1,-2,-3,-4]\n",
    "list(zip(L1,L2)) # return the pair of item as tuple inside a list \n",
    "[i+j for i,j in zip(L1,L2)]"
   ]
  },
  {
   "cell_type": "markdown",
   "id": "35603357",
   "metadata": {},
   "source": [
    "we can store built in function inside the list, python can contain any type of object"
   ]
  },
  {
   "cell_type": "code",
   "execution_count": 43,
   "id": "19529409",
   "metadata": {},
   "outputs": [
    {
     "name": "stdout",
     "output_type": "stream",
     "text": [
      "[1, 2, <built-in function print>, <class 'type'>, <bound method Kernel.raw_input of <ipykernel.ipkernel.IPythonKernel object at 0x000001B4EAE568E0>>]\n"
     ]
    }
   ],
   "source": [
    "L=[1,2,print,type,input]\n",
    "print(L)"
   ]
  },
  {
   "cell_type": "markdown",
   "id": "7d324b0d",
   "metadata": {},
   "source": [
    "### Disadvantages of python list"
   ]
  },
  {
   "cell_type": "markdown",
   "id": "722ea606",
   "metadata": {},
   "source": [
    "- slow in comparison to other language\n",
    "- risky usage because of list is mutable(changebale)\n",
    "- eats up more memory because it stores the address of item "
   ]
  },
  {
   "cell_type": "markdown",
   "id": "5981f4da",
   "metadata": {},
   "source": [
    "## 2. Tuple"
   ]
  },
  {
   "cell_type": "markdown",
   "id": "6635e33e",
   "metadata": {},
   "source": [
    "A tuple in Python is similar to a list. The difference between the two is that we cannot change the elements of a tuple once it is assigned whereas we can change the elements of a list.\n",
    "\n",
    "In short, a tuple is an immutable list. A tuple can not be changed in any way once it is created."
   ]
  },
  {
   "cell_type": "markdown",
   "id": "e68a6902",
   "metadata": {},
   "source": [
    "#### Characterstic of tuples"
   ]
  },
  {
   "cell_type": "markdown",
   "id": "a51f369c",
   "metadata": {},
   "source": [
    "- They are ordered\n",
    "- They are indexed\n",
    "- They are immutable(can't change)\n",
    "- They can contain duplicate items"
   ]
  },
  {
   "cell_type": "markdown",
   "id": "4cd5adf1",
   "metadata": {},
   "source": [
    "### Creating Tuples"
   ]
  },
  {
   "cell_type": "code",
   "execution_count": 51,
   "id": "12967294",
   "metadata": {},
   "outputs": [
    {
     "name": "stdout",
     "output_type": "stream",
     "text": [
      "()\n",
      "<class 'tuple'>\n",
      "2\n",
      "<class 'int'>\n",
      "(2,)\n",
      "<class 'tuple'>\n",
      "(1, 2, 3, 4)\n",
      "(1, 'hello', True, 4.5)\n",
      "(1, 2, 3, (4, 5))\n",
      "('h', 'e', 'l', 'l', 'o')\n"
     ]
    }
   ],
   "source": [
    "#empty\n",
    "t1=()\n",
    "print(t1)\n",
    "print(type(t1))\n",
    "\n",
    "#create a tupel with signle item\n",
    "t2=(2) # single item tuple k liye comma lgate hai tb ja k tuple bnta hai \n",
    "print(2)\n",
    "print(type(t2)) # int\n",
    "\n",
    "t3=(2,)\n",
    "print(t3)\n",
    "print(type(t3))\n",
    "\n",
    "#homogenous tuple\n",
    "t4=(1,2,3,4)\n",
    "print(t4)\n",
    "\n",
    "#heterogenous tuple\n",
    "t5=(1,'hello',True,4.5)\n",
    "print(t5)\n",
    "\n",
    "#nested tuple or 2d tuple\n",
    "t6=(1,2,3,(4,5))\n",
    "print(t6)\n",
    "\n",
    "#using type conversion\n",
    "t7=tuple('hello')\n",
    "print(t7)"
   ]
  },
  {
   "cell_type": "markdown",
   "id": "60523e8b",
   "metadata": {},
   "source": [
    "### Accessing items"
   ]
  },
  {
   "cell_type": "markdown",
   "id": "e4178f4e",
   "metadata": {},
   "source": [
    "- indexing\n",
    "- slicing"
   ]
  },
  {
   "cell_type": "code",
   "execution_count": 59,
   "id": "66e0df27",
   "metadata": {},
   "outputs": [
    {
     "name": "stdout",
     "output_type": "stream",
     "text": [
      "(1, 2, 3, 4)\n",
      "1\n",
      "4\n",
      "(1, 2, 3)\n"
     ]
    },
    {
     "data": {
      "text/plain": [
       "4"
      ]
     },
     "execution_count": 59,
     "metadata": {},
     "output_type": "execute_result"
    }
   ],
   "source": [
    "#indexing\n",
    "print(t4)\n",
    "print(t4[0])\n",
    "print(t4[-1])\n",
    "\n",
    "#slicing\n",
    "print(t4[:3])\n",
    "t6[3][0]"
   ]
  },
  {
   "cell_type": "markdown",
   "id": "7359afc0",
   "metadata": {},
   "source": [
    "### Editting tuples"
   ]
  },
  {
   "cell_type": "markdown",
   "id": "a339ed5d",
   "metadata": {},
   "source": [
    "Since tuple is immutable so we can not change it like strings. strings and tuple both are immutable"
   ]
  },
  {
   "cell_type": "code",
   "execution_count": 62,
   "id": "95f443af",
   "metadata": {},
   "outputs": [
    {
     "ename": "TypeError",
     "evalue": "'tuple' object does not support item assignment",
     "output_type": "error",
     "traceback": [
      "\u001b[1;31m---------------------------------------------------------------------------\u001b[0m",
      "\u001b[1;31mTypeError\u001b[0m                                 Traceback (most recent call last)",
      "Input \u001b[1;32mIn [62]\u001b[0m, in \u001b[0;36m<cell line: 1>\u001b[1;34m()\u001b[0m\n\u001b[1;32m----> 1\u001b[0m t4[\u001b[38;5;241m0\u001b[39m]\u001b[38;5;241m=\u001b[39m\u001b[38;5;241m100\u001b[39m\n",
      "\u001b[1;31mTypeError\u001b[0m: 'tuple' object does not support item assignment"
     ]
    }
   ],
   "source": [
    "t4[0]=100"
   ]
  },
  {
   "cell_type": "markdown",
   "id": "6785e6c3",
   "metadata": {},
   "source": [
    "### Adding items to a tuple"
   ]
  },
  {
   "cell_type": "markdown",
   "id": "783cfe50",
   "metadata": {},
   "source": [
    "You can not add the items to a tuple since it is immutable"
   ]
  },
  {
   "cell_type": "markdown",
   "id": "80c07870",
   "metadata": {},
   "source": [
    "### Deleting items from a tuple"
   ]
  },
  {
   "cell_type": "markdown",
   "id": "f9720b92",
   "metadata": {},
   "source": [
    "We can not delete the part of tuple but can delete whole tuple"
   ]
  },
  {
   "cell_type": "code",
   "execution_count": 66,
   "id": "51f603b3",
   "metadata": {},
   "outputs": [
    {
     "name": "stdout",
     "output_type": "stream",
     "text": [
      "(1, 2, 3, 4)\n"
     ]
    },
    {
     "ename": "NameError",
     "evalue": "name 't3' is not defined",
     "output_type": "error",
     "traceback": [
      "\u001b[1;31m---------------------------------------------------------------------------\u001b[0m",
      "\u001b[1;31mNameError\u001b[0m                                 Traceback (most recent call last)",
      "Input \u001b[1;32mIn [66]\u001b[0m, in \u001b[0;36m<cell line: 4>\u001b[1;34m()\u001b[0m\n\u001b[0;32m      2\u001b[0m \u001b[38;5;28mprint\u001b[39m(t3)\n\u001b[0;32m      3\u001b[0m \u001b[38;5;28;01mdel\u001b[39;00m t3\n\u001b[1;32m----> 4\u001b[0m \u001b[38;5;28mprint\u001b[39m(\u001b[43mt3\u001b[49m)\n",
      "\u001b[1;31mNameError\u001b[0m: name 't3' is not defined"
     ]
    }
   ],
   "source": [
    "t3=(1,2,3,4)\n",
    "print(t3)\n",
    "del t3\n",
    "print(t3) # after deletion it can not be seen"
   ]
  },
  {
   "cell_type": "markdown",
   "id": "9e57972f",
   "metadata": {},
   "source": [
    "### Operations on tuples"
   ]
  },
  {
   "cell_type": "markdown",
   "id": "86aeffb4",
   "metadata": {},
   "source": [
    "- Arithmetic operation --> +, *\n",
    "- Membership operation --> IN and NOT IN\n",
    "- Loop --> for traversing the element of tuples"
   ]
  },
  {
   "cell_type": "code",
   "execution_count": 70,
   "id": "f689a281",
   "metadata": {},
   "outputs": [
    {
     "name": "stdout",
     "output_type": "stream",
     "text": [
      "(1, 2, 3, 4, 5, 6, 7, 8)\n",
      "(1, 2, 3, 4, 1, 2, 3, 4, 1, 2, 3, 4)\n",
      "1\n",
      "2\n",
      "3\n",
      "4\n"
     ]
    }
   ],
   "source": [
    "# Arithmetic operation\n",
    "t1=(1,2,3,4)\n",
    "t2=(5,6,7,8)\n",
    "print(t1+t2) # + do concatenation\n",
    "print(t1*3) # concate it 3times\n",
    "\n",
    "# membership operation\n",
    "2 in t1\n",
    "\n",
    "# loop\n",
    "for i in t1:\n",
    "    print(i)"
   ]
  },
  {
   "cell_type": "markdown",
   "id": "181cb81f",
   "metadata": {},
   "source": [
    "### Tuples function"
   ]
  },
  {
   "cell_type": "markdown",
   "id": "a27f65ee",
   "metadata": {},
   "source": [
    "- len() -->\n",
    "- sum() -->\n",
    "- min() -->\n",
    "- max() -->\n",
    "- sorted() -->"
   ]
  },
  {
   "cell_type": "code",
   "execution_count": 77,
   "id": "2d15bd8a",
   "metadata": {},
   "outputs": [
    {
     "name": "stdout",
     "output_type": "stream",
     "text": [
      "6\n",
      "21\n",
      "1\n",
      "6\n",
      "[6, 5, 4, 3, 2, 1]\n"
     ]
    }
   ],
   "source": [
    "t1=(1,2,3,4,5,6)\n",
    "print(len(t1))\n",
    "print(sum(t1))\n",
    "print(min(t1))\n",
    "print(max(t1))\n",
    "print(sorted(t1,reverse=True))"
   ]
  },
  {
   "cell_type": "code",
   "execution_count": 81,
   "id": "0b4681b9",
   "metadata": {},
   "outputs": [
    {
     "data": {
      "text/plain": [
       "3"
      ]
     },
     "execution_count": 81,
     "metadata": {},
     "output_type": "execute_result"
    }
   ],
   "source": [
    "# count --> count the frequency of a number/items\n",
    "t1=(1,2,5,7,8,9,1,3,5,7,1)\n",
    "t1.count(1)\n",
    "\n",
    "#index --> return the index of any value present in tuple\n",
    "t1.index(7) #1st occurance ka index deta h"
   ]
  },
  {
   "cell_type": "markdown",
   "id": "2f5bb971",
   "metadata": {},
   "source": [
    "### Difference between lists and tuples"
   ]
  },
  {
   "cell_type": "markdown",
   "id": "4f589fd9",
   "metadata": {},
   "source": [
    "- Syntax --> To create list we used [] while for tuple ()\n",
    "- Mutability --> List are mutable while tuple are immutable\n",
    "- speed --> Generally tuples are faster than lists\n",
    "- memory --> tuples takes lesser memory than lists\n",
    "- built in functionality --> list have more built in function  than tuples\n",
    "- Error prone --> List are more error prone while tuple are less\n",
    "- usablity --> List are mutable while tuples are immutable"
   ]
  },
  {
   "cell_type": "markdown",
   "id": "ede70f03",
   "metadata": {},
   "source": [
    "### Special syntax"
   ]
  },
  {
   "cell_type": "code",
   "execution_count": 82,
   "id": "8963c877",
   "metadata": {},
   "outputs": [
    {
     "name": "stdout",
     "output_type": "stream",
     "text": [
      "2 5 6\n"
     ]
    }
   ],
   "source": [
    "# tuple unpacking\n",
    "a,b,c=(2,5,6)\n",
    "print(a,b,c)"
   ]
  },
  {
   "cell_type": "code",
   "execution_count": 83,
   "id": "bb7e6b6f",
   "metadata": {},
   "outputs": [
    {
     "name": "stdout",
     "output_type": "stream",
     "text": [
      "2 1\n"
     ]
    }
   ],
   "source": [
    "#swaping of 2 number\n",
    "a=1\n",
    "b=2\n",
    "a,b=b,a\n",
    "print(a,b)"
   ]
  },
  {
   "cell_type": "code",
   "execution_count": 85,
   "id": "30d10d9f",
   "metadata": {},
   "outputs": [
    {
     "name": "stdout",
     "output_type": "stream",
     "text": [
      "1 2\n",
      "[3, 4, 5, 6]\n"
     ]
    }
   ],
   "source": [
    "a,b,*others=(1,2,3,4,5,6)\n",
    "print(a,b)\n",
    "print(others) # a,b assign ho jayenge start ki 2 value baki sare others me store ho jayenge aur return the list"
   ]
  },
  {
   "cell_type": "code",
   "execution_count": 87,
   "id": "1c9e1ab0",
   "metadata": {},
   "outputs": [
    {
     "data": {
      "text/plain": [
       "((1, 5), (2, 6), (3, 7), (4, 8))"
      ]
     },
     "execution_count": 87,
     "metadata": {},
     "output_type": "execute_result"
    }
   ],
   "source": [
    "#zipping of tuples\n",
    "a=(1,2,3,4)\n",
    "b=(5,6,7,8)\n",
    "tuple(zip(a,b)) # it returns the tuple of tuple"
   ]
  },
  {
   "cell_type": "markdown",
   "id": "a3541c5c",
   "metadata": {},
   "source": [
    "## 3. Sets"
   ]
  },
  {
   "cell_type": "markdown",
   "id": "4125d7ef",
   "metadata": {},
   "source": [
    "A set is an unordered collection of items. Every set element is unique (no duplicates) and must be immutable (cannot be changed).\n",
    "\n",
    "However, a set itself is mutable. We can add or remove items from it.\n",
    "\n",
    "Sets can also be used to perform mathematical set operations like union, intersection, symmetric difference, etc.\n",
    "\n",
    "Characterstics:\n",
    "- Unorderd --> Order does not matter\n",
    "- Mutable --> \n",
    "- No duplicates\n",
    "- Can't containe mutable data type inside the set"
   ]
  },
  {
   "cell_type": "markdown",
   "id": "d4c3f90e",
   "metadata": {},
   "source": [
    "### Creating sets"
   ]
  },
  {
   "cell_type": "code",
   "execution_count": 93,
   "id": "25d3c6cc",
   "metadata": {},
   "outputs": [
    {
     "name": "stdout",
     "output_type": "stream",
     "text": [
      "<class 'dict'>\n",
      "<class 'set'>\n",
      "{1, 2, 3, 4}\n",
      "{2, 3, 4, 5, 6, 7}\n",
      "{1, 4.5, 'hello', (2, 3, 4)}\n",
      "{1, 2, 3, 4, 5, 6, 7}\n"
     ]
    }
   ],
   "source": [
    "#empty sets --> can't be created by using curly braces because it is a default behaviour of dictionary\n",
    "s={}  # wrong method\n",
    "s1=set() #right method of empty set\n",
    "print(type(s))\n",
    "print(type(s1))\n",
    "\n",
    "#1d set\n",
    "s2={1,2,3,4}\n",
    "print(s2)\n",
    "#2d set can't be created because inside the set we can't store mutable data type\n",
    "\n",
    "#homogenous set\n",
    "s3={2,3,4,5,6,7}\n",
    "print(s3)\n",
    "#heterogenous set\n",
    "s4={1,'hello',4.5,(2,3,4)} # we add tuple in the set because tuple is immutable\n",
    "print(s4)\n",
    "\n",
    "#using type conversion\n",
    "s5=set([1,2,3,4,5,6,7])\n",
    "print(s5)"
   ]
  },
  {
   "cell_type": "markdown",
   "id": "0d980135",
   "metadata": {},
   "source": [
    "### Accessing items in a set"
   ]
  },
  {
   "cell_type": "markdown",
   "id": "37b6415c",
   "metadata": {},
   "source": [
    "Since sets are unordered thus we can not access item by doing indexing or slicing it means we can't access the item of sets"
   ]
  },
  {
   "cell_type": "markdown",
   "id": "e5e39f95",
   "metadata": {},
   "source": [
    "### Editting items in a set"
   ]
  },
  {
   "cell_type": "markdown",
   "id": "7beb7d23",
   "metadata": {},
   "source": [
    "Once item is stored in a set we can't access it and not edit it because it don't have indexing"
   ]
  },
  {
   "cell_type": "markdown",
   "id": "be2868b3",
   "metadata": {},
   "source": [
    "### Adding items"
   ]
  },
  {
   "cell_type": "code",
   "execution_count": 95,
   "id": "3ffd203f",
   "metadata": {},
   "outputs": [
    {
     "name": "stdout",
     "output_type": "stream",
     "text": [
      "{1, 2, 3, 4, 5}\n",
      "{1, 2, 3, 4, 5, 8, 9, 10}\n"
     ]
    }
   ],
   "source": [
    "# add --> it adds one item in set\n",
    "s={1,2,3,4}\n",
    "s.add(5)\n",
    "print(s)\n",
    "\n",
    "#update --> Adds more than one item in a set \n",
    "s.update([8,9,10])\n",
    "print(s)"
   ]
  },
  {
   "cell_type": "markdown",
   "id": "8a5fc10f",
   "metadata": {},
   "source": [
    "### Deleting items"
   ]
  },
  {
   "cell_type": "code",
   "execution_count": 103,
   "id": "a7233996",
   "metadata": {},
   "outputs": [
    {
     "name": "stdout",
     "output_type": "stream",
     "text": [
      "{1, 2, 3, 4}\n",
      "{2, 4, 6, 9}\n",
      "{2, 3, 5, 6, 7, 8}\n",
      "{3, 5, 6, 7, 8}\n",
      "set()\n"
     ]
    }
   ],
   "source": [
    "#del -->we can delete entire set but a particular part of set can't be deleted\n",
    "s={1,2,3,4}\n",
    "print(s)\n",
    "del s\n",
    "#print(s)\n",
    "\n",
    "#discard --> it delete the particular item from the set,if item is not present then it don't throw the error\n",
    "s1={2,4,6,7,9}\n",
    "s1.discard(7)\n",
    "print(s1)\n",
    "\n",
    "#remove --> remove the particular item from the set, if item is not present then it throw the error\n",
    "s2={2,3,4,5,6,7,8}\n",
    "s2.remove(4)\n",
    "print(s2)\n",
    "\n",
    "#pop --> deleted any random item from the set\n",
    "s2.pop()\n",
    "print(s2)\n",
    "\n",
    "#clear --> it returns the empty set \n",
    "s2.clear()\n",
    "print(s2)"
   ]
  },
  {
   "cell_type": "markdown",
   "id": "3974d2d1",
   "metadata": {},
   "source": [
    "### Set Operations"
   ]
  },
  {
   "cell_type": "code",
   "execution_count": 110,
   "id": "29588d5e",
   "metadata": {},
   "outputs": [
    {
     "name": "stdout",
     "output_type": "stream",
     "text": [
      "{1, 2, 3, 4, 5, 6, 7, 8}\n",
      "{4, 5}\n",
      "{8, 6, 7}\n",
      "{1, 2, 3}\n",
      "{1, 2, 3, 6, 7, 8}\n",
      "1\n",
      "2\n",
      "3\n",
      "4\n",
      "5\n"
     ]
    }
   ],
   "source": [
    "s1={1,2,3,4,5}\n",
    "s2={4,5,6,7,8}\n",
    "#union --> | used for union s1|s2 means every item will be printed one time\n",
    "print(s1|s2)\n",
    "\n",
    "#intersection --> & used for intersection s1&s2 means common items will be printed\n",
    "print(s1&s2)\n",
    "\n",
    "#Difference --> - used for difference s1-s2 means s1 k sare items jo s2 me nhi hai wo print honge\n",
    "print(s2-s1)\n",
    "print(s1-s2)\n",
    "\n",
    "#Symmetric difference(^) --> Jo item common hai usko chhodke sare item print ho jayenge\n",
    "print(s1^s2)\n",
    "\n",
    "#Membership set --> IN and NOT IN\n",
    "1 in s1\n",
    "\n",
    "#iteration --> loop \n",
    "for i in s1:\n",
    "    print(i)"
   ]
  },
  {
   "cell_type": "markdown",
   "id": "06cedadb",
   "metadata": {},
   "source": [
    "### Sets functions"
   ]
  },
  {
   "cell_type": "markdown",
   "id": "e51a204c",
   "metadata": {},
   "source": [
    "- len -->\n",
    "- sum -->\n",
    "- min -->\n",
    "- max -->\n",
    "- sorted -->\n"
   ]
  },
  {
   "cell_type": "code",
   "execution_count": 113,
   "id": "02fcf26f",
   "metadata": {},
   "outputs": [
    {
     "name": "stdout",
     "output_type": "stream",
     "text": [
      "6\n",
      "35\n",
      "2\n",
      "9\n",
      "[2, 4, 5, 7, 8, 9]\n"
     ]
    }
   ],
   "source": [
    "s={2,4,5,7,8,9}\n",
    "print(len(s))\n",
    "print(sum(s))\n",
    "print(min(s))\n",
    "print(max(s))\n",
    "print(sorted(s))"
   ]
  },
  {
   "cell_type": "code",
   "execution_count": 121,
   "id": "59095c5c",
   "metadata": {},
   "outputs": [
    {
     "name": "stdout",
     "output_type": "stream",
     "text": [
      "{1, 2, 3, 4, 5, 6, 7, 8, 9}\n",
      "{1, 2, 3, 4, 5, 6, 7, 8, 9}\n",
      "{4, 5, 6, 7, 8, 9}\n"
     ]
    }
   ],
   "source": [
    "# union /update --> \n",
    "s1={1,2,3,4,5,6}\n",
    "s2={4,5,6,7,8,9}\n",
    "print(s1.union(s2))\n",
    "s1.update(s2)\n",
    "\n",
    "print(s1)\n",
    "print(s2)\n"
   ]
  },
  {
   "cell_type": "code",
   "execution_count": 122,
   "id": "4352633c",
   "metadata": {},
   "outputs": [
    {
     "name": "stdout",
     "output_type": "stream",
     "text": [
      "{4, 5}\n",
      "{4, 5, 6, 7, 8}\n"
     ]
    }
   ],
   "source": [
    "# intersection/intersection_update\n",
    "s1 = {1,2,3,4,5}\n",
    "s2 = {4,5,6,7,8}\n",
    "\n",
    "s1.intersection(s2)\n",
    "\n",
    "s1.intersection_update(s2)\n",
    "print(s1)\n",
    "print(s2)"
   ]
  },
  {
   "cell_type": "code",
   "execution_count": 123,
   "id": "8b7b90e5",
   "metadata": {},
   "outputs": [
    {
     "name": "stdout",
     "output_type": "stream",
     "text": [
      "{1, 2, 3}\n",
      "{4, 5, 6, 7, 8}\n"
     ]
    }
   ],
   "source": [
    "# difference/difference_update\n",
    "s1 = {1,2,3,4,5}\n",
    "s2 = {4,5,6,7,8}\n",
    "\n",
    "s1.difference(s2)\n",
    "\n",
    "s1.difference_update(s2)\n",
    "print(s1)\n",
    "print(s2)"
   ]
  },
  {
   "cell_type": "code",
   "execution_count": 124,
   "id": "d7639ca6",
   "metadata": {},
   "outputs": [
    {
     "name": "stdout",
     "output_type": "stream",
     "text": [
      "{1, 2, 3, 6, 7, 8}\n",
      "{4, 5, 6, 7, 8}\n"
     ]
    }
   ],
   "source": [
    "# symmetric_difference/symmetric_difference_update\n",
    "s1 = {1,2,3,4,5}\n",
    "s2 = {4,5,6,7,8}\n",
    "\n",
    "s1.symmetric_difference(s2)\n",
    "\n",
    "s1.symmetric_difference_update(s2)\n",
    "print(s1)\n",
    "print(s2)"
   ]
  },
  {
   "cell_type": "code",
   "execution_count": 1,
   "id": "655291e6",
   "metadata": {},
   "outputs": [
    {
     "data": {
      "text/plain": [
       "True"
      ]
     },
     "execution_count": 1,
     "metadata": {},
     "output_type": "execute_result"
    }
   ],
   "source": [
    "# isdisjoint --> mathematically disjoint set aise hote hai jinme ek bhi item common nhi hota\n",
    "s1 = {1,2,3,4}\n",
    "s2 = {7,8,5,6}\n",
    "#A pair of sets which does not have any common element are called disjoint sets.\n",
    "s1.isdisjoint(s2)"
   ]
  },
  {
   "cell_type": "code",
   "execution_count": 3,
   "id": "189d5f73",
   "metadata": {},
   "outputs": [
    {
     "data": {
      "text/plain": [
       "False"
      ]
     },
     "execution_count": 3,
     "metadata": {},
     "output_type": "execute_result"
    }
   ],
   "source": [
    "#issubset --> s2 k sare element s1 me ho then it is called subset\n",
    "s1 = {1,2,3,4,5}\n",
    "s2 = {3,4,5}\n",
    "\n",
    "s1.issubset(s2)"
   ]
  },
  {
   "cell_type": "code",
   "execution_count": 5,
   "id": "e451f734",
   "metadata": {},
   "outputs": [
    {
     "data": {
      "text/plain": [
       "True"
      ]
     },
     "execution_count": 5,
     "metadata": {},
     "output_type": "execute_result"
    }
   ],
   "source": [
    "#issuperset --> s1 is superset of b because it contains the all items of s2 in s1 \n",
    "s1 = {1,2,3,4,5}\n",
    "s2 = {3,4,5}\n",
    "\n",
    "s1.issuperset(s2)"
   ]
  },
  {
   "cell_type": "code",
   "execution_count": 6,
   "id": "c61d2b2a",
   "metadata": {},
   "outputs": [
    {
     "name": "stdout",
     "output_type": "stream",
     "text": [
      "{1, 2, 3}\n",
      "{1, 2, 3}\n"
     ]
    }
   ],
   "source": [
    "#copy --> creates the shallow copy\n",
    "s1={1,2,3}\n",
    "s2=s1.copy()\n",
    "print(s1)\n",
    "print(s2)"
   ]
  },
  {
   "cell_type": "markdown",
   "id": "d5ade37e",
   "metadata": {},
   "source": [
    "### Frozenset"
   ]
  },
  {
   "cell_type": "markdown",
   "id": "b48e393a",
   "metadata": {},
   "source": [
    "Frozen set is just an immutable version of a Python set objects"
   ]
  },
  {
   "cell_type": "code",
   "execution_count": 1,
   "id": "2d03d1d6",
   "metadata": {},
   "outputs": [
    {
     "name": "stdout",
     "output_type": "stream",
     "text": [
      "frozenset({1, 2, 3})\n"
     ]
    }
   ],
   "source": [
    "# create frozenset --> inside frozen set we can pass the list,tuple or set\n",
    "fs=frozenset([1,2,3])\n",
    "print(fs)"
   ]
  },
  {
   "cell_type": "markdown",
   "id": "126802d8",
   "metadata": {},
   "source": [
    "- What works and what does not work in the case of frozenset\n",
    "- Works --> all read function since frozenset is immutable\n",
    "- does not work --> write operations"
   ]
  },
  {
   "cell_type": "markdown",
   "id": "7632b8b8",
   "metadata": {},
   "source": [
    "### Set comprehensions"
   ]
  },
  {
   "cell_type": "code",
   "execution_count": 2,
   "id": "b2cbf13e",
   "metadata": {},
   "outputs": [
    {
     "data": {
      "text/plain": [
       "{1, 2, 3, 4, 5, 6, 7, 8, 9, 10}"
      ]
     },
     "execution_count": 2,
     "metadata": {},
     "output_type": "execute_result"
    }
   ],
   "source": [
    "{i for i in range(1,11)}"
   ]
  },
  {
   "cell_type": "markdown",
   "id": "b57e1a65",
   "metadata": {},
   "source": [
    "## 4. Dictionary"
   ]
  },
  {
   "cell_type": "markdown",
   "id": "87b6202f",
   "metadata": {},
   "source": [
    "Dictionary in Python is a collection of keys values, used to store data values like a map, which, unlike other data types which hold only a single value as an element.\n",
    "\n",
    "In some languages it is known as map or assosiative arrays.\n",
    "\n",
    "dict = { 'name' : 'nitish' , 'age' : 33 , 'gender' : 'male' }\n",
    "\n",
    "Characterstics:\n",
    "\n",
    "- Mutable --> Dictionary is mutable so we can change in it\n",
    "- Indexing has no meaning\n",
    "- keys can't be duplicated\n",
    "- keys can't be mutable items"
   ]
  },
  {
   "cell_type": "code",
   "execution_count": 11,
   "id": "cc4ac4fd",
   "metadata": {},
   "outputs": [
    {
     "name": "stdout",
     "output_type": "stream",
     "text": [
      "<class 'dict'>\n",
      "{'name': 'nitish', 'gender': 'male'}\n",
      "{(1, 2, 3): 1, 'name': 'abhinav'}\n",
      "{'name': 'nitish', 'college': 'bit', 'sem': 4, 'subjects': {'dsa': 50, 'maths': 67, 'english': 34}}\n"
     ]
    }
   ],
   "source": [
    "# empty dictionary\n",
    "d={}\n",
    "print(type(d))\n",
    "\n",
    "#1d dictionary and homogenous since items data type is string\n",
    "dict = { 'name' : 'nitish'  , 'gender' : 'male' }\n",
    "print(dict)\n",
    "\n",
    "#1d dictionary with mixed key\n",
    "d1={(1,2,3):1,'name':'abhinav'}\n",
    "print(d1)\n",
    "\n",
    "# 2D dictionary -> JSON\n",
    "s = {\n",
    "    'name':'nitish',\n",
    "     'college':'bit',\n",
    "     'sem':4,\n",
    "     'subjects':{\n",
    "         'dsa':50,\n",
    "         'maths':67,\n",
    "         'english':34\n",
    "     }\n",
    "}\n",
    "print(s)\n"
   ]
  },
  {
   "cell_type": "code",
   "execution_count": 12,
   "id": "11610fdd",
   "metadata": {},
   "outputs": [
    {
     "ename": "TypeError",
     "evalue": "'dict' object is not callable",
     "output_type": "error",
     "traceback": [
      "\u001b[1;31m---------------------------------------------------------------------------\u001b[0m",
      "\u001b[1;31mTypeError\u001b[0m                                 Traceback (most recent call last)",
      "Input \u001b[1;32mIn [12]\u001b[0m, in \u001b[0;36m<cell line: 2>\u001b[1;34m()\u001b[0m\n\u001b[0;32m      1\u001b[0m \u001b[38;5;66;03m# using sequence and dict function\u001b[39;00m\n\u001b[1;32m----> 2\u001b[0m d4 \u001b[38;5;241m=\u001b[39m \u001b[38;5;28;43mdict\u001b[39;49m\u001b[43m(\u001b[49m\u001b[43m[\u001b[49m\u001b[43m(\u001b[49m\u001b[38;5;124;43m'\u001b[39;49m\u001b[38;5;124;43mname\u001b[39;49m\u001b[38;5;124;43m'\u001b[39;49m\u001b[43m,\u001b[49m\u001b[38;5;124;43m'\u001b[39;49m\u001b[38;5;124;43mnitish\u001b[39;49m\u001b[38;5;124;43m'\u001b[39;49m\u001b[43m)\u001b[49m\u001b[43m,\u001b[49m\u001b[43m(\u001b[49m\u001b[38;5;124;43m'\u001b[39;49m\u001b[38;5;124;43mage\u001b[39;49m\u001b[38;5;124;43m'\u001b[39;49m\u001b[43m,\u001b[49m\u001b[38;5;241;43m32\u001b[39;49m\u001b[43m)\u001b[49m\u001b[43m,\u001b[49m\u001b[43m(\u001b[49m\u001b[38;5;241;43m3\u001b[39;49m\u001b[43m,\u001b[49m\u001b[38;5;241;43m3\u001b[39;49m\u001b[43m)\u001b[49m\u001b[43m]\u001b[49m\u001b[43m)\u001b[49m\n\u001b[0;32m      3\u001b[0m \u001b[38;5;28mprint\u001b[39m(d4)\n",
      "\u001b[1;31mTypeError\u001b[0m: 'dict' object is not callable"
     ]
    }
   ],
   "source": [
    "# using sequence and dict function\n",
    "d4 = dict([('name','nitish'),('age',32),(3,3)])\n",
    "print(d4)"
   ]
  },
  {
   "cell_type": "code",
   "execution_count": 15,
   "id": "85c4f4d5",
   "metadata": {},
   "outputs": [
    {
     "name": "stdout",
     "output_type": "stream",
     "text": [
      "{'name': 'rahul'}\n",
      "{'name': 'nitish', (1, 2, 3): 2}\n"
     ]
    }
   ],
   "source": [
    "# duplicate keys --> last wala key value pair print krega qki duplicate key is not allowed\n",
    "d5 = {'name':'nitish','name':'rahul'}\n",
    "print(d5)\n",
    "\n",
    "# mutable items as keys is not allowed as list\n",
    "d6 = {'name':'nitish',(1,2,3):2}\n",
    "print(d6)"
   ]
  },
  {
   "cell_type": "markdown",
   "id": "0398878d",
   "metadata": {},
   "source": [
    "### Accessing items from the dictionary"
   ]
  },
  {
   "cell_type": "code",
   "execution_count": 37,
   "id": "2d168b52",
   "metadata": {},
   "outputs": [
    {
     "name": "stdout",
     "output_type": "stream",
     "text": [
      "Jack\n",
      "26\n"
     ]
    },
    {
     "data": {
      "text/plain": [
       "67"
      ]
     },
     "execution_count": 37,
     "metadata": {},
     "output_type": "execute_result"
    }
   ],
   "source": [
    "# by using the key\n",
    "my_dict = {'name': 'Jack', 'age': 26}\n",
    "print(my_dict['name'])\n",
    "\n",
    "# by using get method\n",
    "print(my_dict.get('age'))\n",
    "\n",
    "s['subjects']['maths']"
   ]
  },
  {
   "cell_type": "markdown",
   "id": "f7d213e4",
   "metadata": {},
   "source": [
    "### Adding key value pair"
   ]
  },
  {
   "cell_type": "code",
   "execution_count": 39,
   "id": "3c23c59a",
   "metadata": {},
   "outputs": [
    {
     "name": "stdout",
     "output_type": "stream",
     "text": [
      "{'name': 'nitish', 'college': 'bit', 'sem': 4, 'subjects': {'dsa': 50, 'maths': 67, 'english': 34, 'ds': 89}}\n"
     ]
    }
   ],
   "source": [
    "d4={'name':'abhinav'}\n",
    "d4['gender'] = 'male'\n",
    "d4\n",
    "d4['weight'] = 72\n",
    "d4\n",
    "\n",
    "s['subjects']['ds']=89\n",
    "print(s)"
   ]
  },
  {
   "cell_type": "code",
   "execution_count": 24,
   "id": "2d492a24",
   "metadata": {},
   "outputs": [
    {
     "data": {
      "text/plain": [
       "{'name': 'nitish',\n",
       " 'college': 'bit',\n",
       " 'sem': 4,\n",
       " 'subjects': {'dsa': 50, 'maths': 67, 'english': 34, 'ds': 75}}"
      ]
     },
     "execution_count": 24,
     "metadata": {},
     "output_type": "execute_result"
    }
   ],
   "source": [
    "s['subjects']['ds'] = 75\n",
    "s"
   ]
  },
  {
   "cell_type": "markdown",
   "id": "3b96b006",
   "metadata": {},
   "source": [
    "### Remove key-value pair"
   ]
  },
  {
   "cell_type": "code",
   "execution_count": 42,
   "id": "554644a9",
   "metadata": {},
   "outputs": [
    {
     "name": "stdout",
     "output_type": "stream",
     "text": [
      "{'name': 'abhinav', 'gender': 'male', 'weight': 72}\n",
      "{'name': 'abhinav', 'gender': 'male'}\n",
      "{'name': 'abhinav', 'gender': 'male', 'weight': 72, 'course': 'b.tech'}\n",
      "{'name': 'abhinav', 'weight': 72, 'course': 'b.tech'}\n",
      "{}\n",
      "{'name': 'nitish', 'college': 'bit', 'sem': 4, 'subjects': {'dsa': 50, 'english': 34}}\n"
     ]
    }
   ],
   "source": [
    "# pop --> by providing the key we can delete the key-value pair\n",
    "d4={'name': 'abhinav', 'gender': 'male', 'weight': 72}\n",
    "d4[3]=3\n",
    "d4\n",
    "\n",
    "d4.pop(3)\n",
    "print(d4)\n",
    "\n",
    "#popitem --> last wale key-value pair ko delete krta hai\n",
    "d4.popitem()\n",
    "print(d4)\n",
    "\n",
    "#del --> entire dictionary ko bhi delete kr skte hai specific key-value pair ko bhi delete kr skte hai\n",
    "d={'name': 'abhinav', 'gender': 'male', 'weight': 72}\n",
    "d['course']='b.tech'\n",
    "print(d)\n",
    "\n",
    "del d['gender']\n",
    "print(d)\n",
    "\n",
    "#clear --> empty the dictionary\n",
    "d.clear()\n",
    "print(d)\n",
    "\n",
    "#removing key-value pair from 2d dict\n",
    "del s['subjects']['ds']\n",
    "print(s)"
   ]
  },
  {
   "cell_type": "markdown",
   "id": "64ccce4d",
   "metadata": {},
   "source": [
    "### Editting key-value pair"
   ]
  },
  {
   "cell_type": "code",
   "execution_count": 45,
   "id": "613e4afb",
   "metadata": {},
   "outputs": [
    {
     "name": "stdout",
     "output_type": "stream",
     "text": [
      "{'name': 'nitish', 'college': 'bit', 'sem': 8, 'subjects': {'dsa': 50, 'maths': 67, 'english': 34, 'ds': 89}}\n",
      "{'name': 'nitish', 'college': 'bit', 'sem': 8, 'subjects': {'dsa': 50, 'maths': 90, 'english': 34, 'ds': 89}}\n"
     ]
    }
   ],
   "source": [
    "s={'name': 'nitish', 'college': 'bit', 'sem': 4, 'subjects': {'dsa': 50, 'maths': 67, 'english': 34, 'ds': 89}}\n",
    "s['sem']=8\n",
    "print(s)\n",
    "\n",
    "s['subjects']['maths']=90\n",
    "print(s)"
   ]
  },
  {
   "cell_type": "markdown",
   "id": "1c69ebee",
   "metadata": {},
   "source": [
    "### Dictionary Operations"
   ]
  },
  {
   "cell_type": "markdown",
   "id": "ac1f06c9",
   "metadata": {},
   "source": [
    "- Membership --> IN and NOT IN --> returns true if key present in dictionary we talk about only keys not values\n",
    "- Iteration --> Loop"
   ]
  },
  {
   "cell_type": "code",
   "execution_count": 46,
   "id": "a8396c8f",
   "metadata": {},
   "outputs": [
    {
     "data": {
      "text/plain": [
       "True"
      ]
     },
     "execution_count": 46,
     "metadata": {},
     "output_type": "execute_result"
    }
   ],
   "source": [
    "'name' in s"
   ]
  },
  {
   "cell_type": "code",
   "execution_count": 48,
   "id": "64fc2112",
   "metadata": {},
   "outputs": [
    {
     "name": "stdout",
     "output_type": "stream",
     "text": [
      "name\n",
      "abhinav\n",
      "gender\n",
      "male\n",
      "age\n",
      "23\n"
     ]
    }
   ],
   "source": [
    "d={'name':'abhinav','gender':'male','age':23}\n",
    "for i in d:\n",
    "    print(i)# keys print krega\n",
    "    print(d[i])"
   ]
  },
  {
   "cell_type": "markdown",
   "id": "afe6ffa7",
   "metadata": {},
   "source": [
    "### Dictionary Functions"
   ]
  },
  {
   "cell_type": "code",
   "execution_count": 51,
   "id": "c501bfc5",
   "metadata": {},
   "outputs": [
    {
     "name": "stdout",
     "output_type": "stream",
     "text": [
      "3\n",
      "['age', 'gender', 'name']\n"
     ]
    }
   ],
   "source": [
    "#len\n",
    "d={'name':'abhinav','gender':'male','age':23}\n",
    "print(len(d))\n",
    "\n",
    "#sorted --> sort the key in ascending order\n",
    "print(sorted(d))\n",
    "\n",
    "#min/max --> return key on the basis of ASCII value"
   ]
  },
  {
   "cell_type": "code",
   "execution_count": 55,
   "id": "c5672a91",
   "metadata": {},
   "outputs": [
    {
     "name": "stdout",
     "output_type": "stream",
     "text": [
      "dict_items([('name', 'abhinav'), ('gender', 'male'), ('age', 23)])\n",
      "dict_keys(['name', 'gender', 'age'])\n",
      "dict_values(['abhinav', 'male', 23])\n"
     ]
    }
   ],
   "source": [
    "#items/keys/values\n",
    "print(d.items())\n",
    "print(d.keys())\n",
    "print(d.values())"
   ]
  },
  {
   "cell_type": "code",
   "execution_count": 56,
   "id": "f52939ba",
   "metadata": {},
   "outputs": [
    {
     "name": "stdout",
     "output_type": "stream",
     "text": [
      "{1: 2, 3: 4, 4: 7, 6: 8}\n"
     ]
    }
   ],
   "source": [
    "# update\n",
    "d1 = {1:2,3:4,4:5}\n",
    "d2 = {4:7,6:8}\n",
    "\n",
    "d1.update(d2)\n",
    "print(d1)"
   ]
  },
  {
   "cell_type": "markdown",
   "id": "33db8e92",
   "metadata": {},
   "source": [
    "### Dictionary Comprehensions"
   ]
  },
  {
   "cell_type": "markdown",
   "id": "93cadd40",
   "metadata": {},
   "source": [
    "{key : value for vars in iterable}"
   ]
  },
  {
   "cell_type": "markdown",
   "id": "9dcf8fef",
   "metadata": {},
   "source": [
    "Q.10 Print 1st 10 numbers and their square"
   ]
  },
  {
   "cell_type": "code",
   "execution_count": 57,
   "id": "e95488e5",
   "metadata": {},
   "outputs": [
    {
     "data": {
      "text/plain": [
       "{1: 1, 2: 4, 3: 9, 4: 16, 5: 25, 6: 36, 7: 49, 8: 64, 9: 81, 10: 100}"
      ]
     },
     "execution_count": 57,
     "metadata": {},
     "output_type": "execute_result"
    }
   ],
   "source": [
    "{i:i**2 for i in range(1,11)}"
   ]
  },
  {
   "cell_type": "code",
   "execution_count": 58,
   "id": "56c16205",
   "metadata": {},
   "outputs": [
    {
     "name": "stdout",
     "output_type": "stream",
     "text": [
      "dict_items([('delhi', 1000), ('mumbai', 2000), ('bangalore', 3000)])\n"
     ]
    }
   ],
   "source": [
    "distances = {'delhi':1000,'mumbai':2000,'bangalore':3000}\n",
    "print(distances.items())"
   ]
  },
  {
   "cell_type": "code",
   "execution_count": 59,
   "id": "83d369fc",
   "metadata": {},
   "outputs": [
    {
     "data": {
      "text/plain": [
       "{'delhi': 620.0, 'mumbai': 1240.0, 'bangalore': 1860.0}"
      ]
     },
     "execution_count": 59,
     "metadata": {},
     "output_type": "execute_result"
    }
   ],
   "source": [
    "# using existing dict\n",
    "distances = {'delhi':1000,'mumbai':2000,'bangalore':3000}\n",
    "{key:value*0.62 for (key,value) in distances.items()}"
   ]
  },
  {
   "cell_type": "code",
   "execution_count": 60,
   "id": "b7ee82a8",
   "metadata": {},
   "outputs": [
    {
     "data": {
      "text/plain": [
       "{'Sunday': 30.5,\n",
       " 'Monday': 32.6,\n",
       " 'Tuesday': 31.8,\n",
       " 'Wednesday': 33.4,\n",
       " 'Thursday': 29.8,\n",
       " 'Friday': 30.2,\n",
       " 'Saturday': 29.9}"
      ]
     },
     "execution_count": 60,
     "metadata": {},
     "output_type": "execute_result"
    }
   ],
   "source": [
    "# using zip\n",
    "days = [\"Sunday\", \"Monday\",\"Tuesday\",\"Wednesday\",\"Thursday\",\"Friday\",\"Saturday\"]\n",
    "temp_C = [30.5,32.6,31.8,33.4,29.8,30.2,29.9]\n",
    "\n",
    "{i:j for (i,j) in zip(days,temp_C)}"
   ]
  },
  {
   "cell_type": "code",
   "execution_count": 61,
   "id": "a8879183",
   "metadata": {},
   "outputs": [
    {
     "data": {
      "text/plain": [
       "{'phone': 10, 'charger': 32}"
      ]
     },
     "execution_count": 61,
     "metadata": {},
     "output_type": "execute_result"
    }
   ],
   "source": [
    "# using if condition\n",
    "products = {'phone':10,'laptop':0,'charger':32,'tablet':0}\n",
    "\n",
    "{key:value for (key,value) in products.items() if value>0}"
   ]
  },
  {
   "cell_type": "code",
   "execution_count": 62,
   "id": "df62f309",
   "metadata": {},
   "outputs": [
    {
     "data": {
      "text/plain": [
       "{2: {1: 2, 2: 4, 3: 6, 4: 8, 5: 10, 6: 12, 7: 14, 8: 16, 9: 18, 10: 20},\n",
       " 3: {1: 3, 2: 6, 3: 9, 4: 12, 5: 15, 6: 18, 7: 21, 8: 24, 9: 27, 10: 30},\n",
       " 4: {1: 4, 2: 8, 3: 12, 4: 16, 5: 20, 6: 24, 7: 28, 8: 32, 9: 36, 10: 40}}"
      ]
     },
     "execution_count": 62,
     "metadata": {},
     "output_type": "execute_result"
    }
   ],
   "source": [
    "# Nested Comprehension\n",
    "# print tables of number from 2 to 4\n",
    "{i:{j:i*j for j in range(1,11)} for i in range(2,5)}"
   ]
  },
  {
   "cell_type": "code",
   "execution_count": null,
   "id": "0fc57e5f",
   "metadata": {},
   "outputs": [],
   "source": []
  }
 ],
 "metadata": {
  "kernelspec": {
   "display_name": "Python 3 (ipykernel)",
   "language": "python",
   "name": "python3"
  },
  "language_info": {
   "codemirror_mode": {
    "name": "ipython",
    "version": 3
   },
   "file_extension": ".py",
   "mimetype": "text/x-python",
   "name": "python",
   "nbconvert_exporter": "python",
   "pygments_lexer": "ipython3",
   "version": "3.9.12"
  }
 },
 "nbformat": 4,
 "nbformat_minor": 5
}
