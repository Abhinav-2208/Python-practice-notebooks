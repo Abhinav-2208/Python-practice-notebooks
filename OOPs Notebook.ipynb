{
 "cells": [
  {
   "cell_type": "markdown",
   "id": "3a7c5c83",
   "metadata": {},
   "source": [
    "### OOPs in Python"
   ]
  },
  {
   "cell_type": "markdown",
   "id": "7e41e79b",
   "metadata": {},
   "source": [
    "- Object-Oriented Programming makes the program easy to understand as well as efficient.\n",
    "- Since the class is sharable, the code can be reused.\n",
    "- Data is safe and secure with data abstraction.\n",
    "- Polymorphism allows the same interface for different objects, so programmers can write efficient code.\n",
    "\n",
    "We will study the following concepts in OOPs\n",
    "1. Object --> Object is an instance(copy) of class\n",
    "2. Class --> Class is a blueprint that contains Data/variables/attributs and function/behaviour"
   ]
  },
  {
   "cell_type": "code",
   "execution_count": 8,
   "id": "6d490d1c",
   "metadata": {},
   "outputs": [],
   "source": [
    "class Atm:\n",
    "    #constructor have super power it execute without calling it\n",
    "    def __init(self):\n",
    "        print(id(self))\n",
    "        self.pin=''\n",
    "        self.balance=0\n",
    "        self.menu()\n",
    "        \n",
    "    def menu():\n",
    "        user_input=(\"\"\"\n",
    "        Hi how can I help you ?\n",
    "        1. Press 1 to create pin\n",
    "        2. Press 2 to change pin\n",
    "        3. Press 3 to check balance\n",
    "        4. press 4 to withdraw\n",
    "        5. Anything else to exit\n",
    "        \"\"\")\n",
    "        \n",
    "        if user_input=='1':\n",
    "            self.create_pin()\n",
    "        elif user_input=='2':\n",
    "            self.change_pin()\n",
    "        elif user_input=='3':\n",
    "            self.check_balance()\n",
    "        elif user_input=='4':\n",
    "            self.withdraw()\n",
    "        else:\n",
    "            exit()\n",
    "            \n",
    "            \n",
    "    def create_pin(self):\n",
    "        user_pin=input('Enter your pin')\n",
    "        self.pin=user_pin\n",
    "        \n",
    "        user_balance=int(input('Enter the balance'))\n",
    "        self.balance=user_balance\n",
    "        \n",
    "        print('Pin created successfully')\n",
    "        self.menu()\n",
    "        \n",
    "    def change_pin(self):\n",
    "        old_pin=input('Enter the old pin')\n",
    "        \n",
    "        if old_pin==self.pin:\n",
    "            #let him change the pin\n",
    "            new_pin=input('Enter new pin')\n",
    "            self.pin=new_pin\n",
    "            print('Pin change successfully')\n",
    "            self.menu()\n",
    "        \n",
    "        else:\n",
    "            print('Nai change krne de skta re baba')\n",
    "            self.menu()\n",
    "            \n",
    "    def check_balance(self):\n",
    "        user_pin = input('enter your pin')\n",
    "        if user_pin == self.pin:\n",
    "            print('your balance is ',self.balance)\n",
    "        else:\n",
    "            print('chal nikal yahan se')\n",
    "            \n",
    "    def withdraw(self):\n",
    "        user_pin=input('Enter your pin')\n",
    "        if user_pin==self.pin:\n",
    "            #allow to withdraw\n",
    "            amount=int(input('Enter your amount'))\n",
    "            if amount<=self.balance:\n",
    "                self.balance=self.balance-amount\n",
    "                print('Withdrawal successful. balance is',self.balance)\n",
    "            else:\n",
    "                print('abe garib')\n",
    "        else:\n",
    "            print('sale chor')\n",
    "        self.menu()\n",
    "        "
   ]
  },
  {
   "cell_type": "code",
   "execution_count": 9,
   "id": "328d67bb",
   "metadata": {},
   "outputs": [],
   "source": [
    "obj=Atm()"
   ]
  },
  {
   "cell_type": "code",
   "execution_count": null,
   "id": "252b2c2d",
   "metadata": {},
   "outputs": [],
   "source": []
  }
 ],
 "metadata": {
  "kernelspec": {
   "display_name": "Python 3 (ipykernel)",
   "language": "python",
   "name": "python3"
  },
  "language_info": {
   "codemirror_mode": {
    "name": "ipython",
    "version": 3
   },
   "file_extension": ".py",
   "mimetype": "text/x-python",
   "name": "python",
   "nbconvert_exporter": "python",
   "pygments_lexer": "ipython3",
   "version": "3.9.12"
  }
 },
 "nbformat": 4,
 "nbformat_minor": 5
}
