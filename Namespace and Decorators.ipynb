{
 "cells": [
  {
   "cell_type": "markdown",
   "id": "00c00e94",
   "metadata": {},
   "source": [
    "### Namespace"
   ]
  },
  {
   "cell_type": "markdown",
   "id": "096dbae3",
   "metadata": {},
   "source": [
    "A namespace is a space that holds names(identifiers).Programmatically speaking, namespaces are dictionary of identifiers(keys) and their objects(values)\n",
    "\n",
    "There are 4 types of namespaces:\n",
    "\n",
    "- Builtin Namespace\n",
    "- Global Namespace\n",
    "- Enclosing Namespace\n",
    "- Local Namespace"
   ]
  },
  {
   "cell_type": "markdown",
   "id": "71d2d1df",
   "metadata": {},
   "source": [
    "### Scope and LEGB Rule"
   ]
  },
  {
   "cell_type": "markdown",
   "id": "2686f67e",
   "metadata": {},
   "source": [
    "A scope is a textual region of a Python program where a namespace is directly accessible.\n",
    "\n",
    "The interpreter searches for a name from the inside out, looking in the local, enclosing, global, and finally the built-in scope. If the interpreter doesn’t find the name in any of these locations, then Python raises a NameError exception."
   ]
  },
  {
   "cell_type": "code",
   "execution_count": 1,
   "id": "577b6963",
   "metadata": {},
   "outputs": [
    {
     "name": "stdout",
     "output_type": "stream",
     "text": [
      "3\n",
      "2\n"
     ]
    }
   ],
   "source": [
    "# local and global\n",
    "# global var --> variable inside the global scope is known as global variable\n",
    "a = 2\n",
    "\n",
    "def temp():\n",
    "  # local var --> Variable inside the local scope is known as local variable\n",
    "    b = 3\n",
    "    print(b)\n",
    "\n",
    "temp()\n",
    "print(a)"
   ]
  },
  {
   "cell_type": "code",
   "execution_count": 2,
   "id": "5daba15a",
   "metadata": {},
   "outputs": [
    {
     "name": "stdout",
     "output_type": "stream",
     "text": [
      "3\n",
      "2\n"
     ]
    }
   ],
   "source": [
    "# local and global -> same name of variable can have in different scope\n",
    "a = 2\n",
    "\n",
    "def temp():\n",
    "  # local var\n",
    "    a = 3\n",
    "    print(a)\n",
    "\n",
    "temp()\n",
    "print(a)"
   ]
  },
  {
   "cell_type": "code",
   "execution_count": 3,
   "id": "6bb5b29b",
   "metadata": {},
   "outputs": [
    {
     "name": "stdout",
     "output_type": "stream",
     "text": [
      "2\n",
      "2\n"
     ]
    }
   ],
   "source": [
    "# local and global -> local does not have but global has then also code will run\n",
    "a = 2\n",
    "\n",
    "def temp():\n",
    "  # local var\n",
    "  print(a)\n",
    "\n",
    "temp()\n",
    "print(a)\n"
   ]
  },
  {
   "cell_type": "code",
   "execution_count": 4,
   "id": "1c1a044d",
   "metadata": {},
   "outputs": [
    {
     "ename": "UnboundLocalError",
     "evalue": "local variable 'a' referenced before assignment",
     "output_type": "error",
     "traceback": [
      "\u001b[1;31m---------------------------------------------------------------------------\u001b[0m",
      "\u001b[1;31mUnboundLocalError\u001b[0m                         Traceback (most recent call last)",
      "Input \u001b[1;32mIn [4]\u001b[0m, in \u001b[0;36m<cell line: 9>\u001b[1;34m()\u001b[0m\n\u001b[0;32m      6\u001b[0m     a \u001b[38;5;241m+\u001b[39m\u001b[38;5;241m=\u001b[39m \u001b[38;5;241m1\u001b[39m\n\u001b[0;32m      7\u001b[0m     \u001b[38;5;28mprint\u001b[39m(a)\n\u001b[1;32m----> 9\u001b[0m \u001b[43mtemp\u001b[49m\u001b[43m(\u001b[49m\u001b[43m)\u001b[49m\n\u001b[0;32m     10\u001b[0m \u001b[38;5;28mprint\u001b[39m(a)\n",
      "Input \u001b[1;32mIn [4]\u001b[0m, in \u001b[0;36mtemp\u001b[1;34m()\u001b[0m\n\u001b[0;32m      4\u001b[0m \u001b[38;5;28;01mdef\u001b[39;00m \u001b[38;5;21mtemp\u001b[39m():\n\u001b[0;32m      5\u001b[0m   \u001b[38;5;66;03m# local var\u001b[39;00m\n\u001b[1;32m----> 6\u001b[0m     a \u001b[38;5;241m+\u001b[39m\u001b[38;5;241m=\u001b[39m \u001b[38;5;241m1\u001b[39m\n\u001b[0;32m      7\u001b[0m     \u001b[38;5;28mprint\u001b[39m(a)\n",
      "\u001b[1;31mUnboundLocalError\u001b[0m: local variable 'a' referenced before assignment"
     ]
    }
   ],
   "source": [
    "# local and global -> editing of global variable is not possible in local scope\n",
    "a = 2\n",
    "# we can only read/view the global variable in local scope but can not be edited\n",
    "def temp():\n",
    "  # local var\n",
    "    a += 1\n",
    "    print(a)\n",
    "\n",
    "temp()\n",
    "print(a)"
   ]
  },
  {
   "cell_type": "code",
   "execution_count": 5,
   "id": "4f98da99",
   "metadata": {},
   "outputs": [
    {
     "name": "stdout",
     "output_type": "stream",
     "text": [
      "3\n",
      "3\n"
     ]
    }
   ],
   "source": [
    "a = 2\n",
    "\n",
    "def temp():\n",
    "  # we can edit global variable inside the local scope by providing the global keyword\n",
    "    global a\n",
    "    a += 1\n",
    "    print(a)\n",
    "\n",
    "temp()\n",
    "print(a)"
   ]
  },
  {
   "cell_type": "code",
   "execution_count": 6,
   "id": "cc5767aa",
   "metadata": {},
   "outputs": [
    {
     "name": "stdout",
     "output_type": "stream",
     "text": [
      "1\n",
      "1\n"
     ]
    }
   ],
   "source": [
    "# local and global -> global variable can be created inside local scope\n",
    "def temp():\n",
    "  # local var\n",
    "    global a\n",
    "    a = 1\n",
    "    print(a)\n",
    "\n",
    "temp()\n",
    "print(a)"
   ]
  },
  {
   "cell_type": "code",
   "execution_count": 7,
   "id": "9707ef4f",
   "metadata": {},
   "outputs": [
    {
     "name": "stdout",
     "output_type": "stream",
     "text": [
      "5\n",
      "5\n"
     ]
    },
    {
     "ename": "NameError",
     "evalue": "name 'z' is not defined",
     "output_type": "error",
     "traceback": [
      "\u001b[1;31m---------------------------------------------------------------------------\u001b[0m",
      "\u001b[1;31mNameError\u001b[0m                                 Traceback (most recent call last)",
      "Input \u001b[1;32mIn [7]\u001b[0m, in \u001b[0;36m<cell line: 9>\u001b[1;34m()\u001b[0m\n\u001b[0;32m      7\u001b[0m temp(\u001b[38;5;241m5\u001b[39m)\n\u001b[0;32m      8\u001b[0m \u001b[38;5;28mprint\u001b[39m(a)\n\u001b[1;32m----> 9\u001b[0m \u001b[38;5;28mprint\u001b[39m(\u001b[43mz\u001b[49m)\n",
      "\u001b[1;31mNameError\u001b[0m: name 'z' is not defined"
     ]
    }
   ],
   "source": [
    "# local and global -> function parameter is local variable\n",
    "def temp(z):\n",
    "  # local var\n",
    "  print(z)\n",
    "\n",
    "a = 5\n",
    "temp(5)\n",
    "print(a)\n",
    "print(z) # since it is a local variable thus it is throwing the error"
   ]
  },
  {
   "cell_type": "code",
   "execution_count": 8,
   "id": "876758c7",
   "metadata": {},
   "outputs": [
    {
     "name": "stdout",
     "output_type": "stream",
     "text": [
      "['ArithmeticError', 'AssertionError', 'AttributeError', 'BaseException', 'BlockingIOError', 'BrokenPipeError', 'BufferError', 'BytesWarning', 'ChildProcessError', 'ConnectionAbortedError', 'ConnectionError', 'ConnectionRefusedError', 'ConnectionResetError', 'DeprecationWarning', 'EOFError', 'Ellipsis', 'EnvironmentError', 'Exception', 'False', 'FileExistsError', 'FileNotFoundError', 'FloatingPointError', 'FutureWarning', 'GeneratorExit', 'IOError', 'ImportError', 'ImportWarning', 'IndentationError', 'IndexError', 'InterruptedError', 'IsADirectoryError', 'KeyError', 'KeyboardInterrupt', 'LookupError', 'MemoryError', 'ModuleNotFoundError', 'NameError', 'None', 'NotADirectoryError', 'NotImplemented', 'NotImplementedError', 'OSError', 'OverflowError', 'PendingDeprecationWarning', 'PermissionError', 'ProcessLookupError', 'RecursionError', 'ReferenceError', 'ResourceWarning', 'RuntimeError', 'RuntimeWarning', 'StopAsyncIteration', 'StopIteration', 'SyntaxError', 'SyntaxWarning', 'SystemError', 'SystemExit', 'TabError', 'TimeoutError', 'True', 'TypeError', 'UnboundLocalError', 'UnicodeDecodeError', 'UnicodeEncodeError', 'UnicodeError', 'UnicodeTranslateError', 'UnicodeWarning', 'UserWarning', 'ValueError', 'Warning', 'WindowsError', 'ZeroDivisionError', '__IPYTHON__', '__build_class__', '__debug__', '__doc__', '__import__', '__loader__', '__name__', '__package__', '__spec__', 'abs', 'all', 'any', 'ascii', 'bin', 'bool', 'breakpoint', 'bytearray', 'bytes', 'callable', 'chr', 'classmethod', 'compile', 'complex', 'copyright', 'credits', 'delattr', 'dict', 'dir', 'display', 'divmod', 'enumerate', 'eval', 'exec', 'execfile', 'filter', 'float', 'format', 'frozenset', 'get_ipython', 'getattr', 'globals', 'hasattr', 'hash', 'help', 'hex', 'id', 'input', 'int', 'isinstance', 'issubclass', 'iter', 'len', 'license', 'list', 'locals', 'map', 'max', 'memoryview', 'min', 'next', 'object', 'oct', 'open', 'ord', 'pow', 'print', 'property', 'range', 'repr', 'reversed', 'round', 'runfile', 'set', 'setattr', 'slice', 'sorted', 'staticmethod', 'str', 'sum', 'super', 'tuple', 'type', 'vars', 'zip']\n"
     ]
    }
   ],
   "source": [
    "# built-in scope --> All the functions and attributes, error came in the builtin scope\n",
    "# order that follows --> Local --> Global --> Builtin\n",
    "import builtins\n",
    "print(dir(builtins))"
   ]
  },
  {
   "cell_type": "code",
   "execution_count": 10,
   "id": "91294b30",
   "metadata": {},
   "outputs": [
    {
     "name": "stdout",
     "output_type": "stream",
     "text": [
      "inner function\n",
      "outer function\n",
      "main program\n"
     ]
    }
   ],
   "source": [
    "# Enclosing scope --> Inner function ka scope local scope main program ka scope global scope outer function ka scope \n",
    "# enclosing scope bola jata hai ya fir non local scope\n",
    "def outer():\n",
    "    def inner():\n",
    "        print('inner function')\n",
    "    inner()\n",
    "    print('outer function')\n",
    "\n",
    "\n",
    "outer()\n",
    "print('main program')"
   ]
  },
  {
   "cell_type": "code",
   "execution_count": 11,
   "id": "4fa7d5de",
   "metadata": {},
   "outputs": [
    {
     "name": "stdout",
     "output_type": "stream",
     "text": [
      "inner 2\n",
      "outer 2\n",
      "main program\n"
     ]
    }
   ],
   "source": [
    "# nonlocal keyword\n",
    "def outer():\n",
    "    a = 1\n",
    "    def inner():\n",
    "        nonlocal a\n",
    "        a += 1\n",
    "        print('inner',a)\n",
    "    inner()\n",
    "    print('outer',a)\n",
    "\n",
    "\n",
    "outer()\n",
    "print('main program')"
   ]
  },
  {
   "cell_type": "markdown",
   "id": "c749281b",
   "metadata": {},
   "source": [
    "### Decorators"
   ]
  },
  {
   "cell_type": "markdown",
   "id": "9433ef2b",
   "metadata": {},
   "source": [
    "A decorator in python is a function that receives another function as input and adds some functionality(decoration) to and it and returns it.\n",
    "\n",
    "This can happen only because python functions are 1st class citizens.\n",
    "\n",
    "There are 2 types of decorators available in python\n",
    "\n",
    "- Built in decorators like @staticmethod, @classmethod, @abstractmethod and @property etc\n",
    "- User defined decorators that we programmers can create according to our needs"
   ]
  },
  {
   "cell_type": "code",
   "execution_count": 1,
   "id": "b7770b6e",
   "metadata": {},
   "outputs": [
    {
     "data": {
      "text/plain": [
       "4"
      ]
     },
     "execution_count": 1,
     "metadata": {},
     "output_type": "execute_result"
    }
   ],
   "source": [
    "# Python are 1st class function\n",
    "\n",
    "def modify(func,num):\n",
    "    return func(num)\n",
    "\n",
    "def square(num):\n",
    "    return num**2\n",
    "\n",
    "modify(square,2)"
   ]
  },
  {
   "cell_type": "code",
   "execution_count": 3,
   "id": "30808b0f",
   "metadata": {},
   "outputs": [
    {
     "name": "stdout",
     "output_type": "stream",
     "text": [
      "***********************\n",
      "hello\n",
      "***********************\n",
      "***********************\n",
      "hello nitish\n",
      "***********************\n"
     ]
    }
   ],
   "source": [
    "# simple example\n",
    "\n",
    "def my_decorator(func):\n",
    "    def wrapper():\n",
    "        print('***********************')\n",
    "        func()\n",
    "        print('***********************')\n",
    "    return wrapper\n",
    "\n",
    "def hello():\n",
    "    print('hello')\n",
    "\n",
    "def display():\n",
    "    print('hello nitish')\n",
    "\n",
    "a = my_decorator(hello)\n",
    "a()\n",
    "\n",
    "b = my_decorator(display)\n",
    "b()"
   ]
  },
  {
   "cell_type": "code",
   "execution_count": 5,
   "id": "ccfd699d",
   "metadata": {},
   "outputs": [
    {
     "name": "stdout",
     "output_type": "stream",
     "text": [
      "***********************\n",
      "hello\n",
      "***********************\n",
      "***********************\n",
      "Hello Abhinav\n",
      "***********************\n"
     ]
    }
   ],
   "source": [
    "# Better syntax?\n",
    "# simple example\n",
    "\n",
    "def my_decorator(func):\n",
    "    def wrapper():\n",
    "        print('***********************')\n",
    "        func()\n",
    "        print('***********************')\n",
    "    return wrapper\n",
    "\n",
    "@my_decorator\n",
    "def hello():\n",
    "  print('hello')\n",
    "#before the function define the decorator with the @ symbol\n",
    "@my_decorator\n",
    "def display():\n",
    "    print('Hello Abhinav')\n",
    "\n",
    "hello()\n",
    "display()"
   ]
  },
  {
   "cell_type": "code",
   "execution_count": 6,
   "id": "abb55673",
   "metadata": {},
   "outputs": [
    {
     "name": "stdout",
     "output_type": "stream",
     "text": [
      "hello wolrd\n",
      "time taken by hello 2.0099217891693115 secs\n",
      "4\n",
      "time taken by square 1.008265733718872 secs\n",
      "8\n",
      "time taken by power 0.0 secs\n"
     ]
    }
   ],
   "source": [
    "# anything meaningful? --> This decorator calculates the time to execute a function\n",
    "import time\n",
    "\n",
    "def timer(func):\n",
    "    def wrapper(*args):\n",
    "        start = time.time()\n",
    "        func(*args)\n",
    "        print('time taken by',func.__name__,time.time()-start,'secs')\n",
    "    return wrapper\n",
    "\n",
    "@timer\n",
    "def hello():\n",
    "    print('hello wolrd')\n",
    "    time.sleep(2)\n",
    "\n",
    "@timer\n",
    "def square(num):\n",
    "    time.sleep(1)\n",
    "    print(num**2)\n",
    "\n",
    "@timer\n",
    "def power(a,b):\n",
    "    print(a**b)\n",
    "\n",
    "hello()\n",
    "square(2)\n",
    "power(2,3)\n"
   ]
  },
  {
   "cell_type": "code",
   "execution_count": 7,
   "id": "106d511a",
   "metadata": {},
   "outputs": [
    {
     "name": "stdout",
     "output_type": "stream",
     "text": [
      "4\n",
      "hello Abhinav\n"
     ]
    }
   ],
   "source": [
    "def sanity_check(data_type):\n",
    "    def outer_wrapper(func):\n",
    "        def inner_wrapper(*args):\n",
    "            if type(*args) == data_type:\n",
    "                func(*args)\n",
    "            else:\n",
    "                raise TypeError('Ye datatype nai chalega')\n",
    "        return inner_wrapper\n",
    "    return outer_wrapper\n",
    "\n",
    "@sanity_check(int)\n",
    "def square(num):\n",
    "    print(num**2)\n",
    "\n",
    "@sanity_check(str)\n",
    "def greet(name):\n",
    "    print('hello',name)\n",
    "\n",
    "square(2)\n",
    "greet('Abhinav')"
   ]
  },
  {
   "cell_type": "markdown",
   "id": "55b31af4",
   "metadata": {},
   "source": [
    "### What is an Iteration ?"
   ]
  },
  {
   "cell_type": "code",
   "execution_count": null,
   "id": "afcf0e80",
   "metadata": {},
   "outputs": [],
   "source": []
  }
 ],
 "metadata": {
  "kernelspec": {
   "display_name": "Python 3 (ipykernel)",
   "language": "python",
   "name": "python3"
  },
  "language_info": {
   "codemirror_mode": {
    "name": "ipython",
    "version": 3
   },
   "file_extension": ".py",
   "mimetype": "text/x-python",
   "name": "python",
   "nbconvert_exporter": "python",
   "pygments_lexer": "ipython3",
   "version": "3.9.12"
  }
 },
 "nbformat": 4,
 "nbformat_minor": 5
}
